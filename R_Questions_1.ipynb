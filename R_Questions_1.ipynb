{
 "cells": [
  {
   "cell_type": "code",
   "execution_count": 7,
   "metadata": {},
   "outputs": [],
   "source": [
    "library(readxl)\n",
    "library(data.table)"
   ]
  },
  {
   "cell_type": "code",
   "execution_count": 8,
   "metadata": {},
   "outputs": [],
   "source": [
    "set.seed(1234)"
   ]
  },
  {
   "cell_type": "markdown",
   "metadata": {},
   "source": [
    "# (a)"
   ]
  },
  {
   "cell_type": "markdown",
   "metadata": {},
   "source": [
    "I think $n = 1000$ is a good number for the size of `demos`."
   ]
  },
  {
   "cell_type": "code",
   "execution_count": 9,
   "metadata": {},
   "outputs": [],
   "source": [
    "n = 1000"
   ]
  },
  {
   "cell_type": "code",
   "execution_count": 10,
   "metadata": {},
   "outputs": [],
   "source": [
    "birth_dt = sample(seq(as.Date('1940/01/01'), as.Date('2019/12/31'), by=\"day\"), n)"
   ]
  },
  {
   "cell_type": "markdown",
   "metadata": {},
   "source": [
    "(Note: this is definitely not the same as the date range you asked for, but bear with me, I'll explain at the very end why I made this decision)."
   ]
  },
  {
   "cell_type": "markdown",
   "metadata": {},
   "source": [
    "I suppose I could use numbers between 1 and $n$ as the ids, but that feels less like how a real id system. Of course, the ids aren't a numerical variable more than a categorical one so it doesn't matter too much, but I think using something that feels more like real ids would also be a bit more fun."
   ]
  },
  {
   "cell_type": "code",
   "execution_count": 11,
   "metadata": {},
   "outputs": [],
   "source": [
    "counties = read.csv(\"Alphabetical-List-Of-California-Counties.csv\")[,1]"
   ]
  },
  {
   "cell_type": "markdown",
   "metadata": {},
   "source": [
    "Then we create the basic scaffolding of our dataset. This involves counting up id's from 1 to $n$, and using our birth date samples, and then randomly picking a gender and county."
   ]
  },
  {
   "cell_type": "code",
   "execution_count": 12,
   "metadata": {},
   "outputs": [],
   "source": [
    "demo = data.table(id=1:n,\n",
    "           birth_dt=birth_dt,\n",
    "           gender=sample(c(1L,2L), size=n, replace=TRUE),\n",
    "           county=sample(counties, size=n, replace=TRUE)\n",
    "          )\n",
    "\n",
    "setkey(demo, id)"
   ]
  },
  {
   "cell_type": "code",
   "execution_count": 13,
   "metadata": {
    "scrolled": false
   },
   "outputs": [
    {
     "data": {
      "text/html": [
       "<table class=\"dataframe\">\n",
       "<caption>A data.table: 6 × 4</caption>\n",
       "<thead>\n",
       "\t<tr><th scope=col>id</th><th scope=col>birth_dt</th><th scope=col>gender</th><th scope=col>county</th></tr>\n",
       "\t<tr><th scope=col>&lt;int&gt;</th><th scope=col>&lt;date&gt;</th><th scope=col>&lt;int&gt;</th><th scope=col>&lt;chr&gt;</th></tr>\n",
       "</thead>\n",
       "<tbody>\n",
       "\t<tr><td>1</td><td>1960-05-26</td><td>2</td><td>Mendocino</td></tr>\n",
       "\t<tr><td>2</td><td>1961-12-11</td><td>2</td><td>Inyo     </td></tr>\n",
       "\t<tr><td>3</td><td>1959-08-10</td><td>1</td><td>El Dorado</td></tr>\n",
       "\t<tr><td>4</td><td>1962-02-19</td><td>2</td><td>Trinity  </td></tr>\n",
       "\t<tr><td>5</td><td>2004-10-03</td><td>1</td><td>Mariposa </td></tr>\n",
       "\t<tr><td>6</td><td>1965-03-05</td><td>1</td><td>Placer   </td></tr>\n",
       "</tbody>\n",
       "</table>\n"
      ],
      "text/latex": [
       "A data.table: 6 × 4\n",
       "\\begin{tabular}{llll}\n",
       " id & birth\\_dt & gender & county\\\\\n",
       " <int> & <date> & <int> & <chr>\\\\\n",
       "\\hline\n",
       "\t 1 & 1960-05-26 & 2 & Mendocino\\\\\n",
       "\t 2 & 1961-12-11 & 2 & Inyo     \\\\\n",
       "\t 3 & 1959-08-10 & 1 & El Dorado\\\\\n",
       "\t 4 & 1962-02-19 & 2 & Trinity  \\\\\n",
       "\t 5 & 2004-10-03 & 1 & Mariposa \\\\\n",
       "\t 6 & 1965-03-05 & 1 & Placer   \\\\\n",
       "\\end{tabular}\n"
      ],
      "text/markdown": [
       "\n",
       "A data.table: 6 × 4\n",
       "\n",
       "| id &lt;int&gt; | birth_dt &lt;date&gt; | gender &lt;int&gt; | county &lt;chr&gt; |\n",
       "|---|---|---|---|\n",
       "| 1 | 1960-05-26 | 2 | Mendocino |\n",
       "| 2 | 1961-12-11 | 2 | Inyo      |\n",
       "| 3 | 1959-08-10 | 1 | El Dorado |\n",
       "| 4 | 1962-02-19 | 2 | Trinity   |\n",
       "| 5 | 2004-10-03 | 1 | Mariposa  |\n",
       "| 6 | 1965-03-05 | 1 | Placer    |\n",
       "\n"
      ],
      "text/plain": [
       "  id birth_dt   gender county   \n",
       "1 1  1960-05-26 2      Mendocino\n",
       "2 2  1961-12-11 2      Inyo     \n",
       "3 3  1959-08-10 1      El Dorado\n",
       "4 4  1962-02-19 2      Trinity  \n",
       "5 5  2004-10-03 1      Mariposa \n",
       "6 6  1965-03-05 1      Placer   "
      ]
     },
     "metadata": {},
     "output_type": "display_data"
    }
   ],
   "source": [
    "head(demo)"
   ]
  },
  {
   "cell_type": "markdown",
   "metadata": {},
   "source": [
    "## (iv)\n",
    "\n",
    "Right, so now we need create `Medical_visit`. My plan is to just start with creating a vector of ids, paying attention to the fact that there can be multiple of the same id on different days.\n",
    "\n",
    "My original plan was to sample `n` entries from a vector that looked like (1,2,3,4,5) to get the number of times each id should appear, and weigh the choices with 80% for a 1 (80% chance of only one visit), then evenly split the remaining 20%. However, this of course doesn't guarantee *exactly* 20% of ids have only one visit. I know that the numbers probably don't have to be that precise, but I thought it would also be more intuitive.\n",
    "\n",
    "So as for the strategy, we can just create a vector of $.70 \\cdot n$ ones, and then another vector of $.2 \\cdot n$ non-ones sampled from (2,3,4,5)"
   ]
  },
  {
   "cell_type": "code",
   "execution_count": 14,
   "metadata": {},
   "outputs": [],
   "source": [
    "one_visit = rep(1, .7 * n)\n",
    "\n",
    "no_visit = rep(0, .1 * n)"
   ]
  },
  {
   "cell_type": "markdown",
   "metadata": {},
   "source": [
    "So now for the multiple visits, I decided to have a bit of fun. I remembered in one of my probability classes that we learned about the Poisson distribution, which can represent the amount of time before an event that happens randomly occurs again. This can be a mini-simulation for the random variable of when people need to visit the hospital.\n",
    "\n",
    "Using this idea, we can use the distribution, and then imagine in this normalized scenario that getting a number of 3.17 for example means you needed to go once with a \"frequency\" of 3.17, or 3.17 times this time period.\n",
    "\n",
    "These are ones for multiple visits, so due to truncation and to fit the bill we just need to add 2.\n",
    "\n",
    "At the end of the day, I could have just sampled uniformly, so this is just me having a bit of fun."
   ]
  },
  {
   "cell_type": "code",
   "execution_count": 15,
   "metadata": {},
   "outputs": [
    {
     "data": {
      "text/html": [
       "<style>\n",
       ".list-inline {list-style: none; margin:0; padding: 0}\n",
       ".list-inline>li {display: inline-block}\n",
       ".list-inline>li:not(:last-child)::after {content: \"\\00b7\"; padding: 0 .5ex}\n",
       "</style>\n",
       "<ol class=list-inline><li>2</li><li>2</li><li>2</li><li>2</li><li>2</li><li>2</li><li>2</li><li>3</li><li>3</li><li>2</li><li>2</li><li>2</li><li>2</li><li>2</li><li>2</li><li>2</li><li>2</li><li>2</li><li>2</li><li>3</li><li>2</li><li>3</li><li>5</li><li>4</li><li>3</li><li>3</li><li>2</li><li>2</li><li>4</li><li>2</li><li>2</li><li>2</li><li>2</li><li>2</li><li>3</li><li>2</li><li>2</li><li>2</li><li>3</li><li>2</li><li>2</li><li>2</li><li>2</li><li>2</li><li>2</li><li>2</li><li>2</li><li>2</li><li>2</li><li>2</li><li>3</li><li>3</li><li>3</li><li>3</li><li>2</li><li>2</li><li>2</li><li>2</li><li>2</li><li>2</li><li>2</li><li>2</li><li>3</li><li>2</li><li>3</li><li>3</li><li>2</li><li>2</li><li>2</li><li>2</li><li>2</li><li>2</li><li>2</li><li>3</li><li>2</li><li>2</li><li>2</li><li>2</li><li>2</li><li>3</li><li>2</li><li>2</li><li>2</li><li>2</li><li>3</li><li>2</li><li>3</li><li>2</li><li>2</li><li>3</li><li>2</li><li>2</li><li>3</li><li>2</li><li>2</li><li>3</li><li>2</li><li>2</li><li>2</li><li>2</li><li>2</li><li>2</li><li>2</li><li>2</li><li>2</li><li>2</li><li>2</li><li>2</li><li>2</li><li>2</li><li>2</li><li>2</li><li>2</li><li>2</li><li>2</li><li>2</li><li>3</li><li>2</li><li>3</li><li>2</li><li>3</li><li>2</li><li>2</li><li>2</li><li>2</li><li>2</li><li>3</li><li>2</li><li>2</li><li>2</li><li>3</li><li>2</li><li>2</li><li>3</li><li>2</li><li>2</li><li>2</li><li>2</li><li>2</li><li>3</li><li>2</li><li>2</li><li>2</li><li>2</li><li>2</li><li>3</li><li>2</li><li>2</li><li>2</li><li>3</li><li>2</li><li>2</li><li>2</li><li>3</li><li>3</li><li>2</li><li>2</li><li>2</li><li>2</li><li>2</li><li>2</li><li>2</li><li>2</li><li>2</li><li>2</li><li>2</li><li>2</li><li>2</li><li>2</li><li>3</li><li>2</li><li>3</li><li>2</li><li>2</li><li>3</li><li>3</li><li>2</li><li>2</li><li>3</li><li>2</li><li>2</li><li>2</li><li>2</li><li>2</li><li>2</li><li>2</li><li>2</li><li>2</li><li>2</li><li>2</li><li>2</li><li>2</li><li>2</li><li>2</li><li>2</li><li>2</li><li>2</li><li>2</li><li>2</li><li>2</li></ol>\n"
      ],
      "text/latex": [
       "\\begin{enumerate*}\n",
       "\\item 2\n",
       "\\item 2\n",
       "\\item 2\n",
       "\\item 2\n",
       "\\item 2\n",
       "\\item 2\n",
       "\\item 2\n",
       "\\item 3\n",
       "\\item 3\n",
       "\\item 2\n",
       "\\item 2\n",
       "\\item 2\n",
       "\\item 2\n",
       "\\item 2\n",
       "\\item 2\n",
       "\\item 2\n",
       "\\item 2\n",
       "\\item 2\n",
       "\\item 2\n",
       "\\item 3\n",
       "\\item 2\n",
       "\\item 3\n",
       "\\item 5\n",
       "\\item 4\n",
       "\\item 3\n",
       "\\item 3\n",
       "\\item 2\n",
       "\\item 2\n",
       "\\item 4\n",
       "\\item 2\n",
       "\\item 2\n",
       "\\item 2\n",
       "\\item 2\n",
       "\\item 2\n",
       "\\item 3\n",
       "\\item 2\n",
       "\\item 2\n",
       "\\item 2\n",
       "\\item 3\n",
       "\\item 2\n",
       "\\item 2\n",
       "\\item 2\n",
       "\\item 2\n",
       "\\item 2\n",
       "\\item 2\n",
       "\\item 2\n",
       "\\item 2\n",
       "\\item 2\n",
       "\\item 2\n",
       "\\item 2\n",
       "\\item 3\n",
       "\\item 3\n",
       "\\item 3\n",
       "\\item 3\n",
       "\\item 2\n",
       "\\item 2\n",
       "\\item 2\n",
       "\\item 2\n",
       "\\item 2\n",
       "\\item 2\n",
       "\\item 2\n",
       "\\item 2\n",
       "\\item 3\n",
       "\\item 2\n",
       "\\item 3\n",
       "\\item 3\n",
       "\\item 2\n",
       "\\item 2\n",
       "\\item 2\n",
       "\\item 2\n",
       "\\item 2\n",
       "\\item 2\n",
       "\\item 2\n",
       "\\item 3\n",
       "\\item 2\n",
       "\\item 2\n",
       "\\item 2\n",
       "\\item 2\n",
       "\\item 2\n",
       "\\item 3\n",
       "\\item 2\n",
       "\\item 2\n",
       "\\item 2\n",
       "\\item 2\n",
       "\\item 3\n",
       "\\item 2\n",
       "\\item 3\n",
       "\\item 2\n",
       "\\item 2\n",
       "\\item 3\n",
       "\\item 2\n",
       "\\item 2\n",
       "\\item 3\n",
       "\\item 2\n",
       "\\item 2\n",
       "\\item 3\n",
       "\\item 2\n",
       "\\item 2\n",
       "\\item 2\n",
       "\\item 2\n",
       "\\item 2\n",
       "\\item 2\n",
       "\\item 2\n",
       "\\item 2\n",
       "\\item 2\n",
       "\\item 2\n",
       "\\item 2\n",
       "\\item 2\n",
       "\\item 2\n",
       "\\item 2\n",
       "\\item 2\n",
       "\\item 2\n",
       "\\item 2\n",
       "\\item 2\n",
       "\\item 2\n",
       "\\item 2\n",
       "\\item 3\n",
       "\\item 2\n",
       "\\item 3\n",
       "\\item 2\n",
       "\\item 3\n",
       "\\item 2\n",
       "\\item 2\n",
       "\\item 2\n",
       "\\item 2\n",
       "\\item 2\n",
       "\\item 3\n",
       "\\item 2\n",
       "\\item 2\n",
       "\\item 2\n",
       "\\item 3\n",
       "\\item 2\n",
       "\\item 2\n",
       "\\item 3\n",
       "\\item 2\n",
       "\\item 2\n",
       "\\item 2\n",
       "\\item 2\n",
       "\\item 2\n",
       "\\item 3\n",
       "\\item 2\n",
       "\\item 2\n",
       "\\item 2\n",
       "\\item 2\n",
       "\\item 2\n",
       "\\item 3\n",
       "\\item 2\n",
       "\\item 2\n",
       "\\item 2\n",
       "\\item 3\n",
       "\\item 2\n",
       "\\item 2\n",
       "\\item 2\n",
       "\\item 3\n",
       "\\item 3\n",
       "\\item 2\n",
       "\\item 2\n",
       "\\item 2\n",
       "\\item 2\n",
       "\\item 2\n",
       "\\item 2\n",
       "\\item 2\n",
       "\\item 2\n",
       "\\item 2\n",
       "\\item 2\n",
       "\\item 2\n",
       "\\item 2\n",
       "\\item 2\n",
       "\\item 2\n",
       "\\item 3\n",
       "\\item 2\n",
       "\\item 3\n",
       "\\item 2\n",
       "\\item 2\n",
       "\\item 3\n",
       "\\item 3\n",
       "\\item 2\n",
       "\\item 2\n",
       "\\item 3\n",
       "\\item 2\n",
       "\\item 2\n",
       "\\item 2\n",
       "\\item 2\n",
       "\\item 2\n",
       "\\item 2\n",
       "\\item 2\n",
       "\\item 2\n",
       "\\item 2\n",
       "\\item 2\n",
       "\\item 2\n",
       "\\item 2\n",
       "\\item 2\n",
       "\\item 2\n",
       "\\item 2\n",
       "\\item 2\n",
       "\\item 2\n",
       "\\item 2\n",
       "\\item 2\n",
       "\\item 2\n",
       "\\item 2\n",
       "\\end{enumerate*}\n"
      ],
      "text/markdown": [
       "1. 2\n",
       "2. 2\n",
       "3. 2\n",
       "4. 2\n",
       "5. 2\n",
       "6. 2\n",
       "7. 2\n",
       "8. 3\n",
       "9. 3\n",
       "10. 2\n",
       "11. 2\n",
       "12. 2\n",
       "13. 2\n",
       "14. 2\n",
       "15. 2\n",
       "16. 2\n",
       "17. 2\n",
       "18. 2\n",
       "19. 2\n",
       "20. 3\n",
       "21. 2\n",
       "22. 3\n",
       "23. 5\n",
       "24. 4\n",
       "25. 3\n",
       "26. 3\n",
       "27. 2\n",
       "28. 2\n",
       "29. 4\n",
       "30. 2\n",
       "31. 2\n",
       "32. 2\n",
       "33. 2\n",
       "34. 2\n",
       "35. 3\n",
       "36. 2\n",
       "37. 2\n",
       "38. 2\n",
       "39. 3\n",
       "40. 2\n",
       "41. 2\n",
       "42. 2\n",
       "43. 2\n",
       "44. 2\n",
       "45. 2\n",
       "46. 2\n",
       "47. 2\n",
       "48. 2\n",
       "49. 2\n",
       "50. 2\n",
       "51. 3\n",
       "52. 3\n",
       "53. 3\n",
       "54. 3\n",
       "55. 2\n",
       "56. 2\n",
       "57. 2\n",
       "58. 2\n",
       "59. 2\n",
       "60. 2\n",
       "61. 2\n",
       "62. 2\n",
       "63. 3\n",
       "64. 2\n",
       "65. 3\n",
       "66. 3\n",
       "67. 2\n",
       "68. 2\n",
       "69. 2\n",
       "70. 2\n",
       "71. 2\n",
       "72. 2\n",
       "73. 2\n",
       "74. 3\n",
       "75. 2\n",
       "76. 2\n",
       "77. 2\n",
       "78. 2\n",
       "79. 2\n",
       "80. 3\n",
       "81. 2\n",
       "82. 2\n",
       "83. 2\n",
       "84. 2\n",
       "85. 3\n",
       "86. 2\n",
       "87. 3\n",
       "88. 2\n",
       "89. 2\n",
       "90. 3\n",
       "91. 2\n",
       "92. 2\n",
       "93. 3\n",
       "94. 2\n",
       "95. 2\n",
       "96. 3\n",
       "97. 2\n",
       "98. 2\n",
       "99. 2\n",
       "100. 2\n",
       "101. 2\n",
       "102. 2\n",
       "103. 2\n",
       "104. 2\n",
       "105. 2\n",
       "106. 2\n",
       "107. 2\n",
       "108. 2\n",
       "109. 2\n",
       "110. 2\n",
       "111. 2\n",
       "112. 2\n",
       "113. 2\n",
       "114. 2\n",
       "115. 2\n",
       "116. 2\n",
       "117. 3\n",
       "118. 2\n",
       "119. 3\n",
       "120. 2\n",
       "121. 3\n",
       "122. 2\n",
       "123. 2\n",
       "124. 2\n",
       "125. 2\n",
       "126. 2\n",
       "127. 3\n",
       "128. 2\n",
       "129. 2\n",
       "130. 2\n",
       "131. 3\n",
       "132. 2\n",
       "133. 2\n",
       "134. 3\n",
       "135. 2\n",
       "136. 2\n",
       "137. 2\n",
       "138. 2\n",
       "139. 2\n",
       "140. 3\n",
       "141. 2\n",
       "142. 2\n",
       "143. 2\n",
       "144. 2\n",
       "145. 2\n",
       "146. 3\n",
       "147. 2\n",
       "148. 2\n",
       "149. 2\n",
       "150. 3\n",
       "151. 2\n",
       "152. 2\n",
       "153. 2\n",
       "154. 3\n",
       "155. 3\n",
       "156. 2\n",
       "157. 2\n",
       "158. 2\n",
       "159. 2\n",
       "160. 2\n",
       "161. 2\n",
       "162. 2\n",
       "163. 2\n",
       "164. 2\n",
       "165. 2\n",
       "166. 2\n",
       "167. 2\n",
       "168. 2\n",
       "169. 2\n",
       "170. 3\n",
       "171. 2\n",
       "172. 3\n",
       "173. 2\n",
       "174. 2\n",
       "175. 3\n",
       "176. 3\n",
       "177. 2\n",
       "178. 2\n",
       "179. 3\n",
       "180. 2\n",
       "181. 2\n",
       "182. 2\n",
       "183. 2\n",
       "184. 2\n",
       "185. 2\n",
       "186. 2\n",
       "187. 2\n",
       "188. 2\n",
       "189. 2\n",
       "190. 2\n",
       "191. 2\n",
       "192. 2\n",
       "193. 2\n",
       "194. 2\n",
       "195. 2\n",
       "196. 2\n",
       "197. 2\n",
       "198. 2\n",
       "199. 2\n",
       "200. 2\n",
       "\n",
       "\n"
      ],
      "text/plain": [
       "  [1] 2 2 2 2 2 2 2 3 3 2 2 2 2 2 2 2 2 2 2 3 2 3 5 4 3 3 2 2 4 2 2 2 2 2 3 2 2\n",
       " [38] 2 3 2 2 2 2 2 2 2 2 2 2 2 3 3 3 3 2 2 2 2 2 2 2 2 3 2 3 3 2 2 2 2 2 2 2 3\n",
       " [75] 2 2 2 2 2 3 2 2 2 2 3 2 3 2 2 3 2 2 3 2 2 3 2 2 2 2 2 2 2 2 2 2 2 2 2 2 2\n",
       "[112] 2 2 2 2 2 3 2 3 2 3 2 2 2 2 2 3 2 2 2 3 2 2 3 2 2 2 2 2 3 2 2 2 2 2 3 2 2\n",
       "[149] 2 3 2 2 2 3 3 2 2 2 2 2 2 2 2 2 2 2 2 2 2 3 2 3 2 2 3 3 2 2 3 2 2 2 2 2 2\n",
       "[186] 2 2 2 2 2 2 2 2 2 2 2 2 2 2 2"
      ]
     },
     "metadata": {},
     "output_type": "display_data"
    }
   ],
   "source": [
    "mult_visits = trunc(rpois(.2 * n, lambda = .3)) / 1 + 2\n",
    "mult_visits"
   ]
  },
  {
   "cell_type": "code",
   "execution_count": 16,
   "metadata": {},
   "outputs": [],
   "source": [
    "visits_num = sample(c(one_visit, no_visit, mult_visits))"
   ]
  },
  {
   "cell_type": "code",
   "execution_count": 17,
   "metadata": {
    "scrolled": true
   },
   "outputs": [
    {
     "data": {
      "text/html": [
       "1000"
      ],
      "text/latex": [
       "1000"
      ],
      "text/markdown": [
       "1000"
      ],
      "text/plain": [
       "[1] 1000"
      ]
     },
     "metadata": {},
     "output_type": "display_data"
    },
    {
     "data": {
      "text/html": [
       "1145"
      ],
      "text/latex": [
       "1145"
      ],
      "text/markdown": [
       "1145"
      ],
      "text/plain": [
       "[1] 1145"
      ]
     },
     "metadata": {},
     "output_type": "display_data"
    }
   ],
   "source": [
    "length(visits_num)\n",
    "sum(visits_num)"
   ]
  },
  {
   "cell_type": "markdown",
   "metadata": {},
   "source": [
    "So this represents that we have 1000 total ids, and 1145 total visits after accounting for people who didn't visit at all, and people who visit more than once."
   ]
  },
  {
   "cell_type": "markdown",
   "metadata": {},
   "source": [
    "Then was we planned earlier, we can finally use `rep` to get one row (one visit) repeating a number of times based on `visits_num`."
   ]
  },
  {
   "cell_type": "code",
   "execution_count": 29,
   "metadata": {},
   "outputs": [],
   "source": [
    "Medical_visit = demo[rep(seq_len(nrow(demo)), visits_num), ]"
   ]
  },
  {
   "cell_type": "code",
   "execution_count": 30,
   "metadata": {},
   "outputs": [],
   "source": [
    "Medical_visit[, service_date := sample(seq(max(as.Date('2018/01/01'), birth_dt), as.Date(\"2019/12/31\"), by=\"day\"), size = 1, replace = TRUE), by=1:nrow(Medical_visit)]\n",
    "Medical_visit[, service_num  := sample(seq(from=1, to=20), size = .N, replace = FALSE), by=.(id,service_date)]"
   ]
  },
  {
   "cell_type": "code",
   "execution_count": 31,
   "metadata": {
    "scrolled": true
   },
   "outputs": [
    {
     "data": {
      "text/html": [
       "<table class=\"dataframe\">\n",
       "<caption>A data.table: 6 × 6</caption>\n",
       "<thead>\n",
       "\t<tr><th scope=col>id</th><th scope=col>birth_dt</th><th scope=col>gender</th><th scope=col>county</th><th scope=col>service_date</th><th scope=col>service_num</th></tr>\n",
       "\t<tr><th scope=col>&lt;int&gt;</th><th scope=col>&lt;date&gt;</th><th scope=col>&lt;int&gt;</th><th scope=col>&lt;chr&gt;</th><th scope=col>&lt;date&gt;</th><th scope=col>&lt;int&gt;</th></tr>\n",
       "</thead>\n",
       "<tbody>\n",
       "\t<tr><td>1</td><td>1960-05-26</td><td>2</td><td>Mendocino</td><td>2019-12-27</td><td>20</td></tr>\n",
       "\t<tr><td>2</td><td>1961-12-11</td><td>2</td><td>Inyo     </td><td>2019-03-06</td><td>18</td></tr>\n",
       "\t<tr><td>3</td><td>1959-08-10</td><td>1</td><td>El Dorado</td><td>2019-12-04</td><td> 6</td></tr>\n",
       "\t<tr><td>3</td><td>1959-08-10</td><td>1</td><td>El Dorado</td><td>2018-01-21</td><td>13</td></tr>\n",
       "\t<tr><td>4</td><td>1962-02-19</td><td>2</td><td>Trinity  </td><td>2019-09-27</td><td>11</td></tr>\n",
       "\t<tr><td>4</td><td>1962-02-19</td><td>2</td><td>Trinity  </td><td>2019-02-22</td><td>12</td></tr>\n",
       "</tbody>\n",
       "</table>\n"
      ],
      "text/latex": [
       "A data.table: 6 × 6\n",
       "\\begin{tabular}{llllll}\n",
       " id & birth\\_dt & gender & county & service\\_date & service\\_num\\\\\n",
       " <int> & <date> & <int> & <chr> & <date> & <int>\\\\\n",
       "\\hline\n",
       "\t 1 & 1960-05-26 & 2 & Mendocino & 2019-12-27 & 20\\\\\n",
       "\t 2 & 1961-12-11 & 2 & Inyo      & 2019-03-06 & 18\\\\\n",
       "\t 3 & 1959-08-10 & 1 & El Dorado & 2019-12-04 &  6\\\\\n",
       "\t 3 & 1959-08-10 & 1 & El Dorado & 2018-01-21 & 13\\\\\n",
       "\t 4 & 1962-02-19 & 2 & Trinity   & 2019-09-27 & 11\\\\\n",
       "\t 4 & 1962-02-19 & 2 & Trinity   & 2019-02-22 & 12\\\\\n",
       "\\end{tabular}\n"
      ],
      "text/markdown": [
       "\n",
       "A data.table: 6 × 6\n",
       "\n",
       "| id &lt;int&gt; | birth_dt &lt;date&gt; | gender &lt;int&gt; | county &lt;chr&gt; | service_date &lt;date&gt; | service_num &lt;int&gt; |\n",
       "|---|---|---|---|---|---|\n",
       "| 1 | 1960-05-26 | 2 | Mendocino | 2019-12-27 | 20 |\n",
       "| 2 | 1961-12-11 | 2 | Inyo      | 2019-03-06 | 18 |\n",
       "| 3 | 1959-08-10 | 1 | El Dorado | 2019-12-04 |  6 |\n",
       "| 3 | 1959-08-10 | 1 | El Dorado | 2018-01-21 | 13 |\n",
       "| 4 | 1962-02-19 | 2 | Trinity   | 2019-09-27 | 11 |\n",
       "| 4 | 1962-02-19 | 2 | Trinity   | 2019-02-22 | 12 |\n",
       "\n"
      ],
      "text/plain": [
       "  id birth_dt   gender county    service_date service_num\n",
       "1 1  1960-05-26 2      Mendocino 2019-12-27   20         \n",
       "2 2  1961-12-11 2      Inyo      2019-03-06   18         \n",
       "3 3  1959-08-10 1      El Dorado 2019-12-04    6         \n",
       "4 3  1959-08-10 1      El Dorado 2018-01-21   13         \n",
       "5 4  1962-02-19 2      Trinity   2019-09-27   11         \n",
       "6 4  1962-02-19 2      Trinity   2019-02-22   12         "
      ]
     },
     "metadata": {},
     "output_type": "display_data"
    }
   ],
   "source": [
    "head(Medical_visit)"
   ]
  },
  {
   "cell_type": "markdown",
   "metadata": {},
   "source": [
    "# (b)"
   ]
  },
  {
   "cell_type": "markdown",
   "metadata": {},
   "source": [
    "The logic is very simple to implement as an \"and\", and then we just use data.table's nice subsetting with `i`."
   ]
  },
  {
   "cell_type": "code",
   "execution_count": 15,
   "metadata": {
    "scrolled": false
   },
   "outputs": [
    {
     "data": {
      "text/html": [
       "<table class=\"dataframe\">\n",
       "<caption>A data.table: 13 × 6</caption>\n",
       "<thead>\n",
       "\t<tr><th scope=col>id</th><th scope=col>birth_dt</th><th scope=col>gender</th><th scope=col>county</th><th scope=col>service_date</th><th scope=col>service_num</th></tr>\n",
       "\t<tr><th scope=col>&lt;int&gt;</th><th scope=col>&lt;date&gt;</th><th scope=col>&lt;int&gt;</th><th scope=col>&lt;chr&gt;</th><th scope=col>&lt;date&gt;</th><th scope=col>&lt;int&gt;</th></tr>\n",
       "</thead>\n",
       "<tbody>\n",
       "\t<tr><td> 81</td><td>2011-07-08</td><td>2</td><td>Los Angeles</td><td>2018-07-28</td><td> 8</td></tr>\n",
       "\t<tr><td>184</td><td>1944-09-20</td><td>2</td><td>Los Angeles</td><td>2018-01-14</td><td>19</td></tr>\n",
       "\t<tr><td>358</td><td>1956-08-18</td><td>2</td><td>Los Angeles</td><td>2019-11-30</td><td>17</td></tr>\n",
       "\t<tr><td>483</td><td>1959-12-21</td><td>2</td><td>Los Angeles</td><td>2019-01-06</td><td>18</td></tr>\n",
       "\t<tr><td>690</td><td>1973-11-01</td><td>2</td><td>Los Angeles</td><td>2018-03-02</td><td> 3</td></tr>\n",
       "\t<tr><td>766</td><td>1987-09-30</td><td>2</td><td>Los Angeles</td><td>2019-10-14</td><td>14</td></tr>\n",
       "\t<tr><td>786</td><td>1998-10-08</td><td>2</td><td>Los Angeles</td><td>2019-12-10</td><td> 1</td></tr>\n",
       "\t<tr><td>792</td><td>2015-07-12</td><td>2</td><td>Los Angeles</td><td>2018-02-14</td><td>18</td></tr>\n",
       "\t<tr><td>805</td><td>1947-06-28</td><td>2</td><td>Los Angeles</td><td>2019-10-12</td><td> 5</td></tr>\n",
       "\t<tr><td>939</td><td>1970-02-22</td><td>2</td><td>Los Angeles</td><td>2018-03-06</td><td> 4</td></tr>\n",
       "\t<tr><td>948</td><td>1960-10-14</td><td>2</td><td>Los Angeles</td><td>2018-03-01</td><td>19</td></tr>\n",
       "\t<tr><td>977</td><td>1997-11-08</td><td>2</td><td>Los Angeles</td><td>2019-10-12</td><td> 2</td></tr>\n",
       "\t<tr><td>977</td><td>1997-11-08</td><td>2</td><td>Los Angeles</td><td>2019-09-02</td><td>10</td></tr>\n",
       "</tbody>\n",
       "</table>\n"
      ],
      "text/latex": [
       "A data.table: 13 × 6\n",
       "\\begin{tabular}{llllll}\n",
       " id & birth\\_dt & gender & county & service\\_date & service\\_num\\\\\n",
       " <int> & <date> & <int> & <chr> & <date> & <int>\\\\\n",
       "\\hline\n",
       "\t  81 & 2011-07-08 & 2 & Los Angeles & 2018-07-28 &  8\\\\\n",
       "\t 184 & 1944-09-20 & 2 & Los Angeles & 2018-01-14 & 19\\\\\n",
       "\t 358 & 1956-08-18 & 2 & Los Angeles & 2019-11-30 & 17\\\\\n",
       "\t 483 & 1959-12-21 & 2 & Los Angeles & 2019-01-06 & 18\\\\\n",
       "\t 690 & 1973-11-01 & 2 & Los Angeles & 2018-03-02 &  3\\\\\n",
       "\t 766 & 1987-09-30 & 2 & Los Angeles & 2019-10-14 & 14\\\\\n",
       "\t 786 & 1998-10-08 & 2 & Los Angeles & 2019-12-10 &  1\\\\\n",
       "\t 792 & 2015-07-12 & 2 & Los Angeles & 2018-02-14 & 18\\\\\n",
       "\t 805 & 1947-06-28 & 2 & Los Angeles & 2019-10-12 &  5\\\\\n",
       "\t 939 & 1970-02-22 & 2 & Los Angeles & 2018-03-06 &  4\\\\\n",
       "\t 948 & 1960-10-14 & 2 & Los Angeles & 2018-03-01 & 19\\\\\n",
       "\t 977 & 1997-11-08 & 2 & Los Angeles & 2019-10-12 &  2\\\\\n",
       "\t 977 & 1997-11-08 & 2 & Los Angeles & 2019-09-02 & 10\\\\\n",
       "\\end{tabular}\n"
      ],
      "text/markdown": [
       "\n",
       "A data.table: 13 × 6\n",
       "\n",
       "| id &lt;int&gt; | birth_dt &lt;date&gt; | gender &lt;int&gt; | county &lt;chr&gt; | service_date &lt;date&gt; | service_num &lt;int&gt; |\n",
       "|---|---|---|---|---|---|\n",
       "|  81 | 2011-07-08 | 2 | Los Angeles | 2018-07-28 |  8 |\n",
       "| 184 | 1944-09-20 | 2 | Los Angeles | 2018-01-14 | 19 |\n",
       "| 358 | 1956-08-18 | 2 | Los Angeles | 2019-11-30 | 17 |\n",
       "| 483 | 1959-12-21 | 2 | Los Angeles | 2019-01-06 | 18 |\n",
       "| 690 | 1973-11-01 | 2 | Los Angeles | 2018-03-02 |  3 |\n",
       "| 766 | 1987-09-30 | 2 | Los Angeles | 2019-10-14 | 14 |\n",
       "| 786 | 1998-10-08 | 2 | Los Angeles | 2019-12-10 |  1 |\n",
       "| 792 | 2015-07-12 | 2 | Los Angeles | 2018-02-14 | 18 |\n",
       "| 805 | 1947-06-28 | 2 | Los Angeles | 2019-10-12 |  5 |\n",
       "| 939 | 1970-02-22 | 2 | Los Angeles | 2018-03-06 |  4 |\n",
       "| 948 | 1960-10-14 | 2 | Los Angeles | 2018-03-01 | 19 |\n",
       "| 977 | 1997-11-08 | 2 | Los Angeles | 2019-10-12 |  2 |\n",
       "| 977 | 1997-11-08 | 2 | Los Angeles | 2019-09-02 | 10 |\n",
       "\n"
      ],
      "text/plain": [
       "   id  birth_dt   gender county      service_date service_num\n",
       "1   81 2011-07-08 2      Los Angeles 2018-07-28    8         \n",
       "2  184 1944-09-20 2      Los Angeles 2018-01-14   19         \n",
       "3  358 1956-08-18 2      Los Angeles 2019-11-30   17         \n",
       "4  483 1959-12-21 2      Los Angeles 2019-01-06   18         \n",
       "5  690 1973-11-01 2      Los Angeles 2018-03-02    3         \n",
       "6  766 1987-09-30 2      Los Angeles 2019-10-14   14         \n",
       "7  786 1998-10-08 2      Los Angeles 2019-12-10    1         \n",
       "8  792 2015-07-12 2      Los Angeles 2018-02-14   18         \n",
       "9  805 1947-06-28 2      Los Angeles 2019-10-12    5         \n",
       "10 939 1970-02-22 2      Los Angeles 2018-03-06    4         \n",
       "11 948 1960-10-14 2      Los Angeles 2018-03-01   19         \n",
       "12 977 1997-11-08 2      Los Angeles 2019-10-12    2         \n",
       "13 977 1997-11-08 2      Los Angeles 2019-09-02   10         "
      ]
     },
     "metadata": {},
     "output_type": "display_data"
    }
   ],
   "source": [
    "Medical_visit[gender==2 & county==\"Los Angeles\"]"
   ]
  },
  {
   "cell_type": "markdown",
   "metadata": {},
   "source": [
    "# (c)"
   ]
  },
  {
   "cell_type": "markdown",
   "metadata": {},
   "source": [
    "This is once again very simple using data.table subsetting with `i`."
   ]
  },
  {
   "cell_type": "code",
   "execution_count": 16,
   "metadata": {},
   "outputs": [
    {
     "data": {
      "text/html": [
       "<table class=\"dataframe\">\n",
       "<caption>A data.table: 6 × 6</caption>\n",
       "<thead>\n",
       "\t<tr><th scope=col>id</th><th scope=col>birth_dt</th><th scope=col>gender</th><th scope=col>county</th><th scope=col>service_date</th><th scope=col>service_num</th></tr>\n",
       "\t<tr><th scope=col>&lt;int&gt;</th><th scope=col>&lt;date&gt;</th><th scope=col>&lt;int&gt;</th><th scope=col>&lt;chr&gt;</th><th scope=col>&lt;date&gt;</th><th scope=col>&lt;int&gt;</th></tr>\n",
       "</thead>\n",
       "<tbody>\n",
       "\t<tr><td> 3</td><td>1959-08-10</td><td>1</td><td>El Dorado</td><td>2018-01-21</td><td>13</td></tr>\n",
       "\t<tr><td> 5</td><td>2004-10-03</td><td>1</td><td>Mariposa </td><td>2018-01-14</td><td>19</td></tr>\n",
       "\t<tr><td>17</td><td>1991-05-10</td><td>1</td><td>Tuolumne </td><td>2018-01-11</td><td>19</td></tr>\n",
       "\t<tr><td>19</td><td>1973-07-03</td><td>1</td><td>Merced   </td><td>2018-03-23</td><td>11</td></tr>\n",
       "\t<tr><td>33</td><td>1941-04-23</td><td>1</td><td>Amador   </td><td>2018-04-05</td><td>15</td></tr>\n",
       "\t<tr><td>34</td><td>1972-06-29</td><td>1</td><td>Del Norte</td><td>2018-05-05</td><td>10</td></tr>\n",
       "</tbody>\n",
       "</table>\n"
      ],
      "text/latex": [
       "A data.table: 6 × 6\n",
       "\\begin{tabular}{llllll}\n",
       " id & birth\\_dt & gender & county & service\\_date & service\\_num\\\\\n",
       " <int> & <date> & <int> & <chr> & <date> & <int>\\\\\n",
       "\\hline\n",
       "\t  3 & 1959-08-10 & 1 & El Dorado & 2018-01-21 & 13\\\\\n",
       "\t  5 & 2004-10-03 & 1 & Mariposa  & 2018-01-14 & 19\\\\\n",
       "\t 17 & 1991-05-10 & 1 & Tuolumne  & 2018-01-11 & 19\\\\\n",
       "\t 19 & 1973-07-03 & 1 & Merced    & 2018-03-23 & 11\\\\\n",
       "\t 33 & 1941-04-23 & 1 & Amador    & 2018-04-05 & 15\\\\\n",
       "\t 34 & 1972-06-29 & 1 & Del Norte & 2018-05-05 & 10\\\\\n",
       "\\end{tabular}\n"
      ],
      "text/markdown": [
       "\n",
       "A data.table: 6 × 6\n",
       "\n",
       "| id &lt;int&gt; | birth_dt &lt;date&gt; | gender &lt;int&gt; | county &lt;chr&gt; | service_date &lt;date&gt; | service_num &lt;int&gt; |\n",
       "|---|---|---|---|---|---|\n",
       "|  3 | 1959-08-10 | 1 | El Dorado | 2018-01-21 | 13 |\n",
       "|  5 | 2004-10-03 | 1 | Mariposa  | 2018-01-14 | 19 |\n",
       "| 17 | 1991-05-10 | 1 | Tuolumne  | 2018-01-11 | 19 |\n",
       "| 19 | 1973-07-03 | 1 | Merced    | 2018-03-23 | 11 |\n",
       "| 33 | 1941-04-23 | 1 | Amador    | 2018-04-05 | 15 |\n",
       "| 34 | 1972-06-29 | 1 | Del Norte | 2018-05-05 | 10 |\n",
       "\n"
      ],
      "text/plain": [
       "  id birth_dt   gender county    service_date service_num\n",
       "1  3 1959-08-10 1      El Dorado 2018-01-21   13         \n",
       "2  5 2004-10-03 1      Mariposa  2018-01-14   19         \n",
       "3 17 1991-05-10 1      Tuolumne  2018-01-11   19         \n",
       "4 19 1973-07-03 1      Merced    2018-03-23   11         \n",
       "5 33 1941-04-23 1      Amador    2018-04-05   15         \n",
       "6 34 1972-06-29 1      Del Norte 2018-05-05   10         "
      ]
     },
     "metadata": {},
     "output_type": "display_data"
    }
   ],
   "source": [
    "head(Medical_visit[service_date <= as.Date(\"2018-05-14\")])"
   ]
  },
  {
   "cell_type": "markdown",
   "metadata": {},
   "source": [
    "# (d)"
   ]
  },
  {
   "cell_type": "markdown",
   "metadata": {},
   "source": [
    "Actually a really annoying bug I was running into with my method here is that I had something like\n",
    "\n",
    "```\n",
    "service_date[service_num == max(service_num)]\n",
    "```\n",
    "\n",
    "as the `j` for my data.table operation, but I did forget that fact that there could be a tie for the service number, meaning I'd potentially get multiple dates per id, which is not what we want. So I just realized I had 1 sample from this value which had a potentially greater than 1 length. This also nicely handles the random tiebreaking we're asked for."
   ]
  },
  {
   "cell_type": "code",
   "execution_count": 17,
   "metadata": {},
   "outputs": [],
   "source": [
    "Medical_visit[, max_svc_date:=sample(service_date[service_num == max(service_num)], size=1), by=id]"
   ]
  },
  {
   "cell_type": "code",
   "execution_count": 18,
   "metadata": {},
   "outputs": [
    {
     "data": {
      "text/html": [
       "<table class=\"dataframe\">\n",
       "<caption>A data.table: 6 × 7</caption>\n",
       "<thead>\n",
       "\t<tr><th scope=col>id</th><th scope=col>birth_dt</th><th scope=col>gender</th><th scope=col>county</th><th scope=col>service_date</th><th scope=col>service_num</th><th scope=col>max_svc_date</th></tr>\n",
       "\t<tr><th scope=col>&lt;int&gt;</th><th scope=col>&lt;date&gt;</th><th scope=col>&lt;int&gt;</th><th scope=col>&lt;chr&gt;</th><th scope=col>&lt;date&gt;</th><th scope=col>&lt;int&gt;</th><th scope=col>&lt;date&gt;</th></tr>\n",
       "</thead>\n",
       "<tbody>\n",
       "\t<tr><td>1</td><td>1960-05-26</td><td>2</td><td>Mendocino</td><td>2019-12-27</td><td>20</td><td>2019-12-27</td></tr>\n",
       "\t<tr><td>2</td><td>1961-12-11</td><td>2</td><td>Inyo     </td><td>2019-03-06</td><td>18</td><td>2019-03-06</td></tr>\n",
       "\t<tr><td>3</td><td>1959-08-10</td><td>1</td><td>El Dorado</td><td>2019-12-04</td><td> 6</td><td>2018-01-21</td></tr>\n",
       "\t<tr><td>3</td><td>1959-08-10</td><td>1</td><td>El Dorado</td><td>2018-01-21</td><td>13</td><td>2018-01-21</td></tr>\n",
       "\t<tr><td>4</td><td>1962-02-19</td><td>2</td><td>Trinity  </td><td>2019-09-27</td><td>11</td><td>2018-11-02</td></tr>\n",
       "\t<tr><td>4</td><td>1962-02-19</td><td>2</td><td>Trinity  </td><td>2019-02-22</td><td>12</td><td>2018-11-02</td></tr>\n",
       "</tbody>\n",
       "</table>\n"
      ],
      "text/latex": [
       "A data.table: 6 × 7\n",
       "\\begin{tabular}{lllllll}\n",
       " id & birth\\_dt & gender & county & service\\_date & service\\_num & max\\_svc\\_date\\\\\n",
       " <int> & <date> & <int> & <chr> & <date> & <int> & <date>\\\\\n",
       "\\hline\n",
       "\t 1 & 1960-05-26 & 2 & Mendocino & 2019-12-27 & 20 & 2019-12-27\\\\\n",
       "\t 2 & 1961-12-11 & 2 & Inyo      & 2019-03-06 & 18 & 2019-03-06\\\\\n",
       "\t 3 & 1959-08-10 & 1 & El Dorado & 2019-12-04 &  6 & 2018-01-21\\\\\n",
       "\t 3 & 1959-08-10 & 1 & El Dorado & 2018-01-21 & 13 & 2018-01-21\\\\\n",
       "\t 4 & 1962-02-19 & 2 & Trinity   & 2019-09-27 & 11 & 2018-11-02\\\\\n",
       "\t 4 & 1962-02-19 & 2 & Trinity   & 2019-02-22 & 12 & 2018-11-02\\\\\n",
       "\\end{tabular}\n"
      ],
      "text/markdown": [
       "\n",
       "A data.table: 6 × 7\n",
       "\n",
       "| id &lt;int&gt; | birth_dt &lt;date&gt; | gender &lt;int&gt; | county &lt;chr&gt; | service_date &lt;date&gt; | service_num &lt;int&gt; | max_svc_date &lt;date&gt; |\n",
       "|---|---|---|---|---|---|---|\n",
       "| 1 | 1960-05-26 | 2 | Mendocino | 2019-12-27 | 20 | 2019-12-27 |\n",
       "| 2 | 1961-12-11 | 2 | Inyo      | 2019-03-06 | 18 | 2019-03-06 |\n",
       "| 3 | 1959-08-10 | 1 | El Dorado | 2019-12-04 |  6 | 2018-01-21 |\n",
       "| 3 | 1959-08-10 | 1 | El Dorado | 2018-01-21 | 13 | 2018-01-21 |\n",
       "| 4 | 1962-02-19 | 2 | Trinity   | 2019-09-27 | 11 | 2018-11-02 |\n",
       "| 4 | 1962-02-19 | 2 | Trinity   | 2019-02-22 | 12 | 2018-11-02 |\n",
       "\n"
      ],
      "text/plain": [
       "  id birth_dt   gender county    service_date service_num max_svc_date\n",
       "1 1  1960-05-26 2      Mendocino 2019-12-27   20          2019-12-27  \n",
       "2 2  1961-12-11 2      Inyo      2019-03-06   18          2019-03-06  \n",
       "3 3  1959-08-10 1      El Dorado 2019-12-04    6          2018-01-21  \n",
       "4 3  1959-08-10 1      El Dorado 2018-01-21   13          2018-01-21  \n",
       "5 4  1962-02-19 2      Trinity   2019-09-27   11          2018-11-02  \n",
       "6 4  1962-02-19 2      Trinity   2019-02-22   12          2018-11-02  "
      ]
     },
     "metadata": {},
     "output_type": "display_data"
    }
   ],
   "source": [
    "head(Medical_visit)"
   ]
  },
  {
   "cell_type": "markdown",
   "metadata": {},
   "source": [
    "## (e)\n",
    "\n",
    "Just so that we can see this work here, I want to wrap the creation of `demo` and `medical_visit_10` all into a function. Of course, one concern about how we're going to merge everything in the end is what happens if we have id collisions? To solve this problem all we need to do is have our function be able to take a user-specified range of ids with which to create a dataset. Then we can just supply 10 disjoint ranges of ids, one for each of the 10 resulting pairs of dataframes."
   ]
  },
  {
   "cell_type": "code",
   "execution_count": 19,
   "metadata": {},
   "outputs": [],
   "source": [
    "create_demo_visits_pair = function(id_range) {\n",
    "    n = length(id_range)\n",
    "    counties = read.csv(\"Alphabetical-List-Of-California-Counties.csv\")[,1]\n",
    "    birth_dt = sample(seq(as.Date('1940/01/01'), as.Date('2019/12/31'), by=\"day\"), n)\n",
    "    demo = data.table(id=id_range,\n",
    "           birth_dt=birth_dt,\n",
    "           gender=sample(c(1L,2L), size=n, replace=TRUE),\n",
    "           county=sample(counties, size=n, replace=TRUE)\n",
    "          )\n",
    "    \n",
    "    setkey(demo, id)\n",
    "    \n",
    "    one_visit = rep(1, .7 * n)\n",
    "    no_visit = rep(0, .1 * n)\n",
    "    \n",
    "    mult_visits = trunc(rpois(.2 * n, lambda = .3)) / 1 + 2\n",
    "    \n",
    "    visits_num = sample(c(one_visit, no_visit, mult_visits))\n",
    "    \n",
    "    Medical_visit = data.table(id=rep(demo[, id], visits_num))\n",
    "    setkey(Medical_visit,id)\n",
    "    \n",
    "    Medical_visit = Medical_visit[demo, nomatch=0]\n",
    "    \n",
    "    Medical_visit[, service_date := sample(seq(max(as.Date('2018/01/01'), birth_dt), as.Date(\"2019/12/31\"), by=\"day\"), size = 1, replace = TRUE), by=1:nrow(Medical_visit)]\n",
    "    Medical_visit[, service_num := sample(seq(from=1, to=20), size = .N, replace = FALSE), by=.(id,service_date)]\n",
    "    Medical_visit[, max_svc_date:=sample(service_date[service_num == max(service_num)], size=1), by=id]\n",
    "    return(list(demo, Medical_visit))\n",
    "}"
   ]
  },
  {
   "cell_type": "markdown",
   "metadata": {},
   "source": [
    "Wrapped as a function, we can now loop 10 times really easily to simulate those 10 tuples of datasets.\n",
    "\n",
    "Again, to avoid clashing with ids, we pass a disjoint range of ids to the function to use each time."
   ]
  },
  {
   "cell_type": "code",
   "execution_count": 20,
   "metadata": {},
   "outputs": [],
   "source": [
    "df_list = list()\n",
    "\n",
    "for(i in seq(10)) {\n",
    "    Medical_visit = create_demo_visits_pair((1000*(i-1) + 1):(1000*i))[[2]]\n",
    "    girls_in_LA = Medical_visit[gender==2][county==\"Los Angeles\"]\n",
    "    df_list[[i]] = girls_in_LA\n",
    "}\n",
    "\n",
    "combined = do.call(\"rbind\", df_list)"
   ]
  },
  {
   "cell_type": "code",
   "execution_count": 21,
   "metadata": {},
   "outputs": [
    {
     "data": {
      "text/html": [
       "<table class=\"dataframe\">\n",
       "<caption>A data.table: 10 × 7</caption>\n",
       "<thead>\n",
       "\t<tr><th scope=col>id</th><th scope=col>birth_dt</th><th scope=col>gender</th><th scope=col>county</th><th scope=col>service_date</th><th scope=col>service_num</th><th scope=col>max_svc_date</th></tr>\n",
       "\t<tr><th scope=col>&lt;int&gt;</th><th scope=col>&lt;date&gt;</th><th scope=col>&lt;int&gt;</th><th scope=col>&lt;chr&gt;</th><th scope=col>&lt;date&gt;</th><th scope=col>&lt;int&gt;</th><th scope=col>&lt;date&gt;</th></tr>\n",
       "</thead>\n",
       "<tbody>\n",
       "\t<tr><td>  36</td><td>1994-03-11</td><td>2</td><td>Los Angeles</td><td>2018-12-24</td><td>10</td><td>2018-12-24</td></tr>\n",
       "\t<tr><td>  54</td><td>1943-03-24</td><td>2</td><td>Los Angeles</td><td>2019-04-15</td><td>18</td><td>2019-04-15</td></tr>\n",
       "\t<tr><td> 246</td><td>2011-02-21</td><td>2</td><td>Los Angeles</td><td>2018-09-17</td><td> 4</td><td>2018-09-17</td></tr>\n",
       "\t<tr><td> 383</td><td>1951-07-19</td><td>2</td><td>Los Angeles</td><td>2019-08-13</td><td>15</td><td>2018-01-21</td></tr>\n",
       "\t<tr><td> 383</td><td>1951-07-19</td><td>2</td><td>Los Angeles</td><td>2018-01-21</td><td>18</td><td>2018-01-21</td></tr>\n",
       "\t<tr><td> 469</td><td>1968-08-09</td><td>2</td><td>Los Angeles</td><td>2018-11-28</td><td>10</td><td>2019-05-03</td></tr>\n",
       "\t<tr><td> 469</td><td>1968-08-09</td><td>2</td><td>Los Angeles</td><td>2019-05-03</td><td>12</td><td>2019-05-03</td></tr>\n",
       "\t<tr><td> 509</td><td>2010-10-04</td><td>2</td><td>Los Angeles</td><td>2019-04-17</td><td> 4</td><td>2019-04-17</td></tr>\n",
       "\t<tr><td> 781</td><td>1941-03-06</td><td>2</td><td>Los Angeles</td><td>2019-09-15</td><td> 8</td><td>2019-09-15</td></tr>\n",
       "\t<tr><td>1014</td><td>1969-07-13</td><td>2</td><td>Los Angeles</td><td>2018-10-26</td><td> 6</td><td>2018-10-26</td></tr>\n",
       "</tbody>\n",
       "</table>\n"
      ],
      "text/latex": [
       "A data.table: 10 × 7\n",
       "\\begin{tabular}{lllllll}\n",
       " id & birth\\_dt & gender & county & service\\_date & service\\_num & max\\_svc\\_date\\\\\n",
       " <int> & <date> & <int> & <chr> & <date> & <int> & <date>\\\\\n",
       "\\hline\n",
       "\t   36 & 1994-03-11 & 2 & Los Angeles & 2018-12-24 & 10 & 2018-12-24\\\\\n",
       "\t   54 & 1943-03-24 & 2 & Los Angeles & 2019-04-15 & 18 & 2019-04-15\\\\\n",
       "\t  246 & 2011-02-21 & 2 & Los Angeles & 2018-09-17 &  4 & 2018-09-17\\\\\n",
       "\t  383 & 1951-07-19 & 2 & Los Angeles & 2019-08-13 & 15 & 2018-01-21\\\\\n",
       "\t  383 & 1951-07-19 & 2 & Los Angeles & 2018-01-21 & 18 & 2018-01-21\\\\\n",
       "\t  469 & 1968-08-09 & 2 & Los Angeles & 2018-11-28 & 10 & 2019-05-03\\\\\n",
       "\t  469 & 1968-08-09 & 2 & Los Angeles & 2019-05-03 & 12 & 2019-05-03\\\\\n",
       "\t  509 & 2010-10-04 & 2 & Los Angeles & 2019-04-17 &  4 & 2019-04-17\\\\\n",
       "\t  781 & 1941-03-06 & 2 & Los Angeles & 2019-09-15 &  8 & 2019-09-15\\\\\n",
       "\t 1014 & 1969-07-13 & 2 & Los Angeles & 2018-10-26 &  6 & 2018-10-26\\\\\n",
       "\\end{tabular}\n"
      ],
      "text/markdown": [
       "\n",
       "A data.table: 10 × 7\n",
       "\n",
       "| id &lt;int&gt; | birth_dt &lt;date&gt; | gender &lt;int&gt; | county &lt;chr&gt; | service_date &lt;date&gt; | service_num &lt;int&gt; | max_svc_date &lt;date&gt; |\n",
       "|---|---|---|---|---|---|---|\n",
       "|   36 | 1994-03-11 | 2 | Los Angeles | 2018-12-24 | 10 | 2018-12-24 |\n",
       "|   54 | 1943-03-24 | 2 | Los Angeles | 2019-04-15 | 18 | 2019-04-15 |\n",
       "|  246 | 2011-02-21 | 2 | Los Angeles | 2018-09-17 |  4 | 2018-09-17 |\n",
       "|  383 | 1951-07-19 | 2 | Los Angeles | 2019-08-13 | 15 | 2018-01-21 |\n",
       "|  383 | 1951-07-19 | 2 | Los Angeles | 2018-01-21 | 18 | 2018-01-21 |\n",
       "|  469 | 1968-08-09 | 2 | Los Angeles | 2018-11-28 | 10 | 2019-05-03 |\n",
       "|  469 | 1968-08-09 | 2 | Los Angeles | 2019-05-03 | 12 | 2019-05-03 |\n",
       "|  509 | 2010-10-04 | 2 | Los Angeles | 2019-04-17 |  4 | 2019-04-17 |\n",
       "|  781 | 1941-03-06 | 2 | Los Angeles | 2019-09-15 |  8 | 2019-09-15 |\n",
       "| 1014 | 1969-07-13 | 2 | Los Angeles | 2018-10-26 |  6 | 2018-10-26 |\n",
       "\n"
      ],
      "text/plain": [
       "   id   birth_dt   gender county      service_date service_num max_svc_date\n",
       "1    36 1994-03-11 2      Los Angeles 2018-12-24   10          2018-12-24  \n",
       "2    54 1943-03-24 2      Los Angeles 2019-04-15   18          2019-04-15  \n",
       "3   246 2011-02-21 2      Los Angeles 2018-09-17    4          2018-09-17  \n",
       "4   383 1951-07-19 2      Los Angeles 2019-08-13   15          2018-01-21  \n",
       "5   383 1951-07-19 2      Los Angeles 2018-01-21   18          2018-01-21  \n",
       "6   469 1968-08-09 2      Los Angeles 2018-11-28   10          2019-05-03  \n",
       "7   469 1968-08-09 2      Los Angeles 2019-05-03   12          2019-05-03  \n",
       "8   509 2010-10-04 2      Los Angeles 2019-04-17    4          2019-04-17  \n",
       "9   781 1941-03-06 2      Los Angeles 2019-09-15    8          2019-09-15  \n",
       "10 1014 1969-07-13 2      Los Angeles 2018-10-26    6          2018-10-26  "
      ]
     },
     "metadata": {},
     "output_type": "display_data"
    }
   ],
   "source": [
    "head(combined, 10)"
   ]
  },
  {
   "cell_type": "markdown",
   "metadata": {},
   "source": [
    "## (f)\n",
    "\n",
    "At this point, it becomes apparent that there's another piece of information I was missing: the 1`birth_dt` can be missing. So we have to update our previous work to account for this.\n",
    "\n",
    "But this is as simple as randomly picking indices to be thrown out. I'll randomly choose for 5% to be thrown out, and just for fun, let's use a uniform distribution to do this."
   ]
  },
  {
   "cell_type": "code",
   "execution_count": 22,
   "metadata": {},
   "outputs": [],
   "source": [
    "num_no_birth = 0.05 * n\n",
    "birth_dt = sample(seq(as.Date('1940/01/01'), as.Date('2021/12/31'), by=\"day\"), n)\n",
    "inds = round ( runif(num_no_birth, 1, length(birth_dt)) ) \n",
    "\n",
    "birth_dt[inds] = NA"
   ]
  },
  {
   "cell_type": "code",
   "execution_count": 23,
   "metadata": {},
   "outputs": [],
   "source": [
    "create_demo_visits_pair = function(id_range) {\n",
    "    n = length(id_range)\n",
    "    counties = read.csv(\"Alphabetical-List-Of-California-Counties.csv\")[,1]\n",
    "    \n",
    "    num_no_birth = 0.05 * n                                                           # new\n",
    "    birth_dt = sample(seq(as.Date('1940/01/01'), as.Date('2019/12/31'), by=\"day\"), n) # new\n",
    "    inds = round ( runif(num_no_birth, 1, length(birth_dt)) )                         # new\n",
    "\n",
    "    birth_dt[inds] = NA                                                              # new\n",
    "    demo = data.table(id=id_range,\n",
    "           birth_dt=birth_dt,\n",
    "           gender=sample(c(1L,2L), size=n, replace=TRUE),\n",
    "           county=sample(counties, size=n, replace=TRUE)\n",
    "          )\n",
    "    \n",
    "    setkey(demo, id)\n",
    "    \n",
    "    one_visit = rep(1, .7 * n)\n",
    "    no_visit = rep(0, .1 * n)\n",
    "    \n",
    "    mult_visits = trunc(rpois(.2 * n, lambda = .3)) / 1 + 2\n",
    "    \n",
    "    visits_num = sample(c(one_visit, no_visit, mult_visits))\n",
    "    \n",
    "    Medical_visit = data.table(id=rep(demo[, id], visits_num))\n",
    "    setkey(Medical_visit,id)\n",
    "    \n",
    "    Medical_visit = Medical_visit[demo, nomatch=0]\n",
    "    \n",
    "    \n",
    "    Medical_visit[, service_date := sample(seq(max(as.Date('2018/01/01'), birth_dt,na.rm=T), as.Date(\"2019/12/31\"), by=\"day\"), size = 1, replace = TRUE), by=1:nrow(Medical_visit)]\n",
    "    Medical_visit[, service_num := sample(seq(from=1, to=20), size = .N, replace = FALSE), by=.(id,service_date)]\n",
    "    Medical_visit[, max_svc_date:=sample(service_date[service_num == max(service_num)], size=1), by=id]\n",
    "    \n",
    "    return(list(demo, Medical_visit))\n",
    "}"
   ]
  },
  {
   "cell_type": "code",
   "execution_count": 24,
   "metadata": {
    "scrolled": true
   },
   "outputs": [],
   "source": [
    "pair = create_demo_visits_pair(1:1000)\n",
    "demo = pair[[1]]\n",
    "Medical_visit = pair[[2]]"
   ]
  },
  {
   "cell_type": "markdown",
   "metadata": {},
   "source": [
    "The age then is just the difference between the service date and birth date, and I'll convert to years so it looks a little nicer."
   ]
  },
  {
   "cell_type": "code",
   "execution_count": 25,
   "metadata": {},
   "outputs": [],
   "source": [
    "Medical_visit[, age_by_svc:=round(as.numeric(difftime(service_date,birth_dt,units=\"weeks\"))/52.25, 2)]"
   ]
  },
  {
   "cell_type": "code",
   "execution_count": 26,
   "metadata": {},
   "outputs": [
    {
     "data": {
      "text/html": [
       "<table class=\"dataframe\">\n",
       "<caption>A data.table: 10 × 8</caption>\n",
       "<thead>\n",
       "\t<tr><th scope=col>id</th><th scope=col>birth_dt</th><th scope=col>gender</th><th scope=col>county</th><th scope=col>service_date</th><th scope=col>service_num</th><th scope=col>max_svc_date</th><th scope=col>age_by_svc</th></tr>\n",
       "\t<tr><th scope=col>&lt;int&gt;</th><th scope=col>&lt;date&gt;</th><th scope=col>&lt;int&gt;</th><th scope=col>&lt;chr&gt;</th><th scope=col>&lt;date&gt;</th><th scope=col>&lt;int&gt;</th><th scope=col>&lt;date&gt;</th><th scope=col>&lt;dbl&gt;</th></tr>\n",
       "</thead>\n",
       "<tbody>\n",
       "\t<tr><td> 1</td><td>1954-02-04</td><td>1</td><td>Mariposa      </td><td>2019-01-18</td><td> 7</td><td>2019-01-18</td><td>64.86</td></tr>\n",
       "\t<tr><td> 2</td><td>1996-07-28</td><td>1</td><td>Yuba          </td><td>2019-01-25</td><td>20</td><td>2019-01-25</td><td>22.46</td></tr>\n",
       "\t<tr><td> 3</td><td>1964-04-18</td><td>2</td><td>Plumas        </td><td>2018-07-22</td><td>16</td><td>2018-07-22</td><td>54.18</td></tr>\n",
       "\t<tr><td> 4</td><td>1980-09-15</td><td>2</td><td>Tuolumne      </td><td>2019-10-28</td><td>10</td><td>2019-10-28</td><td>39.06</td></tr>\n",
       "\t<tr><td> 5</td><td>NA</td><td>1</td><td>Kern          </td><td>2019-11-12</td><td>11</td><td>2019-11-12</td><td>   NA</td></tr>\n",
       "\t<tr><td> 6</td><td>1999-12-16</td><td>2</td><td>Contra Costa  </td><td>2019-03-26</td><td>15</td><td>2019-03-26</td><td>19.25</td></tr>\n",
       "\t<tr><td> 7</td><td>1940-09-25</td><td>2</td><td>Glenn         </td><td>2018-02-19</td><td>20</td><td>2018-02-19</td><td>77.30</td></tr>\n",
       "\t<tr><td> 8</td><td>1980-08-06</td><td>2</td><td>Santa Barbara </td><td>2019-09-30</td><td>12</td><td>2019-09-30</td><td>39.10</td></tr>\n",
       "\t<tr><td> 9</td><td>1999-06-23</td><td>2</td><td>San Bernardino</td><td>2019-04-09</td><td> 4</td><td>2019-04-09</td><td>19.77</td></tr>\n",
       "\t<tr><td>10</td><td>1962-03-26</td><td>1</td><td>Solano        </td><td>2019-06-10</td><td> 2</td><td>2019-06-10</td><td>57.13</td></tr>\n",
       "</tbody>\n",
       "</table>\n"
      ],
      "text/latex": [
       "A data.table: 10 × 8\n",
       "\\begin{tabular}{llllllll}\n",
       " id & birth\\_dt & gender & county & service\\_date & service\\_num & max\\_svc\\_date & age\\_by\\_svc\\\\\n",
       " <int> & <date> & <int> & <chr> & <date> & <int> & <date> & <dbl>\\\\\n",
       "\\hline\n",
       "\t  1 & 1954-02-04 & 1 & Mariposa       & 2019-01-18 &  7 & 2019-01-18 & 64.86\\\\\n",
       "\t  2 & 1996-07-28 & 1 & Yuba           & 2019-01-25 & 20 & 2019-01-25 & 22.46\\\\\n",
       "\t  3 & 1964-04-18 & 2 & Plumas         & 2018-07-22 & 16 & 2018-07-22 & 54.18\\\\\n",
       "\t  4 & 1980-09-15 & 2 & Tuolumne       & 2019-10-28 & 10 & 2019-10-28 & 39.06\\\\\n",
       "\t  5 & NA & 1 & Kern           & 2019-11-12 & 11 & 2019-11-12 &    NA\\\\\n",
       "\t  6 & 1999-12-16 & 2 & Contra Costa   & 2019-03-26 & 15 & 2019-03-26 & 19.25\\\\\n",
       "\t  7 & 1940-09-25 & 2 & Glenn          & 2018-02-19 & 20 & 2018-02-19 & 77.30\\\\\n",
       "\t  8 & 1980-08-06 & 2 & Santa Barbara  & 2019-09-30 & 12 & 2019-09-30 & 39.10\\\\\n",
       "\t  9 & 1999-06-23 & 2 & San Bernardino & 2019-04-09 &  4 & 2019-04-09 & 19.77\\\\\n",
       "\t 10 & 1962-03-26 & 1 & Solano         & 2019-06-10 &  2 & 2019-06-10 & 57.13\\\\\n",
       "\\end{tabular}\n"
      ],
      "text/markdown": [
       "\n",
       "A data.table: 10 × 8\n",
       "\n",
       "| id &lt;int&gt; | birth_dt &lt;date&gt; | gender &lt;int&gt; | county &lt;chr&gt; | service_date &lt;date&gt; | service_num &lt;int&gt; | max_svc_date &lt;date&gt; | age_by_svc &lt;dbl&gt; |\n",
       "|---|---|---|---|---|---|---|---|\n",
       "|  1 | 1954-02-04 | 1 | Mariposa       | 2019-01-18 |  7 | 2019-01-18 | 64.86 |\n",
       "|  2 | 1996-07-28 | 1 | Yuba           | 2019-01-25 | 20 | 2019-01-25 | 22.46 |\n",
       "|  3 | 1964-04-18 | 2 | Plumas         | 2018-07-22 | 16 | 2018-07-22 | 54.18 |\n",
       "|  4 | 1980-09-15 | 2 | Tuolumne       | 2019-10-28 | 10 | 2019-10-28 | 39.06 |\n",
       "|  5 | NA | 1 | Kern           | 2019-11-12 | 11 | 2019-11-12 |    NA |\n",
       "|  6 | 1999-12-16 | 2 | Contra Costa   | 2019-03-26 | 15 | 2019-03-26 | 19.25 |\n",
       "|  7 | 1940-09-25 | 2 | Glenn          | 2018-02-19 | 20 | 2018-02-19 | 77.30 |\n",
       "|  8 | 1980-08-06 | 2 | Santa Barbara  | 2019-09-30 | 12 | 2019-09-30 | 39.10 |\n",
       "|  9 | 1999-06-23 | 2 | San Bernardino | 2019-04-09 |  4 | 2019-04-09 | 19.77 |\n",
       "| 10 | 1962-03-26 | 1 | Solano         | 2019-06-10 |  2 | 2019-06-10 | 57.13 |\n",
       "\n"
      ],
      "text/plain": [
       "   id birth_dt   gender county         service_date service_num max_svc_date\n",
       "1   1 1954-02-04 1      Mariposa       2019-01-18    7          2019-01-18  \n",
       "2   2 1996-07-28 1      Yuba           2019-01-25   20          2019-01-25  \n",
       "3   3 1964-04-18 2      Plumas         2018-07-22   16          2018-07-22  \n",
       "4   4 1980-09-15 2      Tuolumne       2019-10-28   10          2019-10-28  \n",
       "5   5 <NA>       1      Kern           2019-11-12   11          2019-11-12  \n",
       "6   6 1999-12-16 2      Contra Costa   2019-03-26   15          2019-03-26  \n",
       "7   7 1940-09-25 2      Glenn          2018-02-19   20          2018-02-19  \n",
       "8   8 1980-08-06 2      Santa Barbara  2019-09-30   12          2019-09-30  \n",
       "9   9 1999-06-23 2      San Bernardino 2019-04-09    4          2019-04-09  \n",
       "10 10 1962-03-26 1      Solano         2019-06-10    2          2019-06-10  \n",
       "   age_by_svc\n",
       "1  64.86     \n",
       "2  22.46     \n",
       "3  54.18     \n",
       "4  39.06     \n",
       "5     NA     \n",
       "6  19.25     \n",
       "7  77.30     \n",
       "8  39.10     \n",
       "9  19.77     \n",
       "10 57.13     "
      ]
     },
     "metadata": {},
     "output_type": "display_data"
    }
   ],
   "source": [
    "head(Medical_visit, n=10)"
   ]
  },
  {
   "cell_type": "markdown",
   "metadata": {},
   "source": [
    "# (g)"
   ]
  },
  {
   "cell_type": "markdown",
   "metadata": {},
   "source": [
    "We just need ones that have a county record, and have the correct date range."
   ]
  },
  {
   "cell_type": "code",
   "execution_count": 27,
   "metadata": {},
   "outputs": [],
   "source": [
    "Medical_visit2018 = Medical_visit[!is.na(county)\n",
    "                                  & service_date >= as.Date(\"2018-01-01\")\n",
    "                                  & service_date <= as.Date(\"2018-12-31\")]"
   ]
  },
  {
   "cell_type": "code",
   "execution_count": 28,
   "metadata": {},
   "outputs": [
    {
     "data": {
      "text/html": [
       "<table class=\"dataframe\">\n",
       "<caption>A data.table: 20 × 8</caption>\n",
       "<thead>\n",
       "\t<tr><th scope=col>id</th><th scope=col>birth_dt</th><th scope=col>gender</th><th scope=col>county</th><th scope=col>service_date</th><th scope=col>service_num</th><th scope=col>max_svc_date</th><th scope=col>age_by_svc</th></tr>\n",
       "\t<tr><th scope=col>&lt;int&gt;</th><th scope=col>&lt;date&gt;</th><th scope=col>&lt;int&gt;</th><th scope=col>&lt;chr&gt;</th><th scope=col>&lt;date&gt;</th><th scope=col>&lt;int&gt;</th><th scope=col>&lt;date&gt;</th><th scope=col>&lt;dbl&gt;</th></tr>\n",
       "</thead>\n",
       "<tbody>\n",
       "\t<tr><td> 3</td><td>1964-04-18</td><td>2</td><td>Plumas        </td><td>2018-07-22</td><td>16</td><td>2018-07-22</td><td>54.18</td></tr>\n",
       "\t<tr><td> 7</td><td>1940-09-25</td><td>2</td><td>Glenn         </td><td>2018-02-19</td><td>20</td><td>2018-02-19</td><td>77.30</td></tr>\n",
       "\t<tr><td>15</td><td>2004-09-04</td><td>1</td><td>Alpine        </td><td>2018-02-25</td><td>19</td><td>2018-02-25</td><td>13.46</td></tr>\n",
       "\t<tr><td>17</td><td>2007-09-27</td><td>2</td><td>Tehama        </td><td>2018-12-19</td><td>19</td><td>2018-12-19</td><td>11.21</td></tr>\n",
       "\t<tr><td>23</td><td>1973-06-24</td><td>2</td><td>Monterey      </td><td>2018-12-03</td><td>15</td><td>2018-12-03</td><td>45.38</td></tr>\n",
       "\t<tr><td>26</td><td>1962-07-01</td><td>2</td><td>Mariposa      </td><td>2018-11-22</td><td>14</td><td>2018-11-22</td><td>56.32</td></tr>\n",
       "\t<tr><td>29</td><td>1998-11-13</td><td>2</td><td>San Bernardino</td><td>2018-11-29</td><td>11</td><td>2018-11-29</td><td>20.02</td></tr>\n",
       "\t<tr><td>31</td><td>2002-01-13</td><td>2</td><td>Marin         </td><td>2018-02-10</td><td> 2</td><td>2018-02-10</td><td>16.05</td></tr>\n",
       "\t<tr><td>32</td><td>1941-01-15</td><td>1</td><td>Inyo          </td><td>2018-03-22</td><td> 1</td><td>2018-03-22</td><td>77.07</td></tr>\n",
       "\t<tr><td>33</td><td>1981-02-03</td><td>1</td><td>Calaveras     </td><td>2018-12-10</td><td> 1</td><td>2018-04-17</td><td>37.80</td></tr>\n",
       "\t<tr><td>33</td><td>1981-02-03</td><td>1</td><td>Calaveras     </td><td>2018-04-17</td><td>11</td><td>2018-04-17</td><td>37.15</td></tr>\n",
       "\t<tr><td>35</td><td>NA</td><td>1</td><td>Plumas        </td><td>2018-01-12</td><td>18</td><td>2018-01-12</td><td>   NA</td></tr>\n",
       "\t<tr><td>37</td><td>1980-12-14</td><td>1</td><td>Shasta        </td><td>2018-03-07</td><td> 9</td><td>2018-03-07</td><td>37.18</td></tr>\n",
       "\t<tr><td>41</td><td>1955-01-01</td><td>1</td><td>Inyo          </td><td>2018-04-18</td><td> 9</td><td>2018-04-18</td><td>63.21</td></tr>\n",
       "\t<tr><td>43</td><td>2012-05-13</td><td>1</td><td>Madera        </td><td>2018-04-19</td><td> 5</td><td>2018-04-19</td><td> 5.92</td></tr>\n",
       "\t<tr><td>44</td><td>1941-01-30</td><td>1</td><td>San Diego     </td><td>2018-08-16</td><td>20</td><td>2018-08-16</td><td>77.44</td></tr>\n",
       "\t<tr><td>45</td><td>1983-05-24</td><td>2</td><td>Ventura       </td><td>2018-06-22</td><td> 1</td><td>2018-06-22</td><td>35.03</td></tr>\n",
       "\t<tr><td>47</td><td>2001-07-08</td><td>2</td><td>Kern          </td><td>2018-04-26</td><td>17</td><td>2018-04-26</td><td>16.78</td></tr>\n",
       "\t<tr><td>48</td><td>2006-08-14</td><td>1</td><td>Yolo          </td><td>2018-03-24</td><td> 3</td><td>2018-03-24</td><td>11.59</td></tr>\n",
       "\t<tr><td>50</td><td>1982-09-10</td><td>1</td><td>San Mateo     </td><td>2018-07-16</td><td>14</td><td>2018-07-16</td><td>35.80</td></tr>\n",
       "</tbody>\n",
       "</table>\n"
      ],
      "text/latex": [
       "A data.table: 20 × 8\n",
       "\\begin{tabular}{llllllll}\n",
       " id & birth\\_dt & gender & county & service\\_date & service\\_num & max\\_svc\\_date & age\\_by\\_svc\\\\\n",
       " <int> & <date> & <int> & <chr> & <date> & <int> & <date> & <dbl>\\\\\n",
       "\\hline\n",
       "\t  3 & 1964-04-18 & 2 & Plumas         & 2018-07-22 & 16 & 2018-07-22 & 54.18\\\\\n",
       "\t  7 & 1940-09-25 & 2 & Glenn          & 2018-02-19 & 20 & 2018-02-19 & 77.30\\\\\n",
       "\t 15 & 2004-09-04 & 1 & Alpine         & 2018-02-25 & 19 & 2018-02-25 & 13.46\\\\\n",
       "\t 17 & 2007-09-27 & 2 & Tehama         & 2018-12-19 & 19 & 2018-12-19 & 11.21\\\\\n",
       "\t 23 & 1973-06-24 & 2 & Monterey       & 2018-12-03 & 15 & 2018-12-03 & 45.38\\\\\n",
       "\t 26 & 1962-07-01 & 2 & Mariposa       & 2018-11-22 & 14 & 2018-11-22 & 56.32\\\\\n",
       "\t 29 & 1998-11-13 & 2 & San Bernardino & 2018-11-29 & 11 & 2018-11-29 & 20.02\\\\\n",
       "\t 31 & 2002-01-13 & 2 & Marin          & 2018-02-10 &  2 & 2018-02-10 & 16.05\\\\\n",
       "\t 32 & 1941-01-15 & 1 & Inyo           & 2018-03-22 &  1 & 2018-03-22 & 77.07\\\\\n",
       "\t 33 & 1981-02-03 & 1 & Calaveras      & 2018-12-10 &  1 & 2018-04-17 & 37.80\\\\\n",
       "\t 33 & 1981-02-03 & 1 & Calaveras      & 2018-04-17 & 11 & 2018-04-17 & 37.15\\\\\n",
       "\t 35 & NA & 1 & Plumas         & 2018-01-12 & 18 & 2018-01-12 &    NA\\\\\n",
       "\t 37 & 1980-12-14 & 1 & Shasta         & 2018-03-07 &  9 & 2018-03-07 & 37.18\\\\\n",
       "\t 41 & 1955-01-01 & 1 & Inyo           & 2018-04-18 &  9 & 2018-04-18 & 63.21\\\\\n",
       "\t 43 & 2012-05-13 & 1 & Madera         & 2018-04-19 &  5 & 2018-04-19 &  5.92\\\\\n",
       "\t 44 & 1941-01-30 & 1 & San Diego      & 2018-08-16 & 20 & 2018-08-16 & 77.44\\\\\n",
       "\t 45 & 1983-05-24 & 2 & Ventura        & 2018-06-22 &  1 & 2018-06-22 & 35.03\\\\\n",
       "\t 47 & 2001-07-08 & 2 & Kern           & 2018-04-26 & 17 & 2018-04-26 & 16.78\\\\\n",
       "\t 48 & 2006-08-14 & 1 & Yolo           & 2018-03-24 &  3 & 2018-03-24 & 11.59\\\\\n",
       "\t 50 & 1982-09-10 & 1 & San Mateo      & 2018-07-16 & 14 & 2018-07-16 & 35.80\\\\\n",
       "\\end{tabular}\n"
      ],
      "text/markdown": [
       "\n",
       "A data.table: 20 × 8\n",
       "\n",
       "| id &lt;int&gt; | birth_dt &lt;date&gt; | gender &lt;int&gt; | county &lt;chr&gt; | service_date &lt;date&gt; | service_num &lt;int&gt; | max_svc_date &lt;date&gt; | age_by_svc &lt;dbl&gt; |\n",
       "|---|---|---|---|---|---|---|---|\n",
       "|  3 | 1964-04-18 | 2 | Plumas         | 2018-07-22 | 16 | 2018-07-22 | 54.18 |\n",
       "|  7 | 1940-09-25 | 2 | Glenn          | 2018-02-19 | 20 | 2018-02-19 | 77.30 |\n",
       "| 15 | 2004-09-04 | 1 | Alpine         | 2018-02-25 | 19 | 2018-02-25 | 13.46 |\n",
       "| 17 | 2007-09-27 | 2 | Tehama         | 2018-12-19 | 19 | 2018-12-19 | 11.21 |\n",
       "| 23 | 1973-06-24 | 2 | Monterey       | 2018-12-03 | 15 | 2018-12-03 | 45.38 |\n",
       "| 26 | 1962-07-01 | 2 | Mariposa       | 2018-11-22 | 14 | 2018-11-22 | 56.32 |\n",
       "| 29 | 1998-11-13 | 2 | San Bernardino | 2018-11-29 | 11 | 2018-11-29 | 20.02 |\n",
       "| 31 | 2002-01-13 | 2 | Marin          | 2018-02-10 |  2 | 2018-02-10 | 16.05 |\n",
       "| 32 | 1941-01-15 | 1 | Inyo           | 2018-03-22 |  1 | 2018-03-22 | 77.07 |\n",
       "| 33 | 1981-02-03 | 1 | Calaveras      | 2018-12-10 |  1 | 2018-04-17 | 37.80 |\n",
       "| 33 | 1981-02-03 | 1 | Calaveras      | 2018-04-17 | 11 | 2018-04-17 | 37.15 |\n",
       "| 35 | NA | 1 | Plumas         | 2018-01-12 | 18 | 2018-01-12 |    NA |\n",
       "| 37 | 1980-12-14 | 1 | Shasta         | 2018-03-07 |  9 | 2018-03-07 | 37.18 |\n",
       "| 41 | 1955-01-01 | 1 | Inyo           | 2018-04-18 |  9 | 2018-04-18 | 63.21 |\n",
       "| 43 | 2012-05-13 | 1 | Madera         | 2018-04-19 |  5 | 2018-04-19 |  5.92 |\n",
       "| 44 | 1941-01-30 | 1 | San Diego      | 2018-08-16 | 20 | 2018-08-16 | 77.44 |\n",
       "| 45 | 1983-05-24 | 2 | Ventura        | 2018-06-22 |  1 | 2018-06-22 | 35.03 |\n",
       "| 47 | 2001-07-08 | 2 | Kern           | 2018-04-26 | 17 | 2018-04-26 | 16.78 |\n",
       "| 48 | 2006-08-14 | 1 | Yolo           | 2018-03-24 |  3 | 2018-03-24 | 11.59 |\n",
       "| 50 | 1982-09-10 | 1 | San Mateo      | 2018-07-16 | 14 | 2018-07-16 | 35.80 |\n",
       "\n"
      ],
      "text/plain": [
       "   id birth_dt   gender county         service_date service_num max_svc_date\n",
       "1   3 1964-04-18 2      Plumas         2018-07-22   16          2018-07-22  \n",
       "2   7 1940-09-25 2      Glenn          2018-02-19   20          2018-02-19  \n",
       "3  15 2004-09-04 1      Alpine         2018-02-25   19          2018-02-25  \n",
       "4  17 2007-09-27 2      Tehama         2018-12-19   19          2018-12-19  \n",
       "5  23 1973-06-24 2      Monterey       2018-12-03   15          2018-12-03  \n",
       "6  26 1962-07-01 2      Mariposa       2018-11-22   14          2018-11-22  \n",
       "7  29 1998-11-13 2      San Bernardino 2018-11-29   11          2018-11-29  \n",
       "8  31 2002-01-13 2      Marin          2018-02-10    2          2018-02-10  \n",
       "9  32 1941-01-15 1      Inyo           2018-03-22    1          2018-03-22  \n",
       "10 33 1981-02-03 1      Calaveras      2018-12-10    1          2018-04-17  \n",
       "11 33 1981-02-03 1      Calaveras      2018-04-17   11          2018-04-17  \n",
       "12 35 <NA>       1      Plumas         2018-01-12   18          2018-01-12  \n",
       "13 37 1980-12-14 1      Shasta         2018-03-07    9          2018-03-07  \n",
       "14 41 1955-01-01 1      Inyo           2018-04-18    9          2018-04-18  \n",
       "15 43 2012-05-13 1      Madera         2018-04-19    5          2018-04-19  \n",
       "16 44 1941-01-30 1      San Diego      2018-08-16   20          2018-08-16  \n",
       "17 45 1983-05-24 2      Ventura        2018-06-22    1          2018-06-22  \n",
       "18 47 2001-07-08 2      Kern           2018-04-26   17          2018-04-26  \n",
       "19 48 2006-08-14 1      Yolo           2018-03-24    3          2018-03-24  \n",
       "20 50 1982-09-10 1      San Mateo      2018-07-16   14          2018-07-16  \n",
       "   age_by_svc\n",
       "1  54.18     \n",
       "2  77.30     \n",
       "3  13.46     \n",
       "4  11.21     \n",
       "5  45.38     \n",
       "6  56.32     \n",
       "7  20.02     \n",
       "8  16.05     \n",
       "9  77.07     \n",
       "10 37.80     \n",
       "11 37.15     \n",
       "12    NA     \n",
       "13 37.18     \n",
       "14 63.21     \n",
       "15  5.92     \n",
       "16 77.44     \n",
       "17 35.03     \n",
       "18 16.78     \n",
       "19 11.59     \n",
       "20 35.80     "
      ]
     },
     "metadata": {},
     "output_type": "display_data"
    }
   ],
   "source": [
    "head(Medical_visit2018, n=20)"
   ]
  },
  {
   "cell_type": "markdown",
   "metadata": {},
   "source": [
    "We can once again use an apply to get statistics summaries from each county, with a specialized summary function to account for the fact that some counties might actually have no NA values. Otherwise the length of the result of summary can vary and then data.table gets confused."
   ]
  },
  {
   "cell_type": "code",
   "execution_count": 29,
   "metadata": {
    "scrolled": true
   },
   "outputs": [],
   "source": [
    "my_summary = function(v){\n",
    "  if(!any(is.na(v))){\n",
    "    res = c(summary(v),\"NA's\"=0)\n",
    "  } else{\n",
    "    res = summary(v)\n",
    "  }\n",
    "  return(res)\n",
    "}\n",
    "\n",
    "Age_distri = Medical_visit2018[, as.list(my_summary(age_by_svc)), by = county]\n",
    "Age_distri = Age_distri[, `NA's`:=NULL]\n",
    "\n",
    "setcolorder(Age_distri, c(\"county\",\"Min.\", \"1st Qu.\", \"Median\", \"3rd Qu.\", \"Max.\", \"Mean\"))"
   ]
  },
  {
   "cell_type": "code",
   "execution_count": 30,
   "metadata": {},
   "outputs": [
    {
     "data": {
      "text/html": [
       "<table class=\"dataframe\">\n",
       "<caption>A data.table: 6 × 7</caption>\n",
       "<thead>\n",
       "\t<tr><th scope=col>county</th><th scope=col>Min.</th><th scope=col>1st Qu.</th><th scope=col>Median</th><th scope=col>3rd Qu.</th><th scope=col>Max.</th><th scope=col>Mean</th></tr>\n",
       "\t<tr><th scope=col>&lt;chr&gt;</th><th scope=col>&lt;dbl&gt;</th><th scope=col>&lt;dbl&gt;</th><th scope=col>&lt;dbl&gt;</th><th scope=col>&lt;dbl&gt;</th><th scope=col>&lt;dbl&gt;</th><th scope=col>&lt;dbl&gt;</th></tr>\n",
       "</thead>\n",
       "<tbody>\n",
       "\t<tr><td>Plumas  </td><td> 0.00</td><td>10.540</td><td>50.130</td><td>56.875</td><td>74.02</td><td>38.59333</td></tr>\n",
       "\t<tr><td>Glenn   </td><td> 8.71</td><td>32.430</td><td>45.400</td><td>48.280</td><td>77.30</td><td>40.89667</td></tr>\n",
       "\t<tr><td>Alpine  </td><td> 7.47</td><td>16.840</td><td>39.470</td><td>71.070</td><td>77.91</td><td>41.46364</td></tr>\n",
       "\t<tr><td>Tehama  </td><td>11.21</td><td>32.805</td><td>48.345</td><td>58.130</td><td>75.58</td><td>45.16000</td></tr>\n",
       "\t<tr><td>Monterey</td><td>10.18</td><td>27.970</td><td>33.780</td><td>38.520</td><td>67.31</td><td>35.32556</td></tr>\n",
       "\t<tr><td>Mariposa</td><td>43.39</td><td>52.030</td><td>56.320</td><td>58.560</td><td>58.84</td><td>53.82800</td></tr>\n",
       "</tbody>\n",
       "</table>\n"
      ],
      "text/latex": [
       "A data.table: 6 × 7\n",
       "\\begin{tabular}{lllllll}\n",
       " county & Min. & 1st Qu. & Median & 3rd Qu. & Max. & Mean\\\\\n",
       " <chr> & <dbl> & <dbl> & <dbl> & <dbl> & <dbl> & <dbl>\\\\\n",
       "\\hline\n",
       "\t Plumas   &  0.00 & 10.540 & 50.130 & 56.875 & 74.02 & 38.59333\\\\\n",
       "\t Glenn    &  8.71 & 32.430 & 45.400 & 48.280 & 77.30 & 40.89667\\\\\n",
       "\t Alpine   &  7.47 & 16.840 & 39.470 & 71.070 & 77.91 & 41.46364\\\\\n",
       "\t Tehama   & 11.21 & 32.805 & 48.345 & 58.130 & 75.58 & 45.16000\\\\\n",
       "\t Monterey & 10.18 & 27.970 & 33.780 & 38.520 & 67.31 & 35.32556\\\\\n",
       "\t Mariposa & 43.39 & 52.030 & 56.320 & 58.560 & 58.84 & 53.82800\\\\\n",
       "\\end{tabular}\n"
      ],
      "text/markdown": [
       "\n",
       "A data.table: 6 × 7\n",
       "\n",
       "| county &lt;chr&gt; | Min. &lt;dbl&gt; | 1st Qu. &lt;dbl&gt; | Median &lt;dbl&gt; | 3rd Qu. &lt;dbl&gt; | Max. &lt;dbl&gt; | Mean &lt;dbl&gt; |\n",
       "|---|---|---|---|---|---|---|\n",
       "| Plumas   |  0.00 | 10.540 | 50.130 | 56.875 | 74.02 | 38.59333 |\n",
       "| Glenn    |  8.71 | 32.430 | 45.400 | 48.280 | 77.30 | 40.89667 |\n",
       "| Alpine   |  7.47 | 16.840 | 39.470 | 71.070 | 77.91 | 41.46364 |\n",
       "| Tehama   | 11.21 | 32.805 | 48.345 | 58.130 | 75.58 | 45.16000 |\n",
       "| Monterey | 10.18 | 27.970 | 33.780 | 38.520 | 67.31 | 35.32556 |\n",
       "| Mariposa | 43.39 | 52.030 | 56.320 | 58.560 | 58.84 | 53.82800 |\n",
       "\n"
      ],
      "text/plain": [
       "  county   Min.  1st Qu. Median 3rd Qu. Max.  Mean    \n",
       "1 Plumas    0.00 10.540  50.130 56.875  74.02 38.59333\n",
       "2 Glenn     8.71 32.430  45.400 48.280  77.30 40.89667\n",
       "3 Alpine    7.47 16.840  39.470 71.070  77.91 41.46364\n",
       "4 Tehama   11.21 32.805  48.345 58.130  75.58 45.16000\n",
       "5 Monterey 10.18 27.970  33.780 38.520  67.31 35.32556\n",
       "6 Mariposa 43.39 52.030  56.320 58.560  58.84 53.82800"
      ]
     },
     "metadata": {},
     "output_type": "display_data"
    }
   ],
   "source": [
    "head(Age_distri)"
   ]
  },
  {
   "cell_type": "markdown",
   "metadata": {},
   "source": [
    "By far the part of the assignment that took the longest figuring out all the age stuff correctly, like during simulations it'd be very likely you'd get a good amount of people who had service dates before they were born. I was torn between a couple options:\n",
    "1. Programming a method that would change any birthdays based on the service date\n",
    "2. Programming a method that would change any service days based on the birth date\n",
    "3. Programming a method that at the very beginning only choose dates after the birth date\n",
    "4. Delete all rows with invalid birthdays/service days\n",
    "\n",
    "I figured out a way to do all of these, but I realized that they were probably all flawed in some fundamental way. For example, changing dates after adding so much information was probably not a good practice, and option 3 is actually more logically flawed: there are some birthdates that happens even completely after the given service range. And option 4 would change the size of the dataset, and I wanted to have all rows stick throughout the entire process. \n",
    "\n",
    "Perhaps I could have had a fancy method as well to have NA information on those entries, but at that point, what's the difference between deleting those rows, i.e. not having them around in the first place. \n",
    "\n",
    "For those reasons, you've already seen what I ended up going with: I changed the range of valid birthdays so that we only include people that were born before the last recorded service day. This was probably the most obvious option, but I was just initially a bit afraid of straying too much from the specifications, but I just imagined if I were really working on a simulation like this for my own research, I probably wouldn't hesitate to do something like this."
   ]
  }
 ],
 "metadata": {
  "kernelspec": {
   "display_name": "R",
   "language": "R",
   "name": "ir"
  },
  "language_info": {
   "codemirror_mode": "r",
   "file_extension": ".r",
   "mimetype": "text/x-r-source",
   "name": "R",
   "pygments_lexer": "r",
   "version": "4.0.5"
  }
 },
 "nbformat": 4,
 "nbformat_minor": 4
}
