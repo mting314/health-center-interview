{
 "cells": [
  {
   "cell_type": "code",
   "execution_count": 1,
   "metadata": {},
   "outputs": [
    {
     "name": "stderr",
     "output_type": "stream",
     "text": [
      "-- \u001b[1mAttaching packages\u001b[22m ------------------------------------------------------------------------------- tidyverse 1.3.1 --\n",
      "\n",
      "\u001b[32mv\u001b[39m \u001b[34mggplot2\u001b[39m 3.3.3     \u001b[32mv\u001b[39m \u001b[34mpurrr  \u001b[39m 0.3.4\n",
      "\u001b[32mv\u001b[39m \u001b[34mtibble \u001b[39m 3.1.0     \u001b[32mv\u001b[39m \u001b[34mdplyr  \u001b[39m 1.0.6\n",
      "\u001b[32mv\u001b[39m \u001b[34mtidyr  \u001b[39m 1.1.3     \u001b[32mv\u001b[39m \u001b[34mforcats\u001b[39m 0.5.1\n",
      "\u001b[32mv\u001b[39m \u001b[34mreadr  \u001b[39m 1.4.0     \n",
      "\n",
      "-- \u001b[1mConflicts\u001b[22m ---------------------------------------------------------------------------------- tidyverse_conflicts() --\n",
      "\u001b[31mx\u001b[39m \u001b[34mdplyr\u001b[39m::\u001b[32mbetween()\u001b[39m   masks \u001b[34mdata.table\u001b[39m::between()\n",
      "\u001b[31mx\u001b[39m \u001b[34mdplyr\u001b[39m::\u001b[32mfilter()\u001b[39m    masks \u001b[34mstats\u001b[39m::filter()\n",
      "\u001b[31mx\u001b[39m \u001b[34mdplyr\u001b[39m::\u001b[32mfirst()\u001b[39m     masks \u001b[34mdata.table\u001b[39m::first()\n",
      "\u001b[31mx\u001b[39m \u001b[34mdplyr\u001b[39m::\u001b[32mlag()\u001b[39m       masks \u001b[34mstats\u001b[39m::lag()\n",
      "\u001b[31mx\u001b[39m \u001b[34mdplyr\u001b[39m::\u001b[32mlast()\u001b[39m      masks \u001b[34mdata.table\u001b[39m::last()\n",
      "\u001b[31mx\u001b[39m \u001b[34mpurrr\u001b[39m::\u001b[32mtranspose()\u001b[39m masks \u001b[34mdata.table\u001b[39m::transpose()\n",
      "\n"
     ]
    }
   ],
   "source": [
    "library(data.table)\n",
    "library(stringr)\n",
    "library(tidyverse)"
   ]
  },
  {
   "cell_type": "code",
   "execution_count": 2,
   "metadata": {},
   "outputs": [],
   "source": [
    "N = 100 # number of rows in claims\n",
    "n = 10 # number of unique ids"
   ]
  },
  {
   "cell_type": "markdown",
   "metadata": {},
   "source": [
    "It wouldn't be too annoying to recreate one every time, but that would involve fiddling with converting a sampling of `birth_date`s into characters, only for them to be converted back into dates right after, which seemed a bit silly.\n",
    "\n",
    "So for that reason, and consistency as well, I created the initial dataset (not too interesting in R so I left it out), and used Excel to force the dates into the character format we want."
   ]
  },
  {
   "cell_type": "code",
   "execution_count": 3,
   "metadata": {},
   "outputs": [
    {
     "data": {
      "text/html": [
       "<table class=\"dataframe\">\n",
       "<caption>A data.table: 6 × 3</caption>\n",
       "<thead>\n",
       "\t<tr><th scope=col>id</th><th scope=col>birth_date</th><th scope=col>NDC</th></tr>\n",
       "\t<tr><th scope=col>&lt;int&gt;</th><th scope=col>&lt;chr&gt;</th><th scope=col>&lt;int64&gt;</th></tr>\n",
       "</thead>\n",
       "<tbody>\n",
       "\t<tr><td>3</td><td>12-31-2021</td><td>6020429411</td></tr>\n",
       "\t<tr><td>6</td><td>12-30-2021</td><td>1505506190</td></tr>\n",
       "\t<tr><td>4</td><td>12-30-2021</td><td>2051918453</td></tr>\n",
       "\t<tr><td>4</td><td>12-30-2021</td><td>6009829428</td></tr>\n",
       "\t<tr><td>9</td><td>12-31-2021</td><td>7668618696</td></tr>\n",
       "\t<tr><td>3</td><td>12-30-2021</td><td>2274652695</td></tr>\n",
       "</tbody>\n",
       "</table>\n"
      ],
      "text/latex": [
       "A data.table: 6 × 3\n",
       "\\begin{tabular}{lll}\n",
       " id & birth\\_date & NDC\\\\\n",
       " <int> & <chr> & <int64>\\\\\n",
       "\\hline\n",
       "\t 3 & 12-31-2021 & 6020429411\\\\\n",
       "\t 6 & 12-30-2021 & 1505506190\\\\\n",
       "\t 4 & 12-30-2021 & 2051918453\\\\\n",
       "\t 4 & 12-30-2021 & 6009829428\\\\\n",
       "\t 9 & 12-31-2021 & 7668618696\\\\\n",
       "\t 3 & 12-30-2021 & 2274652695\\\\\n",
       "\\end{tabular}\n"
      ],
      "text/markdown": [
       "\n",
       "A data.table: 6 × 3\n",
       "\n",
       "| id &lt;int&gt; | birth_date &lt;chr&gt; | NDC &lt;int64&gt; |\n",
       "|---|---|---|\n",
       "| 3 | 12-31-2021 | 6020429411 |\n",
       "| 6 | 12-30-2021 | 1505506190 |\n",
       "| 4 | 12-30-2021 | 2051918453 |\n",
       "| 4 | 12-30-2021 | 6009829428 |\n",
       "| 9 | 12-31-2021 | 7668618696 |\n",
       "| 3 | 12-30-2021 | 2274652695 |\n",
       "\n"
      ],
      "text/plain": [
       "  id birth_date NDC       \n",
       "1 3  12-31-2021 6020429411\n",
       "2 6  12-30-2021 1505506190\n",
       "3 4  12-30-2021 2051918453\n",
       "4 4  12-30-2021 6009829428\n",
       "5 9  12-31-2021 7668618696\n",
       "6 3  12-30-2021 2274652695"
      ]
     },
     "metadata": {},
     "output_type": "display_data"
    }
   ],
   "source": [
    "Claims=fread(\"claims.csv\",header=T)\n",
    "head(Claims)"
   ]
  },
  {
   "cell_type": "markdown",
   "metadata": {},
   "source": [
    "# (a)"
   ]
  },
  {
   "cell_type": "markdown",
   "metadata": {},
   "source": [
    "The idea is to use `grepl` to get the columns that end with `_date`, and use those as our `.SD`, and then apply `parse_datetime` from tidyverse to each column.\n",
    "\n",
    "I'll make this into a function as we'll want to use it later."
   ]
  },
  {
   "cell_type": "code",
   "execution_count": 4,
   "metadata": {},
   "outputs": [
    {
     "data": {
      "text/html": [
       "<table class=\"dataframe\">\n",
       "<caption>A data.table: 6 × 3</caption>\n",
       "<thead>\n",
       "\t<tr><th scope=col>id</th><th scope=col>birth_date</th><th scope=col>NDC</th></tr>\n",
       "\t<tr><th scope=col>&lt;int&gt;</th><th scope=col>&lt;dttm&gt;</th><th scope=col>&lt;int64&gt;</th></tr>\n",
       "</thead>\n",
       "<tbody>\n",
       "\t<tr><td>3</td><td>2021-12-31</td><td>6020429411</td></tr>\n",
       "\t<tr><td>6</td><td>2021-12-30</td><td>1505506190</td></tr>\n",
       "\t<tr><td>4</td><td>2021-12-30</td><td>2051918453</td></tr>\n",
       "\t<tr><td>4</td><td>2021-12-30</td><td>6009829428</td></tr>\n",
       "\t<tr><td>9</td><td>2021-12-31</td><td>7668618696</td></tr>\n",
       "\t<tr><td>3</td><td>2021-12-30</td><td>2274652695</td></tr>\n",
       "</tbody>\n",
       "</table>\n"
      ],
      "text/latex": [
       "A data.table: 6 × 3\n",
       "\\begin{tabular}{lll}\n",
       " id & birth\\_date & NDC\\\\\n",
       " <int> & <dttm> & <int64>\\\\\n",
       "\\hline\n",
       "\t 3 & 2021-12-31 & 6020429411\\\\\n",
       "\t 6 & 2021-12-30 & 1505506190\\\\\n",
       "\t 4 & 2021-12-30 & 2051918453\\\\\n",
       "\t 4 & 2021-12-30 & 6009829428\\\\\n",
       "\t 9 & 2021-12-31 & 7668618696\\\\\n",
       "\t 3 & 2021-12-30 & 2274652695\\\\\n",
       "\\end{tabular}\n"
      ],
      "text/markdown": [
       "\n",
       "A data.table: 6 × 3\n",
       "\n",
       "| id &lt;int&gt; | birth_date &lt;dttm&gt; | NDC &lt;int64&gt; |\n",
       "|---|---|---|\n",
       "| 3 | 2021-12-31 | 6020429411 |\n",
       "| 6 | 2021-12-30 | 1505506190 |\n",
       "| 4 | 2021-12-30 | 2051918453 |\n",
       "| 4 | 2021-12-30 | 6009829428 |\n",
       "| 9 | 2021-12-31 | 7668618696 |\n",
       "| 3 | 2021-12-30 | 2274652695 |\n",
       "\n"
      ],
      "text/plain": [
       "  id birth_date NDC       \n",
       "1 3  2021-12-31 6020429411\n",
       "2 6  2021-12-30 1505506190\n",
       "3 4  2021-12-30 2051918453\n",
       "4 4  2021-12-30 6009829428\n",
       "5 9  2021-12-31 7668618696\n",
       "6 3  2021-12-30 2274652695"
      ]
     },
     "metadata": {},
     "output_type": "display_data"
    }
   ],
   "source": [
    "# change ones that end with _date to character\n",
    "datify = function(Claims) {\n",
    "    cols = grepl( \"_date$\" , names( Claims )\n",
    "    Claims[,(cols) :=lapply(.SD,function(v){\n",
    "      parse_datetime(v, \"%m-%d-%Y\")\n",
    "    }), .SDcols=cols]\n",
    "}\n",
    "\n",
    "Claims = datify(Claims)\n",
    "\n",
    "head(Claims)"
   ]
  },
  {
   "cell_type": "markdown",
   "metadata": {},
   "source": [
    "# (b)"
   ]
  },
  {
   "cell_type": "markdown",
   "metadata": {},
   "source": [
    "We can just use `str_pad` from `stringr`."
   ]
  },
  {
   "cell_type": "code",
   "execution_count": 5,
   "metadata": {
    "scrolled": true
   },
   "outputs": [
    {
     "data": {
      "text/html": [
       "<table class=\"dataframe\">\n",
       "<caption>A data.table: 6 × 3</caption>\n",
       "<thead>\n",
       "\t<tr><th scope=col>id</th><th scope=col>birth_date</th><th scope=col>NDC</th></tr>\n",
       "\t<tr><th scope=col>&lt;int&gt;</th><th scope=col>&lt;dttm&gt;</th><th scope=col>&lt;chr&gt;</th></tr>\n",
       "</thead>\n",
       "<tbody>\n",
       "\t<tr><td>3</td><td>2021-12-31</td><td>6020429411</td></tr>\n",
       "\t<tr><td>6</td><td>2021-12-30</td><td>1505506190</td></tr>\n",
       "\t<tr><td>4</td><td>2021-12-30</td><td>2051918453</td></tr>\n",
       "\t<tr><td>4</td><td>2021-12-30</td><td>6009829428</td></tr>\n",
       "\t<tr><td>9</td><td>2021-12-31</td><td>7668618696</td></tr>\n",
       "\t<tr><td>3</td><td>2021-12-30</td><td>2274652695</td></tr>\n",
       "</tbody>\n",
       "</table>\n"
      ],
      "text/latex": [
       "A data.table: 6 × 3\n",
       "\\begin{tabular}{lll}\n",
       " id & birth\\_date & NDC\\\\\n",
       " <int> & <dttm> & <chr>\\\\\n",
       "\\hline\n",
       "\t 3 & 2021-12-31 & 6020429411\\\\\n",
       "\t 6 & 2021-12-30 & 1505506190\\\\\n",
       "\t 4 & 2021-12-30 & 2051918453\\\\\n",
       "\t 4 & 2021-12-30 & 6009829428\\\\\n",
       "\t 9 & 2021-12-31 & 7668618696\\\\\n",
       "\t 3 & 2021-12-30 & 2274652695\\\\\n",
       "\\end{tabular}\n"
      ],
      "text/markdown": [
       "\n",
       "A data.table: 6 × 3\n",
       "\n",
       "| id &lt;int&gt; | birth_date &lt;dttm&gt; | NDC &lt;chr&gt; |\n",
       "|---|---|---|\n",
       "| 3 | 2021-12-31 | 6020429411 |\n",
       "| 6 | 2021-12-30 | 1505506190 |\n",
       "| 4 | 2021-12-30 | 2051918453 |\n",
       "| 4 | 2021-12-30 | 6009829428 |\n",
       "| 9 | 2021-12-31 | 7668618696 |\n",
       "| 3 | 2021-12-30 | 2274652695 |\n",
       "\n"
      ],
      "text/plain": [
       "  id birth_date NDC       \n",
       "1 3  2021-12-31 6020429411\n",
       "2 6  2021-12-30 1505506190\n",
       "3 4  2021-12-30 2051918453\n",
       "4 4  2021-12-30 6009829428\n",
       "5 9  2021-12-31 7668618696\n",
       "6 3  2021-12-30 2274652695"
      ]
     },
     "metadata": {},
     "output_type": "display_data"
    }
   ],
   "source": [
    "Claims = Claims[, NDC:=str_pad(as.character(NDC), 10, pad = \"0\")]\n",
    "head(Claims)"
   ]
  },
  {
   "cell_type": "markdown",
   "metadata": {},
   "source": [
    "# (c)"
   ]
  },
  {
   "cell_type": "markdown",
   "metadata": {},
   "source": [
    "Have to insert a service date, doing it with a non-replacing sample insures we'll not have duplicates for a given `id`+`birth_date` pairing."
   ]
  },
  {
   "cell_type": "code",
   "execution_count": 6,
   "metadata": {},
   "outputs": [],
   "source": [
    "Claims[, service_date:=sample(seq(as.Date('2018/01/01'), as.Date('2019/12/31'), by=\"day\"), size=.N), by=.(id, birth_date)]"
   ]
  },
  {
   "cell_type": "markdown",
   "metadata": {},
   "source": [
    "Pick out which birth date is most common with custom `Mode` function applied after grouping by `id`."
   ]
  },
  {
   "cell_type": "code",
   "execution_count": 7,
   "metadata": {},
   "outputs": [],
   "source": [
    "Mode = function(x) {\n",
    "    \n",
    "  ux = unique(x)\n",
    "  ux[which.max(tabulate(match(x, ux)))]\n",
    "}\n",
    "\n",
    "Claims[, birth_date:=lapply(.SD,Mode), by=id, .SDcols=\"birth_date\"]\n"
   ]
  },
  {
   "cell_type": "code",
   "execution_count": 8,
   "metadata": {},
   "outputs": [
    {
     "data": {
      "text/html": [
       "<table class=\"dataframe\">\n",
       "<caption>A data.table: 9 × 4</caption>\n",
       "<thead>\n",
       "\t<tr><th scope=col>id</th><th scope=col>birth_date</th><th scope=col>NDC</th><th scope=col>service_date</th></tr>\n",
       "\t<tr><th scope=col>&lt;int&gt;</th><th scope=col>&lt;dttm&gt;</th><th scope=col>&lt;chr&gt;</th><th scope=col>&lt;date&gt;</th></tr>\n",
       "</thead>\n",
       "<tbody>\n",
       "\t<tr><td>2</td><td>2021-12-30</td><td>7210560441</td><td>2019-07-29</td></tr>\n",
       "\t<tr><td>2</td><td>2021-12-30</td><td>4296207943</td><td>2019-06-02</td></tr>\n",
       "\t<tr><td>2</td><td>2021-12-30</td><td>6536948038</td><td>2019-02-22</td></tr>\n",
       "\t<tr><td>2</td><td>2021-12-30</td><td>2251484109</td><td>2019-12-10</td></tr>\n",
       "\t<tr><td>2</td><td>2021-12-30</td><td>0033129199</td><td>2018-07-24</td></tr>\n",
       "\t<tr><td>2</td><td>2021-12-30</td><td>3712781839</td><td>2018-04-06</td></tr>\n",
       "\t<tr><td>2</td><td>2021-12-30</td><td>1031046859</td><td>2019-12-28</td></tr>\n",
       "\t<tr><td>2</td><td>2021-12-30</td><td>6901920283</td><td>2018-05-29</td></tr>\n",
       "\t<tr><td>2</td><td>2021-12-30</td><td>3025213308</td><td>2018-10-02</td></tr>\n",
       "</tbody>\n",
       "</table>\n"
      ],
      "text/latex": [
       "A data.table: 9 × 4\n",
       "\\begin{tabular}{llll}\n",
       " id & birth\\_date & NDC & service\\_date\\\\\n",
       " <int> & <dttm> & <chr> & <date>\\\\\n",
       "\\hline\n",
       "\t 2 & 2021-12-30 & 7210560441 & 2019-07-29\\\\\n",
       "\t 2 & 2021-12-30 & 4296207943 & 2019-06-02\\\\\n",
       "\t 2 & 2021-12-30 & 6536948038 & 2019-02-22\\\\\n",
       "\t 2 & 2021-12-30 & 2251484109 & 2019-12-10\\\\\n",
       "\t 2 & 2021-12-30 & 0033129199 & 2018-07-24\\\\\n",
       "\t 2 & 2021-12-30 & 3712781839 & 2018-04-06\\\\\n",
       "\t 2 & 2021-12-30 & 1031046859 & 2019-12-28\\\\\n",
       "\t 2 & 2021-12-30 & 6901920283 & 2018-05-29\\\\\n",
       "\t 2 & 2021-12-30 & 3025213308 & 2018-10-02\\\\\n",
       "\\end{tabular}\n"
      ],
      "text/markdown": [
       "\n",
       "A data.table: 9 × 4\n",
       "\n",
       "| id &lt;int&gt; | birth_date &lt;dttm&gt; | NDC &lt;chr&gt; | service_date &lt;date&gt; |\n",
       "|---|---|---|---|\n",
       "| 2 | 2021-12-30 | 7210560441 | 2019-07-29 |\n",
       "| 2 | 2021-12-30 | 4296207943 | 2019-06-02 |\n",
       "| 2 | 2021-12-30 | 6536948038 | 2019-02-22 |\n",
       "| 2 | 2021-12-30 | 2251484109 | 2019-12-10 |\n",
       "| 2 | 2021-12-30 | 0033129199 | 2018-07-24 |\n",
       "| 2 | 2021-12-30 | 3712781839 | 2018-04-06 |\n",
       "| 2 | 2021-12-30 | 1031046859 | 2019-12-28 |\n",
       "| 2 | 2021-12-30 | 6901920283 | 2018-05-29 |\n",
       "| 2 | 2021-12-30 | 3025213308 | 2018-10-02 |\n",
       "\n"
      ],
      "text/plain": [
       "  id birth_date NDC        service_date\n",
       "1 2  2021-12-30 7210560441 2019-07-29  \n",
       "2 2  2021-12-30 4296207943 2019-06-02  \n",
       "3 2  2021-12-30 6536948038 2019-02-22  \n",
       "4 2  2021-12-30 2251484109 2019-12-10  \n",
       "5 2  2021-12-30 0033129199 2018-07-24  \n",
       "6 2  2021-12-30 3712781839 2018-04-06  \n",
       "7 2  2021-12-30 1031046859 2019-12-28  \n",
       "8 2  2021-12-30 6901920283 2018-05-29  \n",
       "9 2  2021-12-30 3025213308 2018-10-02  "
      ]
     },
     "metadata": {},
     "output_type": "display_data"
    }
   ],
   "source": [
    "Claims[id==2]"
   ]
  },
  {
   "cell_type": "markdown",
   "metadata": {},
   "source": [
    "So as you can see, the birth date for an individual is consistent across all entries in the id now."
   ]
  },
  {
   "cell_type": "markdown",
   "metadata": {},
   "source": [
    "# (d)"
   ]
  },
  {
   "cell_type": "markdown",
   "metadata": {},
   "source": [
    "We also have this consistency problem for the enrollment dataset, we want each id to have the same gender each time. The idea here will to make a preliminary `genders` dataset, which will be a table of each id and their gender. This way, we can just sample directly from this table, and the gender will still be tied to each id."
   ]
  },
  {
   "cell_type": "code",
   "execution_count": 9,
   "metadata": {},
   "outputs": [
    {
     "data": {
      "text/html": [
       "<table class=\"dataframe\">\n",
       "<caption>A data.table: 10 × 2</caption>\n",
       "<thead>\n",
       "\t<tr><th scope=col>id</th><th scope=col>gender</th></tr>\n",
       "\t<tr><th scope=col>&lt;int&gt;</th><th scope=col>&lt;dbl&gt;</th></tr>\n",
       "</thead>\n",
       "<tbody>\n",
       "\t<tr><td> 1</td><td>2</td></tr>\n",
       "\t<tr><td> 2</td><td>1</td></tr>\n",
       "\t<tr><td> 3</td><td>2</td></tr>\n",
       "\t<tr><td> 4</td><td>1</td></tr>\n",
       "\t<tr><td> 5</td><td>1</td></tr>\n",
       "\t<tr><td> 6</td><td>1</td></tr>\n",
       "\t<tr><td> 7</td><td>2</td></tr>\n",
       "\t<tr><td> 8</td><td>1</td></tr>\n",
       "\t<tr><td> 9</td><td>2</td></tr>\n",
       "\t<tr><td>10</td><td>2</td></tr>\n",
       "</tbody>\n",
       "</table>\n"
      ],
      "text/latex": [
       "A data.table: 10 × 2\n",
       "\\begin{tabular}{ll}\n",
       " id & gender\\\\\n",
       " <int> & <dbl>\\\\\n",
       "\\hline\n",
       "\t  1 & 2\\\\\n",
       "\t  2 & 1\\\\\n",
       "\t  3 & 2\\\\\n",
       "\t  4 & 1\\\\\n",
       "\t  5 & 1\\\\\n",
       "\t  6 & 1\\\\\n",
       "\t  7 & 2\\\\\n",
       "\t  8 & 1\\\\\n",
       "\t  9 & 2\\\\\n",
       "\t 10 & 2\\\\\n",
       "\\end{tabular}\n"
      ],
      "text/markdown": [
       "\n",
       "A data.table: 10 × 2\n",
       "\n",
       "| id &lt;int&gt; | gender &lt;dbl&gt; |\n",
       "|---|---|\n",
       "|  1 | 2 |\n",
       "|  2 | 1 |\n",
       "|  3 | 2 |\n",
       "|  4 | 1 |\n",
       "|  5 | 1 |\n",
       "|  6 | 1 |\n",
       "|  7 | 2 |\n",
       "|  8 | 1 |\n",
       "|  9 | 2 |\n",
       "| 10 | 2 |\n",
       "\n"
      ],
      "text/plain": [
       "   id gender\n",
       "1   1 2     \n",
       "2   2 1     \n",
       "3   3 2     \n",
       "4   4 1     \n",
       "5   5 1     \n",
       "6   6 1     \n",
       "7   7 2     \n",
       "8   8 1     \n",
       "9   9 2     \n",
       "10 10 2     "
      ]
     },
     "metadata": {},
     "output_type": "display_data"
    }
   ],
   "source": [
    "genders = data.table(id=1:n, gender=sample(c(1,2), size=n, replace=TRUE))\n",
    "genders"
   ]
  },
  {
   "cell_type": "code",
   "execution_count": 10,
   "metadata": {},
   "outputs": [],
   "source": [
    "enrollment_size = 200\n",
    "enrollment = genders[sample(1:n, enrollment_size, replace=TRUE), ]"
   ]
  },
  {
   "cell_type": "markdown",
   "metadata": {},
   "source": [
    "And notice that doing it this way will ensure that each id has uniform gender."
   ]
  },
  {
   "cell_type": "code",
   "execution_count": 11,
   "metadata": {
    "scrolled": true
   },
   "outputs": [
    {
     "data": {
      "text/html": [
       "<table class=\"dataframe\">\n",
       "<caption>A data.table: 6 × 2</caption>\n",
       "<thead>\n",
       "\t<tr><th scope=col>id</th><th scope=col>gender</th></tr>\n",
       "\t<tr><th scope=col>&lt;int&gt;</th><th scope=col>&lt;dbl&gt;</th></tr>\n",
       "</thead>\n",
       "<tbody>\n",
       "\t<tr><td>1</td><td>2</td></tr>\n",
       "\t<tr><td>1</td><td>2</td></tr>\n",
       "\t<tr><td>1</td><td>2</td></tr>\n",
       "\t<tr><td>1</td><td>2</td></tr>\n",
       "\t<tr><td>1</td><td>2</td></tr>\n",
       "\t<tr><td>1</td><td>2</td></tr>\n",
       "</tbody>\n",
       "</table>\n"
      ],
      "text/latex": [
       "A data.table: 6 × 2\n",
       "\\begin{tabular}{ll}\n",
       " id & gender\\\\\n",
       " <int> & <dbl>\\\\\n",
       "\\hline\n",
       "\t 1 & 2\\\\\n",
       "\t 1 & 2\\\\\n",
       "\t 1 & 2\\\\\n",
       "\t 1 & 2\\\\\n",
       "\t 1 & 2\\\\\n",
       "\t 1 & 2\\\\\n",
       "\\end{tabular}\n"
      ],
      "text/markdown": [
       "\n",
       "A data.table: 6 × 2\n",
       "\n",
       "| id &lt;int&gt; | gender &lt;dbl&gt; |\n",
       "|---|---|\n",
       "| 1 | 2 |\n",
       "| 1 | 2 |\n",
       "| 1 | 2 |\n",
       "| 1 | 2 |\n",
       "| 1 | 2 |\n",
       "| 1 | 2 |\n",
       "\n"
      ],
      "text/plain": [
       "  id gender\n",
       "1 1  2     \n",
       "2 1  2     \n",
       "3 1  2     \n",
       "4 1  2     \n",
       "5 1  2     \n",
       "6 1  2     "
      ]
     },
     "metadata": {},
     "output_type": "display_data"
    }
   ],
   "source": [
    "head(enrollment[id==1])"
   ]
  },
  {
   "cell_type": "markdown",
   "metadata": {},
   "source": [
    "Adding the enrollment date is as simple as sampling from a range. I'll pick the range given in part e), of possible months to be enrolled in."
   ]
  },
  {
   "cell_type": "code",
   "execution_count": 12,
   "metadata": {},
   "outputs": [],
   "source": [
    "enrollment[, enroll_date:=sample(seq(as.Date('2018/07/01'), as.Date('2019/04/01'), by=\"day\"), size=.N)]"
   ]
  },
  {
   "cell_type": "markdown",
   "metadata": {},
   "source": [
    "Here's where there trick will come in: we're going to have to perform a join on id's, where we paste the earliest enrollment date to each one. So we're going to need to aggregate this enrollment data.table to get the earliest date for each id. We could use an application of the `min` function, but we can do something maybe even simpler: reorder the dates within each id grouping.\n",
    "\n",
    "Then with chaining, we can just scrape the top row of each grouping to get the one that should be kept."
   ]
  },
  {
   "cell_type": "code",
   "execution_count": 13,
   "metadata": {},
   "outputs": [],
   "source": [
    "earliest_enrollment = enrollment[order(rank(id), enroll_date)][,.SD[c(1)],by=id]"
   ]
  },
  {
   "cell_type": "code",
   "execution_count": 14,
   "metadata": {},
   "outputs": [],
   "source": [
    "Claims[enrollment[,.SD[c(1)],by=id], c(\"enroll_date\", \"gender\") := list(i.enroll_date, i.gender), on = c(id=\"id\")]"
   ]
  },
  {
   "cell_type": "code",
   "execution_count": 15,
   "metadata": {
    "scrolled": true
   },
   "outputs": [
    {
     "data": {
      "text/html": [
       "<table class=\"dataframe\">\n",
       "<caption>A data.table: 7 × 6</caption>\n",
       "<thead>\n",
       "\t<tr><th scope=col>id</th><th scope=col>birth_date</th><th scope=col>NDC</th><th scope=col>service_date</th><th scope=col>enroll_date</th><th scope=col>gender</th></tr>\n",
       "\t<tr><th scope=col>&lt;int&gt;</th><th scope=col>&lt;dttm&gt;</th><th scope=col>&lt;chr&gt;</th><th scope=col>&lt;date&gt;</th><th scope=col>&lt;date&gt;</th><th scope=col>&lt;dbl&gt;</th></tr>\n",
       "</thead>\n",
       "<tbody>\n",
       "\t<tr><td>5</td><td>2021-12-31</td><td>3523030431</td><td>2019-10-24</td><td>2018-12-07</td><td>1</td></tr>\n",
       "\t<tr><td>5</td><td>2021-12-31</td><td>3811249137</td><td>2019-12-31</td><td>2018-12-07</td><td>1</td></tr>\n",
       "\t<tr><td>5</td><td>2021-12-31</td><td>3843957567</td><td>2019-08-18</td><td>2018-12-07</td><td>1</td></tr>\n",
       "\t<tr><td>5</td><td>2021-12-31</td><td>1431354838</td><td>2018-11-26</td><td>2018-12-07</td><td>1</td></tr>\n",
       "\t<tr><td>5</td><td>2021-12-31</td><td>0993917425</td><td>2019-07-05</td><td>2018-12-07</td><td>1</td></tr>\n",
       "\t<tr><td>5</td><td>2021-12-31</td><td>3622251228</td><td>2018-05-21</td><td>2018-12-07</td><td>1</td></tr>\n",
       "\t<tr><td>5</td><td>2021-12-31</td><td>7196237199</td><td>2018-10-31</td><td>2018-12-07</td><td>1</td></tr>\n",
       "</tbody>\n",
       "</table>\n"
      ],
      "text/latex": [
       "A data.table: 7 × 6\n",
       "\\begin{tabular}{llllll}\n",
       " id & birth\\_date & NDC & service\\_date & enroll\\_date & gender\\\\\n",
       " <int> & <dttm> & <chr> & <date> & <date> & <dbl>\\\\\n",
       "\\hline\n",
       "\t 5 & 2021-12-31 & 3523030431 & 2019-10-24 & 2018-12-07 & 1\\\\\n",
       "\t 5 & 2021-12-31 & 3811249137 & 2019-12-31 & 2018-12-07 & 1\\\\\n",
       "\t 5 & 2021-12-31 & 3843957567 & 2019-08-18 & 2018-12-07 & 1\\\\\n",
       "\t 5 & 2021-12-31 & 1431354838 & 2018-11-26 & 2018-12-07 & 1\\\\\n",
       "\t 5 & 2021-12-31 & 0993917425 & 2019-07-05 & 2018-12-07 & 1\\\\\n",
       "\t 5 & 2021-12-31 & 3622251228 & 2018-05-21 & 2018-12-07 & 1\\\\\n",
       "\t 5 & 2021-12-31 & 7196237199 & 2018-10-31 & 2018-12-07 & 1\\\\\n",
       "\\end{tabular}\n"
      ],
      "text/markdown": [
       "\n",
       "A data.table: 7 × 6\n",
       "\n",
       "| id &lt;int&gt; | birth_date &lt;dttm&gt; | NDC &lt;chr&gt; | service_date &lt;date&gt; | enroll_date &lt;date&gt; | gender &lt;dbl&gt; |\n",
       "|---|---|---|---|---|---|\n",
       "| 5 | 2021-12-31 | 3523030431 | 2019-10-24 | 2018-12-07 | 1 |\n",
       "| 5 | 2021-12-31 | 3811249137 | 2019-12-31 | 2018-12-07 | 1 |\n",
       "| 5 | 2021-12-31 | 3843957567 | 2019-08-18 | 2018-12-07 | 1 |\n",
       "| 5 | 2021-12-31 | 1431354838 | 2018-11-26 | 2018-12-07 | 1 |\n",
       "| 5 | 2021-12-31 | 0993917425 | 2019-07-05 | 2018-12-07 | 1 |\n",
       "| 5 | 2021-12-31 | 3622251228 | 2018-05-21 | 2018-12-07 | 1 |\n",
       "| 5 | 2021-12-31 | 7196237199 | 2018-10-31 | 2018-12-07 | 1 |\n",
       "\n"
      ],
      "text/plain": [
       "  id birth_date NDC        service_date enroll_date gender\n",
       "1 5  2021-12-31 3523030431 2019-10-24   2018-12-07  1     \n",
       "2 5  2021-12-31 3811249137 2019-12-31   2018-12-07  1     \n",
       "3 5  2021-12-31 3843957567 2019-08-18   2018-12-07  1     \n",
       "4 5  2021-12-31 1431354838 2018-11-26   2018-12-07  1     \n",
       "5 5  2021-12-31 0993917425 2019-07-05   2018-12-07  1     \n",
       "6 5  2021-12-31 3622251228 2018-05-21   2018-12-07  1     \n",
       "7 5  2021-12-31 7196237199 2018-10-31   2018-12-07  1     "
      ]
     },
     "metadata": {},
     "output_type": "display_data"
    }
   ],
   "source": [
    "Claims[id==5]"
   ]
  },
  {
   "cell_type": "code",
   "execution_count": 16,
   "metadata": {},
   "outputs": [],
   "source": [
    "get_simple_date = function(enroll_date) {\n",
    "    my_date = cut(enroll_date, \"month\")\n",
    "    my_date\n",
    "}\n",
    "\n",
    "enrollment[, simple_date:=get_simple_date(enroll_date), by=seq_len(nrow(enrollment))]"
   ]
  },
  {
   "cell_type": "code",
   "execution_count": 17,
   "metadata": {},
   "outputs": [
    {
     "data": {
      "text/html": [
       "<table class=\"dataframe\">\n",
       "<caption>A data.table: 6 × 4</caption>\n",
       "<thead>\n",
       "\t<tr><th scope=col>id</th><th scope=col>gender</th><th scope=col>enroll_date</th><th scope=col>simple_date</th></tr>\n",
       "\t<tr><th scope=col>&lt;int&gt;</th><th scope=col>&lt;dbl&gt;</th><th scope=col>&lt;date&gt;</th><th scope=col>&lt;fct&gt;</th></tr>\n",
       "</thead>\n",
       "<tbody>\n",
       "\t<tr><td>10</td><td>2</td><td>2018-07-12</td><td>2018-07-01</td></tr>\n",
       "\t<tr><td> 9</td><td>2</td><td>2018-09-12</td><td>2018-09-01</td></tr>\n",
       "\t<tr><td> 3</td><td>2</td><td>2018-09-09</td><td>2018-09-01</td></tr>\n",
       "\t<tr><td>10</td><td>2</td><td>2018-08-02</td><td>2018-08-01</td></tr>\n",
       "\t<tr><td> 5</td><td>1</td><td>2018-12-07</td><td>2018-12-01</td></tr>\n",
       "\t<tr><td> 3</td><td>2</td><td>2018-07-26</td><td>2018-07-01</td></tr>\n",
       "</tbody>\n",
       "</table>\n"
      ],
      "text/latex": [
       "A data.table: 6 × 4\n",
       "\\begin{tabular}{llll}\n",
       " id & gender & enroll\\_date & simple\\_date\\\\\n",
       " <int> & <dbl> & <date> & <fct>\\\\\n",
       "\\hline\n",
       "\t 10 & 2 & 2018-07-12 & 2018-07-01\\\\\n",
       "\t  9 & 2 & 2018-09-12 & 2018-09-01\\\\\n",
       "\t  3 & 2 & 2018-09-09 & 2018-09-01\\\\\n",
       "\t 10 & 2 & 2018-08-02 & 2018-08-01\\\\\n",
       "\t  5 & 1 & 2018-12-07 & 2018-12-01\\\\\n",
       "\t  3 & 2 & 2018-07-26 & 2018-07-01\\\\\n",
       "\\end{tabular}\n"
      ],
      "text/markdown": [
       "\n",
       "A data.table: 6 × 4\n",
       "\n",
       "| id &lt;int&gt; | gender &lt;dbl&gt; | enroll_date &lt;date&gt; | simple_date &lt;fct&gt; |\n",
       "|---|---|---|---|\n",
       "| 10 | 2 | 2018-07-12 | 2018-07-01 |\n",
       "|  9 | 2 | 2018-09-12 | 2018-09-01 |\n",
       "|  3 | 2 | 2018-09-09 | 2018-09-01 |\n",
       "| 10 | 2 | 2018-08-02 | 2018-08-01 |\n",
       "|  5 | 1 | 2018-12-07 | 2018-12-01 |\n",
       "|  3 | 2 | 2018-07-26 | 2018-07-01 |\n",
       "\n"
      ],
      "text/plain": [
       "  id gender enroll_date simple_date\n",
       "1 10 2      2018-07-12  2018-07-01 \n",
       "2  9 2      2018-09-12  2018-09-01 \n",
       "3  3 2      2018-09-09  2018-09-01 \n",
       "4 10 2      2018-08-02  2018-08-01 \n",
       "5  5 1      2018-12-07  2018-12-01 \n",
       "6  3 2      2018-07-26  2018-07-01 "
      ]
     },
     "metadata": {},
     "output_type": "display_data"
    }
   ],
   "source": [
    "head(enrollment)"
   ]
  },
  {
   "cell_type": "markdown",
   "metadata": {},
   "source": [
    "# (e)"
   ]
  },
  {
   "cell_type": "markdown",
   "metadata": {},
   "source": [
    "I'm unsure if this data is external data provided to us, or if this is derived from the data we currently have on hand. Since it seemed relatively easy to create a dataset in this format though, I decided to create this `Monthly_Enrollment` imagining that each time someone enrolled, it counted for that month alone (even if they enrolled say on the very last day of June).\n",
    "\n",
    "This is just an exercise in using `dcast` then to convert the long format of `enrollment` we created into a wide format. We don't want a column for every single *date* possible, just one for every month, so we have to \"cut\" each enrollment date short. "
   ]
  },
  {
   "cell_type": "code",
   "execution_count": 18,
   "metadata": {},
   "outputs": [
    {
     "data": {
      "text/html": [
       "<table class=\"dataframe\">\n",
       "<caption>A data.table: 6 × 4</caption>\n",
       "<thead>\n",
       "\t<tr><th scope=col>id</th><th scope=col>gender</th><th scope=col>enroll_date</th><th scope=col>simple_date</th></tr>\n",
       "\t<tr><th scope=col>&lt;int&gt;</th><th scope=col>&lt;dbl&gt;</th><th scope=col>&lt;date&gt;</th><th scope=col>&lt;fct&gt;</th></tr>\n",
       "</thead>\n",
       "<tbody>\n",
       "\t<tr><td>10</td><td>2</td><td>2018-07-12</td><td>2018-07-01</td></tr>\n",
       "\t<tr><td> 9</td><td>2</td><td>2018-09-12</td><td>2018-09-01</td></tr>\n",
       "\t<tr><td> 3</td><td>2</td><td>2018-09-09</td><td>2018-09-01</td></tr>\n",
       "\t<tr><td>10</td><td>2</td><td>2018-08-02</td><td>2018-08-01</td></tr>\n",
       "\t<tr><td> 5</td><td>1</td><td>2018-12-07</td><td>2018-12-01</td></tr>\n",
       "\t<tr><td> 3</td><td>2</td><td>2018-07-26</td><td>2018-07-01</td></tr>\n",
       "</tbody>\n",
       "</table>\n"
      ],
      "text/latex": [
       "A data.table: 6 × 4\n",
       "\\begin{tabular}{llll}\n",
       " id & gender & enroll\\_date & simple\\_date\\\\\n",
       " <int> & <dbl> & <date> & <fct>\\\\\n",
       "\\hline\n",
       "\t 10 & 2 & 2018-07-12 & 2018-07-01\\\\\n",
       "\t  9 & 2 & 2018-09-12 & 2018-09-01\\\\\n",
       "\t  3 & 2 & 2018-09-09 & 2018-09-01\\\\\n",
       "\t 10 & 2 & 2018-08-02 & 2018-08-01\\\\\n",
       "\t  5 & 1 & 2018-12-07 & 2018-12-01\\\\\n",
       "\t  3 & 2 & 2018-07-26 & 2018-07-01\\\\\n",
       "\\end{tabular}\n"
      ],
      "text/markdown": [
       "\n",
       "A data.table: 6 × 4\n",
       "\n",
       "| id &lt;int&gt; | gender &lt;dbl&gt; | enroll_date &lt;date&gt; | simple_date &lt;fct&gt; |\n",
       "|---|---|---|---|\n",
       "| 10 | 2 | 2018-07-12 | 2018-07-01 |\n",
       "|  9 | 2 | 2018-09-12 | 2018-09-01 |\n",
       "|  3 | 2 | 2018-09-09 | 2018-09-01 |\n",
       "| 10 | 2 | 2018-08-02 | 2018-08-01 |\n",
       "|  5 | 1 | 2018-12-07 | 2018-12-01 |\n",
       "|  3 | 2 | 2018-07-26 | 2018-07-01 |\n",
       "\n"
      ],
      "text/plain": [
       "  id gender enroll_date simple_date\n",
       "1 10 2      2018-07-12  2018-07-01 \n",
       "2  9 2      2018-09-12  2018-09-01 \n",
       "3  3 2      2018-09-09  2018-09-01 \n",
       "4 10 2      2018-08-02  2018-08-01 \n",
       "5  5 1      2018-12-07  2018-12-01 \n",
       "6  3 2      2018-07-26  2018-07-01 "
      ]
     },
     "metadata": {},
     "output_type": "display_data"
    }
   ],
   "source": [
    "enrollment[, simple_date:=cut(enroll_date, \"month\"), by=seq_len(nrow(enrollment))]\n",
    "head(enrollment)"
   ]
  },
  {
   "cell_type": "markdown",
   "metadata": {},
   "source": [
    "This essentially tells us \"yes, id 1 had an enrollment for June of 2018\", and so on. Then it really is as simple as using `dcast` with the right inputs."
   ]
  },
  {
   "cell_type": "code",
   "execution_count": 19,
   "metadata": {},
   "outputs": [
    {
     "data": {
      "text/html": [
       "<table class=\"dataframe\">\n",
       "<caption>A data.table: 6 × 11</caption>\n",
       "<thead>\n",
       "\t<tr><th scope=col>id</th><th scope=col>2018-07-01</th><th scope=col>2018-09-01</th><th scope=col>2018-08-01</th><th scope=col>2018-12-01</th><th scope=col>2019-01-01</th><th scope=col>2018-10-01</th><th scope=col>2019-02-01</th><th scope=col>2019-03-01</th><th scope=col>2018-11-01</th><th scope=col>2019-04-01</th></tr>\n",
       "\t<tr><th scope=col>&lt;int&gt;</th><th scope=col>&lt;dbl&gt;</th><th scope=col>&lt;dbl&gt;</th><th scope=col>&lt;dbl&gt;</th><th scope=col>&lt;dbl&gt;</th><th scope=col>&lt;dbl&gt;</th><th scope=col>&lt;dbl&gt;</th><th scope=col>&lt;dbl&gt;</th><th scope=col>&lt;dbl&gt;</th><th scope=col>&lt;dbl&gt;</th><th scope=col>&lt;dbl&gt;</th></tr>\n",
       "</thead>\n",
       "<tbody>\n",
       "\t<tr><td>1</td><td>1</td><td>1</td><td>1</td><td>1</td><td>1</td><td>1</td><td>1</td><td>1</td><td>0</td><td>0</td></tr>\n",
       "\t<tr><td>2</td><td>1</td><td>1</td><td>0</td><td>1</td><td>1</td><td>1</td><td>1</td><td>1</td><td>1</td><td>0</td></tr>\n",
       "\t<tr><td>3</td><td>1</td><td>1</td><td>1</td><td>1</td><td>1</td><td>1</td><td>1</td><td>1</td><td>1</td><td>0</td></tr>\n",
       "\t<tr><td>4</td><td>0</td><td>1</td><td>1</td><td>1</td><td>0</td><td>1</td><td>1</td><td>1</td><td>0</td><td>0</td></tr>\n",
       "\t<tr><td>5</td><td>1</td><td>1</td><td>0</td><td>1</td><td>1</td><td>1</td><td>1</td><td>1</td><td>1</td><td>0</td></tr>\n",
       "\t<tr><td>6</td><td>1</td><td>1</td><td>1</td><td>1</td><td>1</td><td>1</td><td>1</td><td>0</td><td>1</td><td>0</td></tr>\n",
       "</tbody>\n",
       "</table>\n"
      ],
      "text/latex": [
       "A data.table: 6 × 11\n",
       "\\begin{tabular}{lllllllllll}\n",
       " id & 2018-07-01 & 2018-09-01 & 2018-08-01 & 2018-12-01 & 2019-01-01 & 2018-10-01 & 2019-02-01 & 2019-03-01 & 2018-11-01 & 2019-04-01\\\\\n",
       " <int> & <dbl> & <dbl> & <dbl> & <dbl> & <dbl> & <dbl> & <dbl> & <dbl> & <dbl> & <dbl>\\\\\n",
       "\\hline\n",
       "\t 1 & 1 & 1 & 1 & 1 & 1 & 1 & 1 & 1 & 0 & 0\\\\\n",
       "\t 2 & 1 & 1 & 0 & 1 & 1 & 1 & 1 & 1 & 1 & 0\\\\\n",
       "\t 3 & 1 & 1 & 1 & 1 & 1 & 1 & 1 & 1 & 1 & 0\\\\\n",
       "\t 4 & 0 & 1 & 1 & 1 & 0 & 1 & 1 & 1 & 0 & 0\\\\\n",
       "\t 5 & 1 & 1 & 0 & 1 & 1 & 1 & 1 & 1 & 1 & 0\\\\\n",
       "\t 6 & 1 & 1 & 1 & 1 & 1 & 1 & 1 & 0 & 1 & 0\\\\\n",
       "\\end{tabular}\n"
      ],
      "text/markdown": [
       "\n",
       "A data.table: 6 × 11\n",
       "\n",
       "| id &lt;int&gt; | 2018-07-01 &lt;dbl&gt; | 2018-09-01 &lt;dbl&gt; | 2018-08-01 &lt;dbl&gt; | 2018-12-01 &lt;dbl&gt; | 2019-01-01 &lt;dbl&gt; | 2018-10-01 &lt;dbl&gt; | 2019-02-01 &lt;dbl&gt; | 2019-03-01 &lt;dbl&gt; | 2018-11-01 &lt;dbl&gt; | 2019-04-01 &lt;dbl&gt; |\n",
       "|---|---|---|---|---|---|---|---|---|---|---|\n",
       "| 1 | 1 | 1 | 1 | 1 | 1 | 1 | 1 | 1 | 0 | 0 |\n",
       "| 2 | 1 | 1 | 0 | 1 | 1 | 1 | 1 | 1 | 1 | 0 |\n",
       "| 3 | 1 | 1 | 1 | 1 | 1 | 1 | 1 | 1 | 1 | 0 |\n",
       "| 4 | 0 | 1 | 1 | 1 | 0 | 1 | 1 | 1 | 0 | 0 |\n",
       "| 5 | 1 | 1 | 0 | 1 | 1 | 1 | 1 | 1 | 1 | 0 |\n",
       "| 6 | 1 | 1 | 1 | 1 | 1 | 1 | 1 | 0 | 1 | 0 |\n",
       "\n"
      ],
      "text/plain": [
       "  id 2018-07-01 2018-09-01 2018-08-01 2018-12-01 2019-01-01 2018-10-01\n",
       "1 1  1          1          1          1          1          1         \n",
       "2 2  1          1          0          1          1          1         \n",
       "3 3  1          1          1          1          1          1         \n",
       "4 4  0          1          1          1          0          1         \n",
       "5 5  1          1          0          1          1          1         \n",
       "6 6  1          1          1          1          1          1         \n",
       "  2019-02-01 2019-03-01 2018-11-01 2019-04-01\n",
       "1 1          1          0          0         \n",
       "2 1          1          1          0         \n",
       "3 1          1          1          0         \n",
       "4 1          1          0          0         \n",
       "5 1          1          1          0         \n",
       "6 1          0          1          0         "
      ]
     },
     "metadata": {},
     "output_type": "display_data"
    }
   ],
   "source": [
    "Monthly_Enrollment = dcast(enrollment,id ~ simple_date,fun.aggregate = function(x){1*any(x > 0)}, value.var = c(\"gender\"))\n",
    "head(Monthly_Enrollment)"
   ]
  },
  {
   "cell_type": "markdown",
   "metadata": {},
   "source": [
    "Because we're not guaranteed for the columns to be in order (even if we sort `Monthly_Enrollment`, the first id could have not every month present), so we have to re-order the columns manually."
   ]
  },
  {
   "cell_type": "code",
   "execution_count": 20,
   "metadata": {
    "scrolled": false
   },
   "outputs": [
    {
     "data": {
      "text/html": [
       "<table class=\"dataframe\">\n",
       "<caption>A data.table: 6 × 11</caption>\n",
       "<thead>\n",
       "\t<tr><th scope=col>id</th><th scope=col>2018-07-01</th><th scope=col>2018-08-01</th><th scope=col>2018-09-01</th><th scope=col>2018-10-01</th><th scope=col>2018-11-01</th><th scope=col>2018-12-01</th><th scope=col>2019-01-01</th><th scope=col>2019-02-01</th><th scope=col>2019-03-01</th><th scope=col>2019-04-01</th></tr>\n",
       "\t<tr><th scope=col>&lt;int&gt;</th><th scope=col>&lt;dbl&gt;</th><th scope=col>&lt;dbl&gt;</th><th scope=col>&lt;dbl&gt;</th><th scope=col>&lt;dbl&gt;</th><th scope=col>&lt;dbl&gt;</th><th scope=col>&lt;dbl&gt;</th><th scope=col>&lt;dbl&gt;</th><th scope=col>&lt;dbl&gt;</th><th scope=col>&lt;dbl&gt;</th><th scope=col>&lt;dbl&gt;</th></tr>\n",
       "</thead>\n",
       "<tbody>\n",
       "\t<tr><td>1</td><td>1</td><td>1</td><td>1</td><td>1</td><td>0</td><td>1</td><td>1</td><td>1</td><td>1</td><td>0</td></tr>\n",
       "\t<tr><td>2</td><td>1</td><td>0</td><td>1</td><td>1</td><td>1</td><td>1</td><td>1</td><td>1</td><td>1</td><td>0</td></tr>\n",
       "\t<tr><td>3</td><td>1</td><td>1</td><td>1</td><td>1</td><td>1</td><td>1</td><td>1</td><td>1</td><td>1</td><td>0</td></tr>\n",
       "\t<tr><td>4</td><td>0</td><td>1</td><td>1</td><td>1</td><td>0</td><td>1</td><td>0</td><td>1</td><td>1</td><td>0</td></tr>\n",
       "\t<tr><td>5</td><td>1</td><td>0</td><td>1</td><td>1</td><td>1</td><td>1</td><td>1</td><td>1</td><td>1</td><td>0</td></tr>\n",
       "\t<tr><td>6</td><td>1</td><td>1</td><td>1</td><td>1</td><td>1</td><td>1</td><td>1</td><td>1</td><td>0</td><td>0</td></tr>\n",
       "</tbody>\n",
       "</table>\n"
      ],
      "text/latex": [
       "A data.table: 6 × 11\n",
       "\\begin{tabular}{lllllllllll}\n",
       " id & 2018-07-01 & 2018-08-01 & 2018-09-01 & 2018-10-01 & 2018-11-01 & 2018-12-01 & 2019-01-01 & 2019-02-01 & 2019-03-01 & 2019-04-01\\\\\n",
       " <int> & <dbl> & <dbl> & <dbl> & <dbl> & <dbl> & <dbl> & <dbl> & <dbl> & <dbl> & <dbl>\\\\\n",
       "\\hline\n",
       "\t 1 & 1 & 1 & 1 & 1 & 0 & 1 & 1 & 1 & 1 & 0\\\\\n",
       "\t 2 & 1 & 0 & 1 & 1 & 1 & 1 & 1 & 1 & 1 & 0\\\\\n",
       "\t 3 & 1 & 1 & 1 & 1 & 1 & 1 & 1 & 1 & 1 & 0\\\\\n",
       "\t 4 & 0 & 1 & 1 & 1 & 0 & 1 & 0 & 1 & 1 & 0\\\\\n",
       "\t 5 & 1 & 0 & 1 & 1 & 1 & 1 & 1 & 1 & 1 & 0\\\\\n",
       "\t 6 & 1 & 1 & 1 & 1 & 1 & 1 & 1 & 1 & 0 & 0\\\\\n",
       "\\end{tabular}\n"
      ],
      "text/markdown": [
       "\n",
       "A data.table: 6 × 11\n",
       "\n",
       "| id &lt;int&gt; | 2018-07-01 &lt;dbl&gt; | 2018-08-01 &lt;dbl&gt; | 2018-09-01 &lt;dbl&gt; | 2018-10-01 &lt;dbl&gt; | 2018-11-01 &lt;dbl&gt; | 2018-12-01 &lt;dbl&gt; | 2019-01-01 &lt;dbl&gt; | 2019-02-01 &lt;dbl&gt; | 2019-03-01 &lt;dbl&gt; | 2019-04-01 &lt;dbl&gt; |\n",
       "|---|---|---|---|---|---|---|---|---|---|---|\n",
       "| 1 | 1 | 1 | 1 | 1 | 0 | 1 | 1 | 1 | 1 | 0 |\n",
       "| 2 | 1 | 0 | 1 | 1 | 1 | 1 | 1 | 1 | 1 | 0 |\n",
       "| 3 | 1 | 1 | 1 | 1 | 1 | 1 | 1 | 1 | 1 | 0 |\n",
       "| 4 | 0 | 1 | 1 | 1 | 0 | 1 | 0 | 1 | 1 | 0 |\n",
       "| 5 | 1 | 0 | 1 | 1 | 1 | 1 | 1 | 1 | 1 | 0 |\n",
       "| 6 | 1 | 1 | 1 | 1 | 1 | 1 | 1 | 1 | 0 | 0 |\n",
       "\n"
      ],
      "text/plain": [
       "  id 2018-07-01 2018-08-01 2018-09-01 2018-10-01 2018-11-01 2018-12-01\n",
       "1 1  1          1          1          1          0          1         \n",
       "2 2  1          0          1          1          1          1         \n",
       "3 3  1          1          1          1          1          1         \n",
       "4 4  0          1          1          1          0          1         \n",
       "5 5  1          0          1          1          1          1         \n",
       "6 6  1          1          1          1          1          1         \n",
       "  2019-01-01 2019-02-01 2019-03-01 2019-04-01\n",
       "1 1          1          1          0         \n",
       "2 1          1          1          0         \n",
       "3 1          1          1          0         \n",
       "4 0          1          1          0         \n",
       "5 1          1          1          0         \n",
       "6 1          1          0          0         "
      ]
     },
     "metadata": {},
     "output_type": "display_data"
    }
   ],
   "source": [
    "setcolorder(Monthly_Enrollment, c(\"id\", sort(colnames(Monthly_Enrollment)[-1])))\n",
    "head(Monthly_Enrollment)"
   ]
  },
  {
   "cell_type": "markdown",
   "metadata": {},
   "source": [
    "Now here's one trick to get the `enr_length`: it's just the row sum of `Monthly_Enrollment`! To get this, perform an application to every row of the above data.table, with the `.SDcols` as every column past the first id one."
   ]
  },
  {
   "cell_type": "code",
   "execution_count": 21,
   "metadata": {},
   "outputs": [
    {
     "data": {
      "text/html": [
       "<table class=\"dataframe\">\n",
       "<caption>A data.table: 6 × 12</caption>\n",
       "<thead>\n",
       "\t<tr><th scope=col>id</th><th scope=col>2018-07-01</th><th scope=col>2018-08-01</th><th scope=col>2018-09-01</th><th scope=col>2018-10-01</th><th scope=col>2018-11-01</th><th scope=col>2018-12-01</th><th scope=col>2019-01-01</th><th scope=col>2019-02-01</th><th scope=col>2019-03-01</th><th scope=col>2019-04-01</th><th scope=col>enr_length</th></tr>\n",
       "\t<tr><th scope=col>&lt;int&gt;</th><th scope=col>&lt;dbl&gt;</th><th scope=col>&lt;dbl&gt;</th><th scope=col>&lt;dbl&gt;</th><th scope=col>&lt;dbl&gt;</th><th scope=col>&lt;dbl&gt;</th><th scope=col>&lt;dbl&gt;</th><th scope=col>&lt;dbl&gt;</th><th scope=col>&lt;dbl&gt;</th><th scope=col>&lt;dbl&gt;</th><th scope=col>&lt;dbl&gt;</th><th scope=col>&lt;dbl&gt;</th></tr>\n",
       "</thead>\n",
       "<tbody>\n",
       "\t<tr><td>1</td><td>1</td><td>1</td><td>1</td><td>1</td><td>0</td><td>1</td><td>1</td><td>1</td><td>1</td><td>0</td><td>8</td></tr>\n",
       "\t<tr><td>2</td><td>1</td><td>0</td><td>1</td><td>1</td><td>1</td><td>1</td><td>1</td><td>1</td><td>1</td><td>0</td><td>8</td></tr>\n",
       "\t<tr><td>3</td><td>1</td><td>1</td><td>1</td><td>1</td><td>1</td><td>1</td><td>1</td><td>1</td><td>1</td><td>0</td><td>9</td></tr>\n",
       "\t<tr><td>4</td><td>0</td><td>1</td><td>1</td><td>1</td><td>0</td><td>1</td><td>0</td><td>1</td><td>1</td><td>0</td><td>6</td></tr>\n",
       "\t<tr><td>5</td><td>1</td><td>0</td><td>1</td><td>1</td><td>1</td><td>1</td><td>1</td><td>1</td><td>1</td><td>0</td><td>8</td></tr>\n",
       "\t<tr><td>6</td><td>1</td><td>1</td><td>1</td><td>1</td><td>1</td><td>1</td><td>1</td><td>1</td><td>0</td><td>0</td><td>8</td></tr>\n",
       "</tbody>\n",
       "</table>\n"
      ],
      "text/latex": [
       "A data.table: 6 × 12\n",
       "\\begin{tabular}{llllllllllll}\n",
       " id & 2018-07-01 & 2018-08-01 & 2018-09-01 & 2018-10-01 & 2018-11-01 & 2018-12-01 & 2019-01-01 & 2019-02-01 & 2019-03-01 & 2019-04-01 & enr\\_length\\\\\n",
       " <int> & <dbl> & <dbl> & <dbl> & <dbl> & <dbl> & <dbl> & <dbl> & <dbl> & <dbl> & <dbl> & <dbl>\\\\\n",
       "\\hline\n",
       "\t 1 & 1 & 1 & 1 & 1 & 0 & 1 & 1 & 1 & 1 & 0 & 8\\\\\n",
       "\t 2 & 1 & 0 & 1 & 1 & 1 & 1 & 1 & 1 & 1 & 0 & 8\\\\\n",
       "\t 3 & 1 & 1 & 1 & 1 & 1 & 1 & 1 & 1 & 1 & 0 & 9\\\\\n",
       "\t 4 & 0 & 1 & 1 & 1 & 0 & 1 & 0 & 1 & 1 & 0 & 6\\\\\n",
       "\t 5 & 1 & 0 & 1 & 1 & 1 & 1 & 1 & 1 & 1 & 0 & 8\\\\\n",
       "\t 6 & 1 & 1 & 1 & 1 & 1 & 1 & 1 & 1 & 0 & 0 & 8\\\\\n",
       "\\end{tabular}\n"
      ],
      "text/markdown": [
       "\n",
       "A data.table: 6 × 12\n",
       "\n",
       "| id &lt;int&gt; | 2018-07-01 &lt;dbl&gt; | 2018-08-01 &lt;dbl&gt; | 2018-09-01 &lt;dbl&gt; | 2018-10-01 &lt;dbl&gt; | 2018-11-01 &lt;dbl&gt; | 2018-12-01 &lt;dbl&gt; | 2019-01-01 &lt;dbl&gt; | 2019-02-01 &lt;dbl&gt; | 2019-03-01 &lt;dbl&gt; | 2019-04-01 &lt;dbl&gt; | enr_length &lt;dbl&gt; |\n",
       "|---|---|---|---|---|---|---|---|---|---|---|---|\n",
       "| 1 | 1 | 1 | 1 | 1 | 0 | 1 | 1 | 1 | 1 | 0 | 8 |\n",
       "| 2 | 1 | 0 | 1 | 1 | 1 | 1 | 1 | 1 | 1 | 0 | 8 |\n",
       "| 3 | 1 | 1 | 1 | 1 | 1 | 1 | 1 | 1 | 1 | 0 | 9 |\n",
       "| 4 | 0 | 1 | 1 | 1 | 0 | 1 | 0 | 1 | 1 | 0 | 6 |\n",
       "| 5 | 1 | 0 | 1 | 1 | 1 | 1 | 1 | 1 | 1 | 0 | 8 |\n",
       "| 6 | 1 | 1 | 1 | 1 | 1 | 1 | 1 | 1 | 0 | 0 | 8 |\n",
       "\n"
      ],
      "text/plain": [
       "  id 2018-07-01 2018-08-01 2018-09-01 2018-10-01 2018-11-01 2018-12-01\n",
       "1 1  1          1          1          1          0          1         \n",
       "2 2  1          0          1          1          1          1         \n",
       "3 3  1          1          1          1          1          1         \n",
       "4 4  0          1          1          1          0          1         \n",
       "5 5  1          0          1          1          1          1         \n",
       "6 6  1          1          1          1          1          1         \n",
       "  2019-01-01 2019-02-01 2019-03-01 2019-04-01 enr_length\n",
       "1 1          1          1          0          8         \n",
       "2 1          1          1          0          8         \n",
       "3 1          1          1          0          9         \n",
       "4 0          1          1          0          6         \n",
       "5 1          1          1          0          8         \n",
       "6 1          1          0          0          8         "
      ]
     },
     "metadata": {},
     "output_type": "display_data"
    }
   ],
   "source": [
    "Monthly_Enrollment[, enr_length:=sum(as.numeric(.SD),na.rm=TRUE), .SDcols=c(2:ncol(Monthly_Enrollment)),by=1:nrow(Monthly_Enrollment)]\n",
    "head(Monthly_Enrollment)"
   ]
  },
  {
   "cell_type": "markdown",
   "metadata": {},
   "source": [
    "Now imagining that we have `Monthly_Enrollment`, converting to long format is now just a `melt` task. We don't want entries that don't have an enrollment, so filter out ones with a \"value\" of 0."
   ]
  },
  {
   "cell_type": "code",
   "execution_count": 22,
   "metadata": {
    "scrolled": true
   },
   "outputs": [
    {
     "data": {
      "text/html": [
       "<table class=\"dataframe\">\n",
       "<caption>A data.table: 8 × 4</caption>\n",
       "<thead>\n",
       "\t<tr><th scope=col>id</th><th scope=col>enr_length</th><th scope=col>enr_month</th><th scope=col>value</th></tr>\n",
       "\t<tr><th scope=col>&lt;int&gt;</th><th scope=col>&lt;dbl&gt;</th><th scope=col>&lt;fct&gt;</th><th scope=col>&lt;dbl&gt;</th></tr>\n",
       "</thead>\n",
       "<tbody>\n",
       "\t<tr><td>1</td><td>8</td><td>2018-07-01</td><td>1</td></tr>\n",
       "\t<tr><td>1</td><td>8</td><td>2018-08-01</td><td>1</td></tr>\n",
       "\t<tr><td>1</td><td>8</td><td>2018-09-01</td><td>1</td></tr>\n",
       "\t<tr><td>1</td><td>8</td><td>2018-10-01</td><td>1</td></tr>\n",
       "\t<tr><td>1</td><td>8</td><td>2018-12-01</td><td>1</td></tr>\n",
       "\t<tr><td>1</td><td>8</td><td>2019-01-01</td><td>1</td></tr>\n",
       "\t<tr><td>1</td><td>8</td><td>2019-02-01</td><td>1</td></tr>\n",
       "\t<tr><td>1</td><td>8</td><td>2019-03-01</td><td>1</td></tr>\n",
       "</tbody>\n",
       "</table>\n"
      ],
      "text/latex": [
       "A data.table: 8 × 4\n",
       "\\begin{tabular}{llll}\n",
       " id & enr\\_length & enr\\_month & value\\\\\n",
       " <int> & <dbl> & <fct> & <dbl>\\\\\n",
       "\\hline\n",
       "\t 1 & 8 & 2018-07-01 & 1\\\\\n",
       "\t 1 & 8 & 2018-08-01 & 1\\\\\n",
       "\t 1 & 8 & 2018-09-01 & 1\\\\\n",
       "\t 1 & 8 & 2018-10-01 & 1\\\\\n",
       "\t 1 & 8 & 2018-12-01 & 1\\\\\n",
       "\t 1 & 8 & 2019-01-01 & 1\\\\\n",
       "\t 1 & 8 & 2019-02-01 & 1\\\\\n",
       "\t 1 & 8 & 2019-03-01 & 1\\\\\n",
       "\\end{tabular}\n"
      ],
      "text/markdown": [
       "\n",
       "A data.table: 8 × 4\n",
       "\n",
       "| id &lt;int&gt; | enr_length &lt;dbl&gt; | enr_month &lt;fct&gt; | value &lt;dbl&gt; |\n",
       "|---|---|---|---|\n",
       "| 1 | 8 | 2018-07-01 | 1 |\n",
       "| 1 | 8 | 2018-08-01 | 1 |\n",
       "| 1 | 8 | 2018-09-01 | 1 |\n",
       "| 1 | 8 | 2018-10-01 | 1 |\n",
       "| 1 | 8 | 2018-12-01 | 1 |\n",
       "| 1 | 8 | 2019-01-01 | 1 |\n",
       "| 1 | 8 | 2019-02-01 | 1 |\n",
       "| 1 | 8 | 2019-03-01 | 1 |\n",
       "\n"
      ],
      "text/plain": [
       "  id enr_length enr_month  value\n",
       "1 1  8          2018-07-01 1    \n",
       "2 1  8          2018-08-01 1    \n",
       "3 1  8          2018-09-01 1    \n",
       "4 1  8          2018-10-01 1    \n",
       "5 1  8          2018-12-01 1    \n",
       "6 1  8          2019-01-01 1    \n",
       "7 1  8          2019-02-01 1    \n",
       "8 1  8          2019-03-01 1    "
      ]
     },
     "metadata": {},
     "output_type": "display_data"
    }
   ],
   "source": [
    "Long_Monthly_Enrollment = melt(Monthly_Enrollment, id=c(\"id\", \"enr_length\"), variable.name=\"enr_month\")[value != 0]\n",
    "Long_Monthly_Enrollment[id==1]"
   ]
  },
  {
   "cell_type": "markdown",
   "metadata": {},
   "source": [
    "Of course, now this value column is meaningless, so we can throw it away. While we're at it, we should break up `enr_month` into just year and month."
   ]
  },
  {
   "cell_type": "code",
   "execution_count": 23,
   "metadata": {},
   "outputs": [
    {
     "data": {
      "text/html": [
       "<table class=\"dataframe\">\n",
       "<caption>A data.table: 8 × 4</caption>\n",
       "<thead>\n",
       "\t<tr><th scope=col>id</th><th scope=col>enr_length</th><th scope=col>month</th><th scope=col>year</th></tr>\n",
       "\t<tr><th scope=col>&lt;int&gt;</th><th scope=col>&lt;dbl&gt;</th><th scope=col>&lt;int&gt;</th><th scope=col>&lt;int&gt;</th></tr>\n",
       "</thead>\n",
       "<tbody>\n",
       "\t<tr><td>1</td><td>8</td><td> 7</td><td>2018</td></tr>\n",
       "\t<tr><td>1</td><td>8</td><td> 8</td><td>2018</td></tr>\n",
       "\t<tr><td>1</td><td>8</td><td> 9</td><td>2018</td></tr>\n",
       "\t<tr><td>1</td><td>8</td><td>10</td><td>2018</td></tr>\n",
       "\t<tr><td>1</td><td>8</td><td>12</td><td>2018</td></tr>\n",
       "\t<tr><td>1</td><td>8</td><td> 1</td><td>2019</td></tr>\n",
       "\t<tr><td>1</td><td>8</td><td> 2</td><td>2019</td></tr>\n",
       "\t<tr><td>1</td><td>8</td><td> 3</td><td>2019</td></tr>\n",
       "</tbody>\n",
       "</table>\n"
      ],
      "text/latex": [
       "A data.table: 8 × 4\n",
       "\\begin{tabular}{llll}\n",
       " id & enr\\_length & month & year\\\\\n",
       " <int> & <dbl> & <int> & <int>\\\\\n",
       "\\hline\n",
       "\t 1 & 8 &  7 & 2018\\\\\n",
       "\t 1 & 8 &  8 & 2018\\\\\n",
       "\t 1 & 8 &  9 & 2018\\\\\n",
       "\t 1 & 8 & 10 & 2018\\\\\n",
       "\t 1 & 8 & 12 & 2018\\\\\n",
       "\t 1 & 8 &  1 & 2019\\\\\n",
       "\t 1 & 8 &  2 & 2019\\\\\n",
       "\t 1 & 8 &  3 & 2019\\\\\n",
       "\\end{tabular}\n"
      ],
      "text/markdown": [
       "\n",
       "A data.table: 8 × 4\n",
       "\n",
       "| id &lt;int&gt; | enr_length &lt;dbl&gt; | month &lt;int&gt; | year &lt;int&gt; |\n",
       "|---|---|---|---|\n",
       "| 1 | 8 |  7 | 2018 |\n",
       "| 1 | 8 |  8 | 2018 |\n",
       "| 1 | 8 |  9 | 2018 |\n",
       "| 1 | 8 | 10 | 2018 |\n",
       "| 1 | 8 | 12 | 2018 |\n",
       "| 1 | 8 |  1 | 2019 |\n",
       "| 1 | 8 |  2 | 2019 |\n",
       "| 1 | 8 |  3 | 2019 |\n",
       "\n"
      ],
      "text/plain": [
       "  id enr_length month year\n",
       "1 1  8           7    2018\n",
       "2 1  8           8    2018\n",
       "3 1  8           9    2018\n",
       "4 1  8          10    2018\n",
       "5 1  8          12    2018\n",
       "6 1  8           1    2019\n",
       "7 1  8           2    2019\n",
       "8 1  8           3    2019"
      ]
     },
     "metadata": {},
     "output_type": "display_data"
    }
   ],
   "source": [
    "Long_Monthly_Enrollment[ ,`:=`(month = month(enr_month), year = year(enr_month), enr_month = NULL, value=NULL)]\n",
    "Long_Monthly_Enrollment[id==1]"
   ]
  },
  {
   "cell_type": "markdown",
   "metadata": {},
   "source": [
    "# (f)"
   ]
  },
  {
   "cell_type": "markdown",
   "metadata": {},
   "source": [
    "Of course these codes will have some sort of standard format, but the best I can do is randomly generate alphanumeric strings of random length, and slap them onto the claims dataset."
   ]
  },
  {
   "cell_type": "code",
   "execution_count": 24,
   "metadata": {},
   "outputs": [],
   "source": [
    "library(stringi)\n",
    "code_cols = c(sprintf(\"code%01d\", seq(1,4)))\n",
    "\n",
    "Claims[, (code_cols):=list(stri_rand_strings(.N, sample(5:10, 5, replace=TRUE)),\n",
    "                           stri_rand_strings(.N, sample(5:10, 5, replace=TRUE)),\n",
    "                           stri_rand_strings(.N, sample(5:10, 5, replace=TRUE)),\n",
    "                           stri_rand_strings(.N, sample(5:10, 5, replace=TRUE))) ]"
   ]
  },
  {
   "cell_type": "code",
   "execution_count": 25,
   "metadata": {},
   "outputs": [
    {
     "data": {
      "text/html": [
       "<table class=\"dataframe\">\n",
       "<caption>A data.table: 6 × 10</caption>\n",
       "<thead>\n",
       "\t<tr><th scope=col>id</th><th scope=col>birth_date</th><th scope=col>NDC</th><th scope=col>service_date</th><th scope=col>enroll_date</th><th scope=col>gender</th><th scope=col>code1</th><th scope=col>code2</th><th scope=col>code3</th><th scope=col>code4</th></tr>\n",
       "\t<tr><th scope=col>&lt;int&gt;</th><th scope=col>&lt;dttm&gt;</th><th scope=col>&lt;chr&gt;</th><th scope=col>&lt;date&gt;</th><th scope=col>&lt;date&gt;</th><th scope=col>&lt;dbl&gt;</th><th scope=col>&lt;chr&gt;</th><th scope=col>&lt;chr&gt;</th><th scope=col>&lt;chr&gt;</th><th scope=col>&lt;chr&gt;</th></tr>\n",
       "</thead>\n",
       "<tbody>\n",
       "\t<tr><td>3</td><td>2021-12-30</td><td>6020429411</td><td>2019-11-22</td><td>2018-09-09</td><td>2</td><td>LhwkAAnmX </td><td>rmDcf     </td><td>MywJxCqukL</td><td>lnFky   </td></tr>\n",
       "\t<tr><td>6</td><td>2021-12-30</td><td>1505506190</td><td>2018-01-20</td><td>2018-10-13</td><td>1</td><td>jxNOvW    </td><td>scBon     </td><td>8yfvFm82Lv</td><td>rlBbh   </td></tr>\n",
       "\t<tr><td>4</td><td>2021-12-30</td><td>2051918453</td><td>2019-04-25</td><td>2018-12-18</td><td>1</td><td>pUSGgkjz84</td><td>cJwzkz    </td><td>u2qkMnu   </td><td>NdOr4089</td></tr>\n",
       "\t<tr><td>4</td><td>2021-12-30</td><td>6009829428</td><td>2019-04-26</td><td>2018-12-18</td><td>1</td><td>VZhvRKpaS </td><td>TOfvrF    </td><td>NwJYeP    </td><td>V0sWGQQM</td></tr>\n",
       "\t<tr><td>9</td><td>2021-12-30</td><td>7668618696</td><td>2019-05-16</td><td>2018-09-12</td><td>2</td><td>XhpnEAqRU </td><td>6tgiv3Cp8U</td><td>iYLMycio  </td><td>kx2FA   </td></tr>\n",
       "\t<tr><td>3</td><td>2021-12-30</td><td>2274652695</td><td>2018-12-09</td><td>2018-09-09</td><td>2</td><td>nwyrxm72M </td><td>Gqesp     </td><td>8xTldTx9tm</td><td>SzKNJ   </td></tr>\n",
       "</tbody>\n",
       "</table>\n"
      ],
      "text/latex": [
       "A data.table: 6 × 10\n",
       "\\begin{tabular}{llllllllll}\n",
       " id & birth\\_date & NDC & service\\_date & enroll\\_date & gender & code1 & code2 & code3 & code4\\\\\n",
       " <int> & <dttm> & <chr> & <date> & <date> & <dbl> & <chr> & <chr> & <chr> & <chr>\\\\\n",
       "\\hline\n",
       "\t 3 & 2021-12-30 & 6020429411 & 2019-11-22 & 2018-09-09 & 2 & LhwkAAnmX  & rmDcf      & MywJxCqukL & lnFky   \\\\\n",
       "\t 6 & 2021-12-30 & 1505506190 & 2018-01-20 & 2018-10-13 & 1 & jxNOvW     & scBon      & 8yfvFm82Lv & rlBbh   \\\\\n",
       "\t 4 & 2021-12-30 & 2051918453 & 2019-04-25 & 2018-12-18 & 1 & pUSGgkjz84 & cJwzkz     & u2qkMnu    & NdOr4089\\\\\n",
       "\t 4 & 2021-12-30 & 6009829428 & 2019-04-26 & 2018-12-18 & 1 & VZhvRKpaS  & TOfvrF     & NwJYeP     & V0sWGQQM\\\\\n",
       "\t 9 & 2021-12-30 & 7668618696 & 2019-05-16 & 2018-09-12 & 2 & XhpnEAqRU  & 6tgiv3Cp8U & iYLMycio   & kx2FA   \\\\\n",
       "\t 3 & 2021-12-30 & 2274652695 & 2018-12-09 & 2018-09-09 & 2 & nwyrxm72M  & Gqesp      & 8xTldTx9tm & SzKNJ   \\\\\n",
       "\\end{tabular}\n"
      ],
      "text/markdown": [
       "\n",
       "A data.table: 6 × 10\n",
       "\n",
       "| id &lt;int&gt; | birth_date &lt;dttm&gt; | NDC &lt;chr&gt; | service_date &lt;date&gt; | enroll_date &lt;date&gt; | gender &lt;dbl&gt; | code1 &lt;chr&gt; | code2 &lt;chr&gt; | code3 &lt;chr&gt; | code4 &lt;chr&gt; |\n",
       "|---|---|---|---|---|---|---|---|---|---|\n",
       "| 3 | 2021-12-30 | 6020429411 | 2019-11-22 | 2018-09-09 | 2 | LhwkAAnmX  | rmDcf      | MywJxCqukL | lnFky    |\n",
       "| 6 | 2021-12-30 | 1505506190 | 2018-01-20 | 2018-10-13 | 1 | jxNOvW     | scBon      | 8yfvFm82Lv | rlBbh    |\n",
       "| 4 | 2021-12-30 | 2051918453 | 2019-04-25 | 2018-12-18 | 1 | pUSGgkjz84 | cJwzkz     | u2qkMnu    | NdOr4089 |\n",
       "| 4 | 2021-12-30 | 6009829428 | 2019-04-26 | 2018-12-18 | 1 | VZhvRKpaS  | TOfvrF     | NwJYeP     | V0sWGQQM |\n",
       "| 9 | 2021-12-30 | 7668618696 | 2019-05-16 | 2018-09-12 | 2 | XhpnEAqRU  | 6tgiv3Cp8U | iYLMycio   | kx2FA    |\n",
       "| 3 | 2021-12-30 | 2274652695 | 2018-12-09 | 2018-09-09 | 2 | nwyrxm72M  | Gqesp      | 8xTldTx9tm | SzKNJ    |\n",
       "\n"
      ],
      "text/plain": [
       "  id birth_date NDC        service_date enroll_date gender code1     \n",
       "1 3  2021-12-30 6020429411 2019-11-22   2018-09-09  2      LhwkAAnmX \n",
       "2 6  2021-12-30 1505506190 2018-01-20   2018-10-13  1      jxNOvW    \n",
       "3 4  2021-12-30 2051918453 2019-04-25   2018-12-18  1      pUSGgkjz84\n",
       "4 4  2021-12-30 6009829428 2019-04-26   2018-12-18  1      VZhvRKpaS \n",
       "5 9  2021-12-30 7668618696 2019-05-16   2018-09-12  2      XhpnEAqRU \n",
       "6 3  2021-12-30 2274652695 2018-12-09   2018-09-09  2      nwyrxm72M \n",
       "  code2      code3      code4   \n",
       "1 rmDcf      MywJxCqukL lnFky   \n",
       "2 scBon      8yfvFm82Lv rlBbh   \n",
       "3 cJwzkz     u2qkMnu    NdOr4089\n",
       "4 TOfvrF     NwJYeP     V0sWGQQM\n",
       "5 6tgiv3Cp8U iYLMycio   kx2FA   \n",
       "6 Gqesp      8xTldTx9tm SzKNJ   "
      ]
     },
     "metadata": {},
     "output_type": "display_data"
    }
   ],
   "source": [
    "head(Claims)"
   ]
  },
  {
   "cell_type": "markdown",
   "metadata": {},
   "source": [
    "## (i)"
   ]
  },
  {
   "cell_type": "markdown",
   "metadata": {},
   "source": [
    "This is a simple application of the `toupper` function to the `claims` dataset. We can even reuse the `code_cols` vector to input our `.SDcols`."
   ]
  },
  {
   "cell_type": "code",
   "execution_count": 26,
   "metadata": {},
   "outputs": [],
   "source": [
    "Claims[, (code_cols) := lapply(.SD, toupper), .SDcols=code_cols ]"
   ]
  },
  {
   "cell_type": "markdown",
   "metadata": {},
   "source": [
    "## (ii)"
   ]
  },
  {
   "cell_type": "markdown",
   "metadata": {},
   "source": [
    "It became clear to me at this point that things would be a little weird if I didn't use a dataset that I didn't perform some manual changes to in order to make some of these checks go through. For that reason, I'm importing a dataset here rather than using the one from the previous part. Don't worry though, you've seen me generate the fake data already, and I promise I only made small changes to just the codes in order to have some of the coming checks pass. Imagine I'm just picking up where I left off, and we somehow just got lucky with the codes being ones that pass.\n",
    "\n",
    "This is also why I needed the `datify` function, to immediately apply to the incoming raw dataset, which has character variables for dates."
   ]
  },
  {
   "cell_type": "code",
   "execution_count": 27,
   "metadata": {},
   "outputs": [],
   "source": [
    "Claims=datify(fread(\"full_claims.csv\",header=T))"
   ]
  },
  {
   "cell_type": "code",
   "execution_count": 28,
   "metadata": {},
   "outputs": [
    {
     "data": {
      "text/html": [
       "<table class=\"dataframe\">\n",
       "<caption>A data.table: 6 × 10</caption>\n",
       "<thead>\n",
       "\t<tr><th scope=col>id</th><th scope=col>birth_date</th><th scope=col>NDC</th><th scope=col>service_date</th><th scope=col>enroll_date</th><th scope=col>gender</th><th scope=col>code1</th><th scope=col>code2</th><th scope=col>code3</th><th scope=col>code4</th></tr>\n",
       "\t<tr><th scope=col>&lt;int&gt;</th><th scope=col>&lt;dttm&gt;</th><th scope=col>&lt;int64&gt;</th><th scope=col>&lt;dttm&gt;</th><th scope=col>&lt;dttm&gt;</th><th scope=col>&lt;int&gt;</th><th scope=col>&lt;chr&gt;</th><th scope=col>&lt;chr&gt;</th><th scope=col>&lt;chr&gt;</th><th scope=col>&lt;chr&gt;</th></tr>\n",
       "</thead>\n",
       "<tbody>\n",
       "\t<tr><td>3</td><td>2021-12-30</td><td>6020429411</td><td>2018-08-26</td><td>2018-07-22</td><td>2</td><td>XTLYE1234 </td><td>RJV280    </td><td>WWUZ0     </td><td>DUEPTZZTXU</td></tr>\n",
       "\t<tr><td>6</td><td>2021-12-30</td><td>1505506190</td><td>2019-03-18</td><td>2019-04-25</td><td>1</td><td>O4NJIAIIVM</td><td>0209SKF   </td><td>MXHBK0GVH </td><td>YXHRUMMKTC</td></tr>\n",
       "\t<tr><td>4</td><td>2021-12-30</td><td>2051918453</td><td>2019-02-16</td><td>2018-09-16</td><td>2</td><td>GXNQHLS   </td><td>K9TSDH    </td><td>7D8FZ9B8MW</td><td>6DMJGEI   </td></tr>\n",
       "\t<tr><td>4</td><td>2021-12-30</td><td>6009829428</td><td>2019-03-18</td><td>2018-09-16</td><td>2</td><td>MZXZYPX   </td><td>BCIY7YK2SK</td><td>GR5EBYO   </td><td>8UQMYL4   </td></tr>\n",
       "\t<tr><td>9</td><td>2021-12-30</td><td>7668618696</td><td>2018-02-11</td><td>2018-07-28</td><td>2</td><td>2FIUI6SLL </td><td>BWP5WIK   </td><td>DPNQIDCL  </td><td>PWROT     </td></tr>\n",
       "\t<tr><td>3</td><td>2021-12-30</td><td>2274652695</td><td>2018-02-23</td><td>2018-07-22</td><td>2</td><td>SR5NY     </td><td>YPT1234UHP</td><td>BXJAD     </td><td>NTTPSY6XOG</td></tr>\n",
       "</tbody>\n",
       "</table>\n"
      ],
      "text/latex": [
       "A data.table: 6 × 10\n",
       "\\begin{tabular}{llllllllll}\n",
       " id & birth\\_date & NDC & service\\_date & enroll\\_date & gender & code1 & code2 & code3 & code4\\\\\n",
       " <int> & <dttm> & <int64> & <dttm> & <dttm> & <int> & <chr> & <chr> & <chr> & <chr>\\\\\n",
       "\\hline\n",
       "\t 3 & 2021-12-30 & 6020429411 & 2018-08-26 & 2018-07-22 & 2 & XTLYE1234  & RJV280     & WWUZ0      & DUEPTZZTXU\\\\\n",
       "\t 6 & 2021-12-30 & 1505506190 & 2019-03-18 & 2019-04-25 & 1 & O4NJIAIIVM & 0209SKF    & MXHBK0GVH  & YXHRUMMKTC\\\\\n",
       "\t 4 & 2021-12-30 & 2051918453 & 2019-02-16 & 2018-09-16 & 2 & GXNQHLS    & K9TSDH     & 7D8FZ9B8MW & 6DMJGEI   \\\\\n",
       "\t 4 & 2021-12-30 & 6009829428 & 2019-03-18 & 2018-09-16 & 2 & MZXZYPX    & BCIY7YK2SK & GR5EBYO    & 8UQMYL4   \\\\\n",
       "\t 9 & 2021-12-30 & 7668618696 & 2018-02-11 & 2018-07-28 & 2 & 2FIUI6SLL  & BWP5WIK    & DPNQIDCL   & PWROT     \\\\\n",
       "\t 3 & 2021-12-30 & 2274652695 & 2018-02-23 & 2018-07-22 & 2 & SR5NY      & YPT1234UHP & BXJAD      & NTTPSY6XOG\\\\\n",
       "\\end{tabular}\n"
      ],
      "text/markdown": [
       "\n",
       "A data.table: 6 × 10\n",
       "\n",
       "| id &lt;int&gt; | birth_date &lt;dttm&gt; | NDC &lt;int64&gt; | service_date &lt;dttm&gt; | enroll_date &lt;dttm&gt; | gender &lt;int&gt; | code1 &lt;chr&gt; | code2 &lt;chr&gt; | code3 &lt;chr&gt; | code4 &lt;chr&gt; |\n",
       "|---|---|---|---|---|---|---|---|---|---|\n",
       "| 3 | 2021-12-30 | 6020429411 | 2018-08-26 | 2018-07-22 | 2 | XTLYE1234  | RJV280     | WWUZ0      | DUEPTZZTXU |\n",
       "| 6 | 2021-12-30 | 1505506190 | 2019-03-18 | 2019-04-25 | 1 | O4NJIAIIVM | 0209SKF    | MXHBK0GVH  | YXHRUMMKTC |\n",
       "| 4 | 2021-12-30 | 2051918453 | 2019-02-16 | 2018-09-16 | 2 | GXNQHLS    | K9TSDH     | 7D8FZ9B8MW | 6DMJGEI    |\n",
       "| 4 | 2021-12-30 | 6009829428 | 2019-03-18 | 2018-09-16 | 2 | MZXZYPX    | BCIY7YK2SK | GR5EBYO    | 8UQMYL4    |\n",
       "| 9 | 2021-12-30 | 7668618696 | 2018-02-11 | 2018-07-28 | 2 | 2FIUI6SLL  | BWP5WIK    | DPNQIDCL   | PWROT      |\n",
       "| 3 | 2021-12-30 | 2274652695 | 2018-02-23 | 2018-07-22 | 2 | SR5NY      | YPT1234UHP | BXJAD      | NTTPSY6XOG |\n",
       "\n"
      ],
      "text/plain": [
       "  id birth_date NDC        service_date enroll_date gender code1     \n",
       "1 3  2021-12-30 6020429411 2018-08-26   2018-07-22  2      XTLYE1234 \n",
       "2 6  2021-12-30 1505506190 2019-03-18   2019-04-25  1      O4NJIAIIVM\n",
       "3 4  2021-12-30 2051918453 2019-02-16   2018-09-16  2      GXNQHLS   \n",
       "4 4  2021-12-30 6009829428 2019-03-18   2018-09-16  2      MZXZYPX   \n",
       "5 9  2021-12-30 7668618696 2018-02-11   2018-07-28  2      2FIUI6SLL \n",
       "6 3  2021-12-30 2274652695 2018-02-23   2018-07-22  2      SR5NY     \n",
       "  code2      code3      code4     \n",
       "1 RJV280     WWUZ0      DUEPTZZTXU\n",
       "2 0209SKF    MXHBK0GVH  YXHRUMMKTC\n",
       "3 K9TSDH     7D8FZ9B8MW 6DMJGEI   \n",
       "4 BCIY7YK2SK GR5EBYO    8UQMYL4   \n",
       "5 BWP5WIK    DPNQIDCL   PWROT     \n",
       "6 YPT1234UHP BXJAD      NTTPSY6XOG"
      ]
     },
     "metadata": {},
     "output_type": "display_data"
    }
   ],
   "source": [
    "head(Claims)"
   ]
  },
  {
   "cell_type": "code",
   "execution_count": 29,
   "metadata": {},
   "outputs": [
    {
     "data": {
      "text/html": [
       "<table class=\"dataframe\">\n",
       "<caption>A data.table: 1 × 10</caption>\n",
       "<thead>\n",
       "\t<tr><th scope=col>id</th><th scope=col>birth_date</th><th scope=col>NDC</th><th scope=col>service_date</th><th scope=col>enroll_date</th><th scope=col>gender</th><th scope=col>code1</th><th scope=col>code2</th><th scope=col>code3</th><th scope=col>code4</th></tr>\n",
       "\t<tr><th scope=col>&lt;int&gt;</th><th scope=col>&lt;dttm&gt;</th><th scope=col>&lt;int64&gt;</th><th scope=col>&lt;dttm&gt;</th><th scope=col>&lt;dttm&gt;</th><th scope=col>&lt;int&gt;</th><th scope=col>&lt;chr&gt;</th><th scope=col>&lt;chr&gt;</th><th scope=col>&lt;chr&gt;</th><th scope=col>&lt;chr&gt;</th></tr>\n",
       "</thead>\n",
       "<tbody>\n",
       "\t<tr><td>8</td><td>2021-12-30</td><td>8063068092</td><td>2019-03-30</td><td>2019-05-31</td><td>1</td><td>A0VCZFU</td><td>QNXQ0KW66Z</td><td>SEFMD3O</td><td>UUTLU6J</td></tr>\n",
       "</tbody>\n",
       "</table>\n"
      ],
      "text/latex": [
       "A data.table: 1 × 10\n",
       "\\begin{tabular}{llllllllll}\n",
       " id & birth\\_date & NDC & service\\_date & enroll\\_date & gender & code1 & code2 & code3 & code4\\\\\n",
       " <int> & <dttm> & <int64> & <dttm> & <dttm> & <int> & <chr> & <chr> & <chr> & <chr>\\\\\n",
       "\\hline\n",
       "\t 8 & 2021-12-30 & 8063068092 & 2019-03-30 & 2019-05-31 & 1 & A0VCZFU & QNXQ0KW66Z & SEFMD3O & UUTLU6J\\\\\n",
       "\\end{tabular}\n"
      ],
      "text/markdown": [
       "\n",
       "A data.table: 1 × 10\n",
       "\n",
       "| id &lt;int&gt; | birth_date &lt;dttm&gt; | NDC &lt;int64&gt; | service_date &lt;dttm&gt; | enroll_date &lt;dttm&gt; | gender &lt;int&gt; | code1 &lt;chr&gt; | code2 &lt;chr&gt; | code3 &lt;chr&gt; | code4 &lt;chr&gt; |\n",
       "|---|---|---|---|---|---|---|---|---|---|\n",
       "| 8 | 2021-12-30 | 8063068092 | 2019-03-30 | 2019-05-31 | 1 | A0VCZFU | QNXQ0KW66Z | SEFMD3O | UUTLU6J |\n",
       "\n"
      ],
      "text/plain": [
       "  id birth_date NDC        service_date enroll_date gender code1   code2     \n",
       "1 8  2021-12-30 8063068092 2019-03-30   2019-05-31  1      A0VCZFU QNXQ0KW66Z\n",
       "  code3   code4  \n",
       "1 SEFMD3O UUTLU6J"
      ]
     },
     "metadata": {},
     "output_type": "display_data"
    }
   ],
   "source": [
    "Claims[code1 %like% \"^A0\"]"
   ]
  },
  {
   "cell_type": "markdown",
   "metadata": {},
   "source": [
    "## (iii)"
   ]
  },
  {
   "cell_type": "markdown",
   "metadata": {},
   "source": [
    "Here's a trick: we can first concatenate all the code columns separated by a dummy character like `_`, and then just look for either \"1234\" or \"4321\" in that full string. This will tell us if we have a substring existing in *any* of the codes.\n",
    "\n",
    "In order to check if either of two substrings exists, we can use `sapply` to check for one in a vector `str`, and then the other."
   ]
  },
  {
   "cell_type": "code",
   "execution_count": 30,
   "metadata": {},
   "outputs": [],
   "source": [
    "str = c(\"1234\", \"4321\")\n",
    "\n",
    "Claims[, flag:=any(sapply(str, grepl, do.call(paste, c(.SD, sep = \"_\")))), by=seq_len(nrow(Claims)), .SDcols=code_cols]"
   ]
  },
  {
   "cell_type": "markdown",
   "metadata": {},
   "source": [
    "Then we just want to know if *any* flag has happened for a single id in a particular month, which just involves taking the max of all the flags in that id+year+month combo."
   ]
  },
  {
   "cell_type": "code",
   "execution_count": 31,
   "metadata": {},
   "outputs": [],
   "source": [
    "# aggregate by id, year, month level\n",
    "Claims[, year:=year(service_date)]\n",
    "Claims[, month:=month(service_date)]\n",
    "monthly_flag = Claims[, .(flag=max(flag)) , by=.(id, year, month)]"
   ]
  },
  {
   "cell_type": "markdown",
   "metadata": {},
   "source": [
    "Ordering by year+month is crucial for the flag2+group calculation step because it relies on a cumulative sum, which will of course be incorrect if the rows aren't in order within a particular id."
   ]
  },
  {
   "cell_type": "code",
   "execution_count": 32,
   "metadata": {},
   "outputs": [],
   "source": [
    "monthly_flag = monthly_flag[order(rank(id), year, month)]"
   ]
  },
  {
   "cell_type": "markdown",
   "metadata": {},
   "source": [
    "Then the `flag2` is just whether the running sum has \"gotten of the ground\" yet, i.e. is not 0, and `group` really is just the running sum."
   ]
  },
  {
   "cell_type": "code",
   "execution_count": 33,
   "metadata": {},
   "outputs": [],
   "source": [
    "flag_calc = function(flags) {\n",
    "    running_sum = cumsum(flags)\n",
    "    flag2 = 1*(running_sum > 0)\n",
    "    group = running_sum\n",
    "    return(list(flag2, group))\n",
    "}\n",
    "\n",
    "monthly_flag[, c(\"flag2\", \"group\"):=flag_calc(flag), by=id]"
   ]
  },
  {
   "cell_type": "code",
   "execution_count": 34,
   "metadata": {
    "scrolled": true
   },
   "outputs": [
    {
     "data": {
      "text/html": [
       "<table class=\"dataframe\">\n",
       "<caption>A data.table: 12 × 6</caption>\n",
       "<thead>\n",
       "\t<tr><th scope=col>id</th><th scope=col>year</th><th scope=col>month</th><th scope=col>flag</th><th scope=col>flag2</th><th scope=col>group</th></tr>\n",
       "\t<tr><th scope=col>&lt;int&gt;</th><th scope=col>&lt;int&gt;</th><th scope=col>&lt;int&gt;</th><th scope=col>&lt;int&gt;</th><th scope=col>&lt;dbl&gt;</th><th scope=col>&lt;int&gt;</th></tr>\n",
       "</thead>\n",
       "<tbody>\n",
       "\t<tr><td>3</td><td>2018</td><td> 1</td><td>0</td><td>0</td><td>0</td></tr>\n",
       "\t<tr><td>3</td><td>2018</td><td> 2</td><td>1</td><td>1</td><td>1</td></tr>\n",
       "\t<tr><td>3</td><td>2018</td><td> 3</td><td>0</td><td>1</td><td>1</td></tr>\n",
       "\t<tr><td>3</td><td>2018</td><td> 4</td><td>0</td><td>1</td><td>1</td></tr>\n",
       "\t<tr><td>3</td><td>2018</td><td> 5</td><td>0</td><td>1</td><td>1</td></tr>\n",
       "\t<tr><td>3</td><td>2018</td><td> 6</td><td>0</td><td>1</td><td>1</td></tr>\n",
       "\t<tr><td>3</td><td>2018</td><td> 7</td><td>0</td><td>1</td><td>1</td></tr>\n",
       "\t<tr><td>3</td><td>2018</td><td> 8</td><td>1</td><td>1</td><td>2</td></tr>\n",
       "\t<tr><td>3</td><td>2019</td><td> 1</td><td>0</td><td>1</td><td>2</td></tr>\n",
       "\t<tr><td>3</td><td>2019</td><td> 5</td><td>0</td><td>1</td><td>2</td></tr>\n",
       "\t<tr><td>3</td><td>2019</td><td> 6</td><td>0</td><td>1</td><td>2</td></tr>\n",
       "\t<tr><td>3</td><td>2019</td><td>11</td><td>0</td><td>1</td><td>2</td></tr>\n",
       "</tbody>\n",
       "</table>\n"
      ],
      "text/latex": [
       "A data.table: 12 × 6\n",
       "\\begin{tabular}{llllll}\n",
       " id & year & month & flag & flag2 & group\\\\\n",
       " <int> & <int> & <int> & <int> & <dbl> & <int>\\\\\n",
       "\\hline\n",
       "\t 3 & 2018 &  1 & 0 & 0 & 0\\\\\n",
       "\t 3 & 2018 &  2 & 1 & 1 & 1\\\\\n",
       "\t 3 & 2018 &  3 & 0 & 1 & 1\\\\\n",
       "\t 3 & 2018 &  4 & 0 & 1 & 1\\\\\n",
       "\t 3 & 2018 &  5 & 0 & 1 & 1\\\\\n",
       "\t 3 & 2018 &  6 & 0 & 1 & 1\\\\\n",
       "\t 3 & 2018 &  7 & 0 & 1 & 1\\\\\n",
       "\t 3 & 2018 &  8 & 1 & 1 & 2\\\\\n",
       "\t 3 & 2019 &  1 & 0 & 1 & 2\\\\\n",
       "\t 3 & 2019 &  5 & 0 & 1 & 2\\\\\n",
       "\t 3 & 2019 &  6 & 0 & 1 & 2\\\\\n",
       "\t 3 & 2019 & 11 & 0 & 1 & 2\\\\\n",
       "\\end{tabular}\n"
      ],
      "text/markdown": [
       "\n",
       "A data.table: 12 × 6\n",
       "\n",
       "| id &lt;int&gt; | year &lt;int&gt; | month &lt;int&gt; | flag &lt;int&gt; | flag2 &lt;dbl&gt; | group &lt;int&gt; |\n",
       "|---|---|---|---|---|---|\n",
       "| 3 | 2018 |  1 | 0 | 0 | 0 |\n",
       "| 3 | 2018 |  2 | 1 | 1 | 1 |\n",
       "| 3 | 2018 |  3 | 0 | 1 | 1 |\n",
       "| 3 | 2018 |  4 | 0 | 1 | 1 |\n",
       "| 3 | 2018 |  5 | 0 | 1 | 1 |\n",
       "| 3 | 2018 |  6 | 0 | 1 | 1 |\n",
       "| 3 | 2018 |  7 | 0 | 1 | 1 |\n",
       "| 3 | 2018 |  8 | 1 | 1 | 2 |\n",
       "| 3 | 2019 |  1 | 0 | 1 | 2 |\n",
       "| 3 | 2019 |  5 | 0 | 1 | 2 |\n",
       "| 3 | 2019 |  6 | 0 | 1 | 2 |\n",
       "| 3 | 2019 | 11 | 0 | 1 | 2 |\n",
       "\n"
      ],
      "text/plain": [
       "   id year month flag flag2 group\n",
       "1  3  2018  1    0    0     0    \n",
       "2  3  2018  2    1    1     1    \n",
       "3  3  2018  3    0    1     1    \n",
       "4  3  2018  4    0    1     1    \n",
       "5  3  2018  5    0    1     1    \n",
       "6  3  2018  6    0    1     1    \n",
       "7  3  2018  7    0    1     1    \n",
       "8  3  2018  8    1    1     2    \n",
       "9  3  2019  1    0    1     2    \n",
       "10 3  2019  5    0    1     2    \n",
       "11 3  2019  6    0    1     2    \n",
       "12 3  2019 11    0    1     2    "
      ]
     },
     "metadata": {},
     "output_type": "display_data"
    }
   ],
   "source": [
    "monthly_flag[order(rank(id), year, month)][id==3]"
   ]
  },
  {
   "cell_type": "markdown",
   "metadata": {},
   "source": [
    "# (i)"
   ]
  },
  {
   "cell_type": "code",
   "execution_count": 35,
   "metadata": {},
   "outputs": [],
   "source": [
    "Claims[, modifier1:=sample(c(\"U\", \"T\", \"\"), size=N, replace=TRUE)]"
   ]
  },
  {
   "cell_type": "markdown",
   "metadata": {},
   "source": [
    "Once I generated the fake `modifier1` data, I changed just one row to make the check for `Flag3` actually detect something."
   ]
  },
  {
   "cell_type": "code",
   "execution_count": 36,
   "metadata": {},
   "outputs": [],
   "source": [
    "Claims = fread(\"pre_flag3.csv\", header=T)"
   ]
  },
  {
   "cell_type": "markdown",
   "metadata": {},
   "source": [
    "In particular, I made exactly one row follow the desired `code1` format."
   ]
  },
  {
   "cell_type": "code",
   "execution_count": 37,
   "metadata": {},
   "outputs": [
    {
     "data": {
      "text/html": [
       "<table class=\"dataframe\">\n",
       "<caption>A data.table: 1 × 14</caption>\n",
       "<thead>\n",
       "\t<tr><th scope=col>id</th><th scope=col>birth_date</th><th scope=col>NDC</th><th scope=col>service_date</th><th scope=col>enroll_date</th><th scope=col>gender</th><th scope=col>code1</th><th scope=col>code2</th><th scope=col>code3</th><th scope=col>code4</th><th scope=col>flag</th><th scope=col>year</th><th scope=col>month</th><th scope=col>modifier1</th></tr>\n",
       "\t<tr><th scope=col>&lt;int&gt;</th><th scope=col>&lt;chr&gt;</th><th scope=col>&lt;int64&gt;</th><th scope=col>&lt;chr&gt;</th><th scope=col>&lt;chr&gt;</th><th scope=col>&lt;int&gt;</th><th scope=col>&lt;chr&gt;</th><th scope=col>&lt;chr&gt;</th><th scope=col>&lt;chr&gt;</th><th scope=col>&lt;chr&gt;</th><th scope=col>&lt;lgl&gt;</th><th scope=col>&lt;int&gt;</th><th scope=col>&lt;int&gt;</th><th scope=col>&lt;chr&gt;</th></tr>\n",
       "</thead>\n",
       "<tbody>\n",
       "\t<tr><td>9</td><td>12/30/2021</td><td>7668618696</td><td>2/11/2018</td><td>7/28/2018</td><td>2</td><td>A02FIUI6SLL9</td><td>BWP5WIK</td><td>DPNQIDCL</td><td>PWROT</td><td>FALSE</td><td>2018</td><td>2</td><td>U</td></tr>\n",
       "</tbody>\n",
       "</table>\n"
      ],
      "text/latex": [
       "A data.table: 1 × 14\n",
       "\\begin{tabular}{llllllllllllll}\n",
       " id & birth\\_date & NDC & service\\_date & enroll\\_date & gender & code1 & code2 & code3 & code4 & flag & year & month & modifier1\\\\\n",
       " <int> & <chr> & <int64> & <chr> & <chr> & <int> & <chr> & <chr> & <chr> & <chr> & <lgl> & <int> & <int> & <chr>\\\\\n",
       "\\hline\n",
       "\t 9 & 12/30/2021 & 7668618696 & 2/11/2018 & 7/28/2018 & 2 & A02FIUI6SLL9 & BWP5WIK & DPNQIDCL & PWROT & FALSE & 2018 & 2 & U\\\\\n",
       "\\end{tabular}\n"
      ],
      "text/markdown": [
       "\n",
       "A data.table: 1 × 14\n",
       "\n",
       "| id &lt;int&gt; | birth_date &lt;chr&gt; | NDC &lt;int64&gt; | service_date &lt;chr&gt; | enroll_date &lt;chr&gt; | gender &lt;int&gt; | code1 &lt;chr&gt; | code2 &lt;chr&gt; | code3 &lt;chr&gt; | code4 &lt;chr&gt; | flag &lt;lgl&gt; | year &lt;int&gt; | month &lt;int&gt; | modifier1 &lt;chr&gt; |\n",
       "|---|---|---|---|---|---|---|---|---|---|---|---|---|---|\n",
       "| 9 | 12/30/2021 | 7668618696 | 2/11/2018 | 7/28/2018 | 2 | A02FIUI6SLL9 | BWP5WIK | DPNQIDCL | PWROT | FALSE | 2018 | 2 | U |\n",
       "\n"
      ],
      "text/plain": [
       "  id birth_date NDC        service_date enroll_date gender code1        code2  \n",
       "1 9  12/30/2021 7668618696 2/11/2018    7/28/2018   2      A02FIUI6SLL9 BWP5WIK\n",
       "  code3    code4 flag  year month modifier1\n",
       "1 DPNQIDCL PWROT FALSE 2018 2     U        "
      ]
     },
     "metadata": {},
     "output_type": "display_data"
    }
   ],
   "source": [
    "Claims[code1 %like% \"^A0[A-Z0-9]*9$\"]"
   ]
  },
  {
   "cell_type": "markdown",
   "metadata": {},
   "source": [
    "And notice it also has a `U` modifier, so this should be the one and only row with `Flag3==1`."
   ]
  },
  {
   "cell_type": "code",
   "execution_count": 38,
   "metadata": {},
   "outputs": [],
   "source": [
    "Claims[, Flag3:=(grepl(paste0(\"^A0[A-Z0-9]*9$\"),code1) & modifier1 == \"U\")]"
   ]
  },
  {
   "cell_type": "code",
   "execution_count": 39,
   "metadata": {},
   "outputs": [
    {
     "data": {
      "text/html": [
       "<table class=\"dataframe\">\n",
       "<caption>A data.table: 6 × 15</caption>\n",
       "<thead>\n",
       "\t<tr><th scope=col>id</th><th scope=col>birth_date</th><th scope=col>NDC</th><th scope=col>service_date</th><th scope=col>enroll_date</th><th scope=col>gender</th><th scope=col>code1</th><th scope=col>code2</th><th scope=col>code3</th><th scope=col>code4</th><th scope=col>flag</th><th scope=col>year</th><th scope=col>month</th><th scope=col>modifier1</th><th scope=col>Flag3</th></tr>\n",
       "\t<tr><th scope=col>&lt;int&gt;</th><th scope=col>&lt;chr&gt;</th><th scope=col>&lt;int64&gt;</th><th scope=col>&lt;chr&gt;</th><th scope=col>&lt;chr&gt;</th><th scope=col>&lt;int&gt;</th><th scope=col>&lt;chr&gt;</th><th scope=col>&lt;chr&gt;</th><th scope=col>&lt;chr&gt;</th><th scope=col>&lt;chr&gt;</th><th scope=col>&lt;lgl&gt;</th><th scope=col>&lt;int&gt;</th><th scope=col>&lt;int&gt;</th><th scope=col>&lt;chr&gt;</th><th scope=col>&lt;lgl&gt;</th></tr>\n",
       "</thead>\n",
       "<tbody>\n",
       "\t<tr><td>3</td><td>12/30/2021</td><td>6020429411</td><td>8/26/2018</td><td>7/22/2018</td><td>2</td><td>XTLYE1234   </td><td>RJV280    </td><td>WWUZ0     </td><td>DUEPTZZTXU</td><td> TRUE</td><td>2018</td><td>8</td><td>T</td><td>FALSE</td></tr>\n",
       "\t<tr><td>6</td><td>12/30/2021</td><td>1505506190</td><td>3/18/2019</td><td>4/25/2019</td><td>1</td><td>O4NJIAIIVM  </td><td>0209SKF   </td><td>MXHBK0GVH </td><td>YXHRUMMKTC</td><td>FALSE</td><td>2019</td><td>3</td><td> </td><td>FALSE</td></tr>\n",
       "\t<tr><td>4</td><td>12/30/2021</td><td>2051918453</td><td>2/16/2019</td><td>9/16/2018</td><td>2</td><td>GXNQHLS     </td><td>K9TSDH    </td><td>7D8FZ9B8MW</td><td>6DMJGEI   </td><td>FALSE</td><td>2019</td><td>2</td><td>T</td><td>FALSE</td></tr>\n",
       "\t<tr><td>4</td><td>12/30/2021</td><td>6009829428</td><td>3/18/2019</td><td>9/16/2018</td><td>2</td><td>MZXZYPX     </td><td>BCIY7YK2SK</td><td>GR5EBYO   </td><td>8UQMYL4   </td><td>FALSE</td><td>2019</td><td>3</td><td> </td><td>FALSE</td></tr>\n",
       "\t<tr><td>9</td><td>12/30/2021</td><td>7668618696</td><td>2/11/2018</td><td>7/28/2018</td><td>2</td><td>A02FIUI6SLL9</td><td>BWP5WIK   </td><td>DPNQIDCL  </td><td>PWROT     </td><td>FALSE</td><td>2018</td><td>2</td><td>U</td><td> TRUE</td></tr>\n",
       "\t<tr><td>3</td><td>12/30/2021</td><td>2274652695</td><td>2/23/2018</td><td>7/22/2018</td><td>2</td><td>SR5NY       </td><td>YPT1234UHP</td><td>BXJAD     </td><td>NTTPSY6XOG</td><td> TRUE</td><td>2018</td><td>2</td><td> </td><td>FALSE</td></tr>\n",
       "</tbody>\n",
       "</table>\n"
      ],
      "text/latex": [
       "A data.table: 6 × 15\n",
       "\\begin{tabular}{lllllllllllllll}\n",
       " id & birth\\_date & NDC & service\\_date & enroll\\_date & gender & code1 & code2 & code3 & code4 & flag & year & month & modifier1 & Flag3\\\\\n",
       " <int> & <chr> & <int64> & <chr> & <chr> & <int> & <chr> & <chr> & <chr> & <chr> & <lgl> & <int> & <int> & <chr> & <lgl>\\\\\n",
       "\\hline\n",
       "\t 3 & 12/30/2021 & 6020429411 & 8/26/2018 & 7/22/2018 & 2 & XTLYE1234    & RJV280     & WWUZ0      & DUEPTZZTXU &  TRUE & 2018 & 8 & T & FALSE\\\\\n",
       "\t 6 & 12/30/2021 & 1505506190 & 3/18/2019 & 4/25/2019 & 1 & O4NJIAIIVM   & 0209SKF    & MXHBK0GVH  & YXHRUMMKTC & FALSE & 2019 & 3 &   & FALSE\\\\\n",
       "\t 4 & 12/30/2021 & 2051918453 & 2/16/2019 & 9/16/2018 & 2 & GXNQHLS      & K9TSDH     & 7D8FZ9B8MW & 6DMJGEI    & FALSE & 2019 & 2 & T & FALSE\\\\\n",
       "\t 4 & 12/30/2021 & 6009829428 & 3/18/2019 & 9/16/2018 & 2 & MZXZYPX      & BCIY7YK2SK & GR5EBYO    & 8UQMYL4    & FALSE & 2019 & 3 &   & FALSE\\\\\n",
       "\t 9 & 12/30/2021 & 7668618696 & 2/11/2018 & 7/28/2018 & 2 & A02FIUI6SLL9 & BWP5WIK    & DPNQIDCL   & PWROT      & FALSE & 2018 & 2 & U &  TRUE\\\\\n",
       "\t 3 & 12/30/2021 & 2274652695 & 2/23/2018 & 7/22/2018 & 2 & SR5NY        & YPT1234UHP & BXJAD      & NTTPSY6XOG &  TRUE & 2018 & 2 &   & FALSE\\\\\n",
       "\\end{tabular}\n"
      ],
      "text/markdown": [
       "\n",
       "A data.table: 6 × 15\n",
       "\n",
       "| id &lt;int&gt; | birth_date &lt;chr&gt; | NDC &lt;int64&gt; | service_date &lt;chr&gt; | enroll_date &lt;chr&gt; | gender &lt;int&gt; | code1 &lt;chr&gt; | code2 &lt;chr&gt; | code3 &lt;chr&gt; | code4 &lt;chr&gt; | flag &lt;lgl&gt; | year &lt;int&gt; | month &lt;int&gt; | modifier1 &lt;chr&gt; | Flag3 &lt;lgl&gt; |\n",
       "|---|---|---|---|---|---|---|---|---|---|---|---|---|---|---|\n",
       "| 3 | 12/30/2021 | 6020429411 | 8/26/2018 | 7/22/2018 | 2 | XTLYE1234    | RJV280     | WWUZ0      | DUEPTZZTXU |  TRUE | 2018 | 8 | T | FALSE |\n",
       "| 6 | 12/30/2021 | 1505506190 | 3/18/2019 | 4/25/2019 | 1 | O4NJIAIIVM   | 0209SKF    | MXHBK0GVH  | YXHRUMMKTC | FALSE | 2019 | 3 | <!----> | FALSE |\n",
       "| 4 | 12/30/2021 | 2051918453 | 2/16/2019 | 9/16/2018 | 2 | GXNQHLS      | K9TSDH     | 7D8FZ9B8MW | 6DMJGEI    | FALSE | 2019 | 2 | T | FALSE |\n",
       "| 4 | 12/30/2021 | 6009829428 | 3/18/2019 | 9/16/2018 | 2 | MZXZYPX      | BCIY7YK2SK | GR5EBYO    | 8UQMYL4    | FALSE | 2019 | 3 | <!----> | FALSE |\n",
       "| 9 | 12/30/2021 | 7668618696 | 2/11/2018 | 7/28/2018 | 2 | A02FIUI6SLL9 | BWP5WIK    | DPNQIDCL   | PWROT      | FALSE | 2018 | 2 | U |  TRUE |\n",
       "| 3 | 12/30/2021 | 2274652695 | 2/23/2018 | 7/22/2018 | 2 | SR5NY        | YPT1234UHP | BXJAD      | NTTPSY6XOG |  TRUE | 2018 | 2 | <!----> | FALSE |\n",
       "\n"
      ],
      "text/plain": [
       "  id birth_date NDC        service_date enroll_date gender code1       \n",
       "1 3  12/30/2021 6020429411 8/26/2018    7/22/2018   2      XTLYE1234   \n",
       "2 6  12/30/2021 1505506190 3/18/2019    4/25/2019   1      O4NJIAIIVM  \n",
       "3 4  12/30/2021 2051918453 2/16/2019    9/16/2018   2      GXNQHLS     \n",
       "4 4  12/30/2021 6009829428 3/18/2019    9/16/2018   2      MZXZYPX     \n",
       "5 9  12/30/2021 7668618696 2/11/2018    7/28/2018   2      A02FIUI6SLL9\n",
       "6 3  12/30/2021 2274652695 2/23/2018    7/22/2018   2      SR5NY       \n",
       "  code2      code3      code4      flag  year month modifier1 Flag3\n",
       "1 RJV280     WWUZ0      DUEPTZZTXU  TRUE 2018 8     T         FALSE\n",
       "2 0209SKF    MXHBK0GVH  YXHRUMMKTC FALSE 2019 3               FALSE\n",
       "3 K9TSDH     7D8FZ9B8MW 6DMJGEI    FALSE 2019 2     T         FALSE\n",
       "4 BCIY7YK2SK GR5EBYO    8UQMYL4    FALSE 2019 3               FALSE\n",
       "5 BWP5WIK    DPNQIDCL   PWROT      FALSE 2018 2     U          TRUE\n",
       "6 YPT1234UHP BXJAD      NTTPSY6XOG  TRUE 2018 2               FALSE"
      ]
     },
     "metadata": {},
     "output_type": "display_data"
    }
   ],
   "source": [
    "head(Claims)"
   ]
  },
  {
   "cell_type": "code",
   "execution_count": 40,
   "metadata": {},
   "outputs": [
    {
     "data": {
      "text/html": [
       "<table class=\"dataframe\">\n",
       "<caption>A data.table: 1 × 15</caption>\n",
       "<thead>\n",
       "\t<tr><th scope=col>id</th><th scope=col>birth_date</th><th scope=col>NDC</th><th scope=col>service_date</th><th scope=col>enroll_date</th><th scope=col>gender</th><th scope=col>code1</th><th scope=col>code2</th><th scope=col>code3</th><th scope=col>code4</th><th scope=col>flag</th><th scope=col>year</th><th scope=col>month</th><th scope=col>modifier1</th><th scope=col>Flag3</th></tr>\n",
       "\t<tr><th scope=col>&lt;int&gt;</th><th scope=col>&lt;chr&gt;</th><th scope=col>&lt;int64&gt;</th><th scope=col>&lt;chr&gt;</th><th scope=col>&lt;chr&gt;</th><th scope=col>&lt;int&gt;</th><th scope=col>&lt;chr&gt;</th><th scope=col>&lt;chr&gt;</th><th scope=col>&lt;chr&gt;</th><th scope=col>&lt;chr&gt;</th><th scope=col>&lt;lgl&gt;</th><th scope=col>&lt;int&gt;</th><th scope=col>&lt;int&gt;</th><th scope=col>&lt;chr&gt;</th><th scope=col>&lt;lgl&gt;</th></tr>\n",
       "</thead>\n",
       "<tbody>\n",
       "\t<tr><td>9</td><td>12/30/2021</td><td>7668618696</td><td>2/11/2018</td><td>7/28/2018</td><td>2</td><td>A02FIUI6SLL9</td><td>BWP5WIK</td><td>DPNQIDCL</td><td>PWROT</td><td>FALSE</td><td>2018</td><td>2</td><td>U</td><td>TRUE</td></tr>\n",
       "</tbody>\n",
       "</table>\n"
      ],
      "text/latex": [
       "A data.table: 1 × 15\n",
       "\\begin{tabular}{lllllllllllllll}\n",
       " id & birth\\_date & NDC & service\\_date & enroll\\_date & gender & code1 & code2 & code3 & code4 & flag & year & month & modifier1 & Flag3\\\\\n",
       " <int> & <chr> & <int64> & <chr> & <chr> & <int> & <chr> & <chr> & <chr> & <chr> & <lgl> & <int> & <int> & <chr> & <lgl>\\\\\n",
       "\\hline\n",
       "\t 9 & 12/30/2021 & 7668618696 & 2/11/2018 & 7/28/2018 & 2 & A02FIUI6SLL9 & BWP5WIK & DPNQIDCL & PWROT & FALSE & 2018 & 2 & U & TRUE\\\\\n",
       "\\end{tabular}\n"
      ],
      "text/markdown": [
       "\n",
       "A data.table: 1 × 15\n",
       "\n",
       "| id &lt;int&gt; | birth_date &lt;chr&gt; | NDC &lt;int64&gt; | service_date &lt;chr&gt; | enroll_date &lt;chr&gt; | gender &lt;int&gt; | code1 &lt;chr&gt; | code2 &lt;chr&gt; | code3 &lt;chr&gt; | code4 &lt;chr&gt; | flag &lt;lgl&gt; | year &lt;int&gt; | month &lt;int&gt; | modifier1 &lt;chr&gt; | Flag3 &lt;lgl&gt; |\n",
       "|---|---|---|---|---|---|---|---|---|---|---|---|---|---|---|\n",
       "| 9 | 12/30/2021 | 7668618696 | 2/11/2018 | 7/28/2018 | 2 | A02FIUI6SLL9 | BWP5WIK | DPNQIDCL | PWROT | FALSE | 2018 | 2 | U | TRUE |\n",
       "\n"
      ],
      "text/plain": [
       "  id birth_date NDC        service_date enroll_date gender code1        code2  \n",
       "1 9  12/30/2021 7668618696 2/11/2018    7/28/2018   2      A02FIUI6SLL9 BWP5WIK\n",
       "  code3    code4 flag  year month modifier1 Flag3\n",
       "1 DPNQIDCL PWROT FALSE 2018 2     U         TRUE "
      ]
     },
     "metadata": {},
     "output_type": "display_data"
    }
   ],
   "source": [
    "Claims[Flag3==TRUE]"
   ]
  }
 ],
 "metadata": {
  "kernelspec": {
   "display_name": "R",
   "language": "R",
   "name": "ir"
  },
  "language_info": {
   "codemirror_mode": "r",
   "file_extension": ".r",
   "mimetype": "text/x-r-source",
   "name": "R",
   "pygments_lexer": "r",
   "version": "4.0.5"
  }
 },
 "nbformat": 4,
 "nbformat_minor": 4
}
